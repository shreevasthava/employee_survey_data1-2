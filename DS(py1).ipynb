{
 "cells": [
  {
   "cell_type": "code",
   "execution_count": null,
   "id": "a9bd6275-5fda-4e06-be8f-33f36ea8dbc2",
   "metadata": {},
   "outputs": [],
   "source": [
    "language is nothing is but a communication tool used to express things .\n",
    "programming languages is used to command the computer to do things we need .\n",
    "Programming languages is of two types : low level and high level .\n",
    "low level : the language which is quite similar to machine language . machine language which consists of binary digits.\n",
    "ex:assembly , fortran , pascal\n",
    "high level : the language which is in human readable format .ex:python, java \n",
    "compiler and interpreter : compiler will convert the program into machine level language all at once .\n",
    "Interpreter converts the program line by line ."
   ]
  },
  {
   "cell_type": "code",
   "execution_count": null,
   "id": "56525477-8191-46ff-8ed2-7a7a048b5e7a",
   "metadata": {},
   "outputs": [],
   "source": [
    "variables, data types, literal and its types, operators, print statement \n",
    "octalnumber system(8) (0-7), hexadecimal(16)(0-9,a-f), binary(2)(0,1), decimal(10)\n",
    "(4123)8=\n",
    "3x8^0+2x8^1+1x8^2+4x8^3\n",
    "print(0o4123)"
   ]
  },
  {
   "cell_type": "code",
   "execution_count": 2,
   "id": "37eefb14-9134-4b8c-9190-337b99a5bf50",
   "metadata": {},
   "outputs": [
    {
     "name": "stdout",
     "output_type": "stream",
     "text": [
      "2131\n"
     ]
    }
   ],
   "source": [
    "print(0o4123)"
   ]
  },
  {
   "cell_type": "code",
   "execution_count": 3,
   "id": "7e0022a5-f6ab-4e4b-9a9d-ff954e9fc450",
   "metadata": {},
   "outputs": [
    {
     "name": "stdout",
     "output_type": "stream",
     "text": [
      "158 85\n"
     ]
    }
   ],
   "source": [
    "print(0o236, 0o125)"
   ]
  },
  {
   "cell_type": "code",
   "execution_count": 4,
   "id": "21523ef4-639a-4525-8803-f5146b09eb07",
   "metadata": {},
   "outputs": [
    {
     "name": "stdout",
     "output_type": "stream",
     "text": [
      "80981\n"
     ]
    }
   ],
   "source": [
    "print(0o236125)"
   ]
  },
  {
   "cell_type": "code",
   "execution_count": null,
   "id": "cb4d98e4-41a3-4bb4-a0a9-91b234f139d0",
   "metadata": {},
   "outputs": [],
   "source": [
    "Octal number:\n",
    "1220\n",
    "2345\n",
    "5618 (error)\n",
    "0017\n",
    "0124\n",
    "1672\n"
   ]
  },
  {
   "cell_type": "code",
   "execution_count": 17,
   "id": "2e3af955-37c1-445e-80c2-155eecd1c930",
   "metadata": {},
   "outputs": [
    {
     "name": "stdout",
     "output_type": "stream",
     "text": [
      "656\n",
      "1253\n",
      "15\n",
      "84\n",
      "954\n"
     ]
    }
   ],
   "source": [
    "print(0o1220)\n",
    "print(0o2345)\n",
    "print(0o0017)\n",
    "print(0o0124)\n",
    "print(0o1672)"
   ]
  },
  {
   "cell_type": "code",
   "execution_count": null,
   "id": "9fa4c358-2af3-4b97-9c4c-d3b50bf88479",
   "metadata": {},
   "outputs": [],
   "source": [
    "Octal Number (task)\n",
    "781 (error)\n",
    "345\n",
    "123\n",
    "153\n",
    "876 (error)"
   ]
  },
  {
   "cell_type": "code",
   "execution_count": 16,
   "id": "0198bf6a-58c5-4d5a-8789-982269e21d48",
   "metadata": {},
   "outputs": [
    {
     "name": "stdout",
     "output_type": "stream",
     "text": [
      "229\n",
      "83\n",
      "107\n"
     ]
    }
   ],
   "source": [
    "print(0o345)\n",
    "print(0o123)\n",
    "print(0o153)"
   ]
  },
  {
   "cell_type": "code",
   "execution_count": null,
   "id": "f5532ec1-121a-44b2-beb5-3c6b82ef824c",
   "metadata": {},
   "outputs": [],
   "source": [
    "Hexadecimal number system A2C\n",
    "0 0\n",
    "1 1\n",
    "2 2\n",
    "3 3\n",
    "4 4\n",
    "5 5\n",
    "6 6\n",
    "7 7\n",
    "8 8\n",
    "9 9\n",
    "A 10\n",
    "B 11\n",
    "C 12\n",
    "D 13\n",
    "E 14\n",
    "F 15"
   ]
  },
  {
   "cell_type": "code",
   "execution_count": null,
   "id": "c6c17b0e-723b-46cb-9e4b-50a9b93b9517",
   "metadata": {},
   "outputs": [],
   "source": [
    "A2C\n",
    "12x16^0+2x16^1+10x16^2"
   ]
  },
  {
   "cell_type": "code",
   "execution_count": 5,
   "id": "bb3d94ea-5cc3-4b6c-b30f-36d09ab560e0",
   "metadata": {},
   "outputs": [
    {
     "name": "stdout",
     "output_type": "stream",
     "text": [
      "2604\n"
     ]
    }
   ],
   "source": [
    "print(0xA2C)"
   ]
  },
  {
   "cell_type": "code",
   "execution_count": 6,
   "id": "c4e1aa55-389c-476e-a2a1-495f343c0cb3",
   "metadata": {},
   "outputs": [
    {
     "name": "stdout",
     "output_type": "stream",
     "text": [
      "49905\n"
     ]
    }
   ],
   "source": [
    "print(0xC2F1)"
   ]
  },
  {
   "cell_type": "code",
   "execution_count": null,
   "id": "83cecf12-e084-40f0-a6a8-7d94e065fbfe",
   "metadata": {},
   "outputs": [],
   "source": [
    "Hexadecimal Number (task)\n",
    "C2F\n",
    "AB4\n",
    "12E\n",
    "A42G (error)\n",
    "122D"
   ]
  },
  {
   "cell_type": "code",
   "execution_count": 20,
   "id": "47fc74d3-36d3-4985-ba05-f30ceb5e14ed",
   "metadata": {},
   "outputs": [
    {
     "name": "stdout",
     "output_type": "stream",
     "text": [
      "3119\n",
      "2740\n",
      "302\n",
      "4653\n"
     ]
    }
   ],
   "source": [
    "print(0xC2F)\n",
    "print(0xAB4)\n",
    "print(0x12E)\n",
    "print(0x122D)"
   ]
  },
  {
   "cell_type": "code",
   "execution_count": null,
   "id": "096173d9-7e40-4e7c-9834-b6f22eb88967",
   "metadata": {},
   "outputs": [],
   "source": [
    "Variable declaration \n",
    "Variable should start with uppercase or lowercase letters not numbers and can start with underscore as well \n",
    "Variable can include underscore \n",
    "Variable should not have special characters \n",
    "Variable can have numbers in between but not in beginning \n",
    "Variable is a box or memory to store values and intermediate results"
   ]
  },
  {
   "cell_type": "code",
   "execution_count": null,
   "id": "4fa96ae1-bc55-476f-b1b0-b6b628c05e11",
   "metadata": {},
   "outputs": [],
   "source": [
    "Literals\n",
    "literals is nothing but a fixed values\n",
    "we can alter them to our needs \n",
    "literals is of two types : numeric or non-numeric\n",
    "numeric : int, float \n",
    "non-numeric : string, boolean, character "
   ]
  },
  {
   "cell_type": "code",
   "execution_count": null,
   "id": "432c6a0d-644c-4b91-b5e3-bd01bff5453b",
   "metadata": {},
   "outputs": [],
   "source": [
    "Boolean : boolean contains two of the types : one is false which is only zero ,\n",
    "next true can be number other than 1 or any number other than zero ex:k= true"
   ]
  },
  {
   "cell_type": "code",
   "execution_count": null,
   "id": "3111cb93-a1a7-4262-b77f-a3e3c501b80e",
   "metadata": {},
   "outputs": [],
   "source": [
    "String: the things comes under double quotes ex:name=\"john\""
   ]
  },
  {
   "cell_type": "code",
   "execution_count": 2,
   "id": "adb233fd-0d62-4f7f-8473-159d28340a93",
   "metadata": {},
   "outputs": [
    {
     "name": "stdin",
     "output_type": "stream",
     "text": [
      "Enter your marks: 100\n"
     ]
    },
    {
     "name": "stdout",
     "output_type": "stream",
     "text": [
      "then marks of student 1 is  100\n"
     ]
    }
   ],
   "source": [
    "#input function \n",
    "marks=int(input(\"Enter your marks:\"))\n",
    "print(\"then marks of student 1 is \",marks)"
   ]
  },
  {
   "cell_type": "code",
   "execution_count": 5,
   "id": "1b84a573-379c-4d4d-a98f-96787ce28b30",
   "metadata": {},
   "outputs": [
    {
     "name": "stdin",
     "output_type": "stream",
     "text": [
      "enter your name: john\n"
     ]
    },
    {
     "name": "stdout",
     "output_type": "stream",
     "text": [
      "Good Morning, have a nice day  john\n"
     ]
    }
   ],
   "source": [
    "#string task :-\n",
    "person_name=str(input(\"enter your name:\"))\n",
    "print(\"Good Morning, have a nice day \",person_name )"
   ]
  },
  {
   "cell_type": "code",
   "execution_count": 7,
   "id": "bb300413-39dd-45bf-b3d0-b7fc6eec4e3e",
   "metadata": {},
   "outputs": [
    {
     "name": "stdin",
     "output_type": "stream",
     "text": [
      "Enter your name shree\n",
      "enter your age 20\n",
      "enter your id 1234567890\n"
     ]
    },
    {
     "name": "stdout",
     "output_type": "stream",
     "text": [
      "As you are this passport 1234567890 with the age of 20 and congrats shree you are welcome to our country \n"
     ]
    }
   ],
   "source": [
    "person_name=str(input(\"Enter your name\"))\n",
    "person_age=int(input(\"enter your age\"))\n",
    "passport_id=int(input(\"enter your id\"))\n",
    "print(\"As you are this passport\",passport_id,\"with the age of\",person_age,\"and congrats\",person_name,\"you are welcome to our country \")"
   ]
  },
  {
   "cell_type": "code",
   "execution_count": 8,
   "id": "a6f08b86-cccf-4ec3-944d-72d1eeca148f",
   "metadata": {},
   "outputs": [
    {
     "name": "stdout",
     "output_type": "stream",
     "text": [
      "55\n",
      "45\n",
      "250\n",
      "10.0\n",
      "10\n",
      "312500000\n",
      "0\n"
     ]
    }
   ],
   "source": [
    "#arithmetic operators\n",
    "#addition (+), subtraction (-), multiplication (*), division (/) division always return float type\n",
    "#integer division (//), modulus (%)\n",
    "\n",
    "x=50\n",
    "y=5\n",
    "\n",
    "print(x+y)\n",
    "print(x-y)\n",
    "print(x*y)\n",
    "print(x/y)\n",
    "print(x//y)\n",
    "print(x**y)\n",
    "print(x%y"
   ]
  },
  {
   "cell_type": "code",
   "execution_count": 40,
   "id": "dea3a201-4941-498e-8956-4562ffdac3e5",
   "metadata": {},
   "outputs": [
    {
     "name": "stdout",
     "output_type": "stream",
     "text": [
      "7\n"
     ]
    }
   ],
   "source": [
    "#assignment operators\n",
    "#assignment operator is nothing the operator \n",
    "c=5\n",
    "c+=2\n",
    "print(c)"
   ]
  },
  {
   "cell_type": "code",
   "execution_count": 24,
   "id": "81a1a0dc-30f6-4b8b-8a66-fabf644d3e79",
   "metadata": {},
   "outputs": [
    {
     "name": "stdout",
     "output_type": "stream",
     "text": [
      "3.0\n"
     ]
    }
   ],
   "source": [
    "c-=2\n",
    "print(c)"
   ]
  },
  {
   "cell_type": "code",
   "execution_count": 25,
   "id": "67c60cf7-4c9b-4899-a92a-52fa759ab2e0",
   "metadata": {},
   "outputs": [
    {
     "name": "stdout",
     "output_type": "stream",
     "text": [
      "6.0\n"
     ]
    }
   ],
   "source": [
    "c*=2\n",
    "print(c)"
   ]
  },
  {
   "cell_type": "code",
   "execution_count": 27,
   "id": "0969dddd-9ba2-4dd1-84b8-1d4877c59152",
   "metadata": {},
   "outputs": [
    {
     "name": "stdout",
     "output_type": "stream",
     "text": [
      "1.5\n"
     ]
    }
   ],
   "source": [
    "c/=2\n",
    "print(c)"
   ]
  },
  {
   "cell_type": "code",
   "execution_count": 23,
   "id": "229f1a8b-30f9-4c4c-bdaa-5331da1d53dc",
   "metadata": {},
   "outputs": [
    {
     "name": "stdout",
     "output_type": "stream",
     "text": [
      "False\n",
      "True\n",
      "False\n",
      "True\n",
      "True\n",
      "False\n"
     ]
    }
   ],
   "source": [
    "#comparison operators\n",
    "#operators are the operators that is used to compare two values print the output true or false\n",
    "u=1\n",
    "v=9\n",
    "print(u>v)\n",
    "print(v>u)\n",
    "print(u==v)\n",
    "print(u!=v)\n",
    "print(u<=v)\n",
    "print(u>=v)"
   ]
  },
  {
   "cell_type": "code",
   "execution_count": 42,
   "id": "2730fd63-9f89-4c0e-8b30-22f2cd58c338",
   "metadata": {},
   "outputs": [
    {
     "name": "stdout",
     "output_type": "stream",
     "text": [
      "False\n",
      "True\n",
      "True\n",
      "False\n",
      "True\n",
      "False\n",
      "False\n",
      "True\n"
     ]
    }
   ],
   "source": [
    "#Logical operators : and, or, not \n",
    "b=8\n",
    "c=10\n",
    "b>11 or c>0\n",
    "print(b>11)\n",
    "print(c>0)\n",
    "print(not(b>11))\n",
    "print(not(c>0))\n",
    "print(b>11 or c>0)\n",
    "print(b>11 and c>0)\n",
    "print(not(b>11 or c>0))\n",
    "print(not(b>11 and c>0))"
   ]
  },
  {
   "cell_type": "code",
   "execution_count": 43,
   "id": "0439d050-0e32-4294-9445-1461db882da8",
   "metadata": {},
   "outputs": [
    {
     "name": "stdout",
     "output_type": "stream",
     "text": [
      "126 = 0b1111110\n",
      "49  = 0b110001\n",
      "51  = 0b110011\n",
      "238 = 0b11101110\n"
     ]
    }
   ],
   "source": [
    "#Bitwise operator\n",
    "#   32    16     8    4    2    1\n",
    "#   0     0      0    1    1    1\n",
    "#int to bin \n",
    "a=126\n",
    "a=bin(a)\n",
    "print(\"126 =\",a)\n",
    "\n",
    "b=49\n",
    "b=bin(b)\n",
    "print(\"49  =\",b)\n",
    "\n",
    "c=51\n",
    "c=bin(c)\n",
    "print(\"51  =\",c)\n",
    "\n",
    "d=238\n",
    "d=bin(d)\n",
    "print(\"238 =\",d)"
   ]
  },
  {
   "cell_type": "code",
   "execution_count": 44,
   "id": "d136120c-bb8e-4ea7-b0b7-79f3859cb483",
   "metadata": {},
   "outputs": [
    {
     "name": "stdout",
     "output_type": "stream",
     "text": [
      "126 = 0o176\n",
      "49  = 0o61\n",
      "51  = 0o63\n",
      "238 = 0o356\n"
     ]
    }
   ],
   "source": [
    "#int to oct\n",
    "a=126\n",
    "a=oct(a)\n",
    "print(\"126 =\",a)\n",
    "\n",
    "b=49\n",
    "b=oct(b)\n",
    "print(\"49  =\",b)\n",
    "\n",
    "c=51\n",
    "c=oct(c)\n",
    "print(\"51  =\",c)\n",
    "\n",
    "d=238\n",
    "d=oct(d)\n",
    "print(\"238 =\",d)"
   ]
  },
  {
   "cell_type": "code",
   "execution_count": 45,
   "id": "6a7d4a94-1a89-43bf-b5dc-f0f4db0d1a25",
   "metadata": {},
   "outputs": [
    {
     "name": "stdout",
     "output_type": "stream",
     "text": [
      "126 = 0x7e\n",
      "49  = 0x31\n",
      "51  = 0x33\n",
      "238 = 0xee\n"
     ]
    }
   ],
   "source": [
    "#int to hex\n",
    "a=126\n",
    "a=hex(a)\n",
    "print(\"126 =\",a)\n",
    "\n",
    "b=49\n",
    "b=hex(b)\n",
    "print(\"49  =\",b)\n",
    "\n",
    "c=51\n",
    "c=hex(c)\n",
    "print(\"51  =\",c)\n",
    "\n",
    "d=238\n",
    "d=hex(d)\n",
    "print(\"238 =\",d)"
   ]
  },
  {
   "cell_type": "code",
   "execution_count": null,
   "id": "e03a47a6-766b-46c0-8374-490d92570ef9",
   "metadata": {},
   "outputs": [],
   "source": [
    "bitwise is classified into following \n",
    "1. bitwise and\n",
    "2. bitwise or \n",
    "3. bitwise zor\n",
    "4. bitwise not"
   ]
  },
  {
   "cell_type": "code",
   "execution_count": 62,
   "id": "8fe49f4c-87b7-4e75-8cd0-668a6cef3def",
   "metadata": {},
   "outputs": [
    {
     "name": "stdin",
     "output_type": "stream",
     "text": [
      "Enter your name: shree\n",
      "enter your mark1: 50.0\n",
      "enter your mark2: 34.5\n",
      "enter your mark3: 75.2\n"
     ]
    },
    {
     "name": "stdout",
     "output_type": "stream",
     "text": [
      "total : 109.56666666666666\n",
      "shree\n"
     ]
    }
   ],
   "source": [
    "person_name=str(input(\"Enter your name:\"))\n",
    "marks1=float(input(\"enter your mark1:\"))\n",
    "marks2=float(input(\"enter your mark2:\"))\n",
    "marks3=float(input(\"enter your mark3:\"))\n",
    "avg=marks1+marks2+marks3/3\n",
    "if(avg>50):\n",
    "    print(\"total :\",avg)\n",
    "    print(person_name)\n",
    "else:\n",
    "    print(\"student failed\")"
   ]
  },
  {
   "cell_type": "code",
   "execution_count": 80,
   "id": "9c03b1cd-4a54-4973-bcc3-37aed9d9656f",
   "metadata": {},
   "outputs": [
    {
     "name": "stdin",
     "output_type": "stream",
     "text": [
      "Enter no of Experience: 12\n",
      "enter no of projets: 10\n",
      "enter performance rate: 15\n",
      "enter salary: 1234567890\n"
     ]
    },
    {
     "name": "stdout",
     "output_type": "stream",
     "text": [
      "2469135780\n"
     ]
    }
   ],
   "source": [
    "emp_exp=int(input(\"Enter no of Experience:\"))\n",
    "proj_cnt=int(input(\"enter no of projets:\"))\n",
    "perf_rat=int(input(\"enter performance rate:\"))\n",
    "emp_sal=int(input(\"enter salary:\"))\n",
    "if((emp_exp>=8)and(proj_cnt>=6)):\n",
    "    emp_sal*=2\n",
    "    print(emp_sal)\n",
    "else:\n",
    "    print(\"No Increment\")"
   ]
  },
  {
   "cell_type": "code",
   "execution_count": 67,
   "id": "92ca55a0-d818-49ad-bb78-d98e7a95b088",
   "metadata": {},
   "outputs": [
    {
     "name": "stdin",
     "output_type": "stream",
     "text": [
      "Enter no of Experience: 5\n",
      "enter no of projets: 5\n",
      "enter performance rate: 5\n",
      "enter salary: 5000\n"
     ]
    },
    {
     "name": "stdout",
     "output_type": "stream",
     "text": [
      "No Increment\n"
     ]
    }
   ],
   "source": [
    "emp_exp=int(input(\"Enter no of Experience:\"))\n",
    "proj_cnt=int(input(\"enter no of projets:\"))\n",
    "perf_rat=int(input(\"enter performance rate:\"))\n",
    "emp_sal=int(input(\"enter salary:\"))\n",
    "if((emp_exp>=8)and(proj_cnt>=6)):\n",
    "    emp_sal*=2\n",
    "    print(emp_sal)\n",
    "else:\n",
    "    print(\"No Increment\")"
   ]
  },
  {
   "cell_type": "code",
   "execution_count": 72,
   "id": "9c761503-6f3a-4649-a007-48b61d89ccd4",
   "metadata": {},
   "outputs": [
    {
     "name": "stdin",
     "output_type": "stream",
     "text": [
      "enter name shree\n",
      "enter score 75\n",
      "crim rec as yes/no no\n",
      "enter passport id 123\n",
      "enter visa id 456\n",
      "relative stay as yes/no yes\n"
     ]
    },
    {
     "name": "stdout",
     "output_type": "stream",
     "text": [
      "welcome to our country\n"
     ]
    }
   ],
   "source": [
    "person_name=str(input(\"enter name\"))\n",
    "eng_score=int(input(\"enter score\"))\n",
    "crim_rec=str(input(\"crim rec as yes/no\"))\n",
    "passport_id=int(input(\"enter passport id\"))\n",
    "visa_id=int(input(\"enter visa id\"))\n",
    "relative=str(input(\"relative stay as yes/no\"))\n",
    "if(((passport_id>=0)and(visa_id>=0)and(crim_rec==\"no\")and(relative==\"yes\"))or(eng_score>50)):\n",
    "    print(\"welcome to our country\")\n",
    "else:\n",
    "    print(\"not allowed\")"
   ]
  },
  {
   "cell_type": "code",
   "execution_count": 75,
   "id": "11a1e3a9-cb3f-44a3-9ada-e9ec4e6b80ce",
   "metadata": {},
   "outputs": [
    {
     "name": "stdin",
     "output_type": "stream",
     "text": [
      "enter age 15\n",
      "enter mark 10\n"
     ]
    },
    {
     "name": "stdout",
     "output_type": "stream",
     "text": [
      "get out\n"
     ]
    }
   ],
   "source": [
    "age=int(input(\"enter age\"))\n",
    "mark=int(input(\"enter mark\"))\n",
    "if age>=19:\n",
    "    if mark>=70:\n",
    "        print(\" has intelligence \")\n",
    "    else:\n",
    "        print(\" no intelligence \")\n",
    "else:\n",
    "    if mark>=70:\n",
    "        print(\"intelligent kid\")\n",
    "    else:\n",
    "        print(\"get out\")"
   ]
  },
  {
   "cell_type": "code",
   "execution_count": 76,
   "id": "e349d0a4-d404-43d5-a16e-c47c86849262",
   "metadata": {},
   "outputs": [
    {
     "name": "stdout",
     "output_type": "stream",
     "text": [
      "512\n"
     ]
    }
   ],
   "source": [
    "print (16 and 512)"
   ]
  },
  {
   "cell_type": "code",
   "execution_count": 78,
   "id": "da2bbf01-91ee-4101-89a3-9edad4c1c7ae",
   "metadata": {},
   "outputs": [
    {
     "name": "stdout",
     "output_type": "stream",
     "text": [
      "0\n"
     ]
    }
   ],
   "source": [
    "print(16 & 5 ** 2 + 15 and 8 ** 3 + 8 // (100-73))"
   ]
  },
  {
   "cell_type": "code",
   "execution_count": 79,
   "id": "b7ae96fa-9a3b-4110-82ec-a5fcdae40fb3",
   "metadata": {},
   "outputs": [
    {
     "name": "stdout",
     "output_type": "stream",
     "text": [
      "False\n"
     ]
    }
   ],
   "source": [
    "print(7 | 2 ** 5 >= 6 ** 7 + 9 * (100-84))"
   ]
  },
  {
   "cell_type": "code",
   "execution_count": 82,
   "id": "cc5e61d0-9d3c-4e2d-b8cd-4abc75fd8827",
   "metadata": {},
   "outputs": [
    {
     "name": "stdin",
     "output_type": "stream",
     "text": [
      "enter math score: 1\n",
      "enter science score: 2\n",
      "enter english score: 3\n"
     ]
    },
    {
     "name": "stdout",
     "output_type": "stream",
     "text": [
      "Student Failed\n",
      "Reason: Low average\n",
      "Reason: Score below 50 in one or more subjects\n"
     ]
    }
   ],
   "source": [
    "math_score = int(input(\"enter math score:\"))\n",
    "science_score = int(input(\"enter science score:\"))\n",
    "english_score = int(input(\"enter english score:\"))\n",
    "has_attendance_issue = False\n",
    "has_disciplinary_issue = False\n",
    "average_score = (math_score + science_score + english_score) / 3\n",
    "passed_average = average_score >= 60\n",
    "passed_subjects = math_score >= 50 and science_score >= 50 and english_score >= 50\n",
    "no_issues = not has_attendance_issue and not has_disciplinary_issue\n",
    "if passed_average and passed_subjects and no_issues:\n",
    "    print(\"Student Passed\")\n",
    "else:\n",
    "    print(\"Student Failed\")\n",
    "\n",
    "    if not passed_average:\n",
    "        print(\"Reason: Low average\")\n",
    "\n",
    "    if not passed_subjects:\n",
    "        print(\"Reason: Score below 50 in one or more subjects\")\n",
    "\n",
    "    if not no_issues:\n",
    "        print(\"Reason: Has attendance or disciplinary issues\")\n"
   ]
  },
  {
   "cell_type": "code",
   "execution_count": 86,
   "id": "79c31aa9-811b-4335-870d-8c014fbc84a1",
   "metadata": {},
   "outputs": [
    {
     "name": "stdin",
     "output_type": "stream",
     "text": [
      "Enter your experience 0\n",
      "enter your rating 0\n",
      "enter your project 0\n"
     ]
    },
    {
     "name": "stdout",
     "output_type": "stream",
     "text": [
      "Not eligible for bonus\n"
     ]
    }
   ],
   "source": [
    "years_of_experience = int(input(\"Enter your experience\"))\n",
    "performance_rating = int(input(\"enter your rating\"))\n",
    "completed_projects = int(input(\"enter your project\"))\n",
    "has_warning_letter = False\n",
    "is_experienced = years_of_experience >= 5\n",
    "has_good_performance_or_projects = performance_rating > 4.0 or completed_projects > 10\n",
    "no_warning = not has_warning_letter\n",
    "eligible = is_experienced and has_good_performance_or_projects and no_warning\n",
    "if eligible:\n",
    "    bonus = 20000 \n",
    "    if completed_projects > 10:\n",
    "        bonus += (completed_projects - 10) * 1000\n",
    "\n",
    "    if years_of_experience > 5:\n",
    "        bonus += (years_of_experience - 5) * 500\n",
    "\n",
    "    print(f\"Eligible for bonus: ₹{bonus}\")\n",
    "else:\n",
    "    print(\"Not eligible for bonus\")\n"
   ]
  },
  {
   "cell_type": "code",
   "execution_count": 87,
   "id": "2bb75b97-dc36-4146-b19c-c3812080ba93",
   "metadata": {},
   "outputs": [
    {
     "name": "stdin",
     "output_type": "stream",
     "text": [
      "Enter the number of units consumed:  1000\n"
     ]
    },
    {
     "name": "stdout",
     "output_type": "stream",
     "text": [
      "Total Electricity Bill: ₹10600\n"
     ]
    }
   ],
   "source": [
    "units = int(input(\"Enter the number of units consumed: \"))\n",
    "bill = 0\n",
    "if units <= 100:\n",
    "    bill = units * 5\n",
    "\n",
    "elif units <= 200:\n",
    "    bill = (100 * 5) + (units - 100) * 7\n",
    "\n",
    "elif units <= 300:\n",
    "    bill = (100 * 5) + (100 * 7) + (units - 200) * 10\n",
    "\n",
    "else:\n",
    "    bill = (100 * 5) + (100 * 7) + (100 * 10) + (units - 300) * 12\n",
    "\n",
    "print(f\"Total Electricity Bill: ₹{bill}\")\n"
   ]
  },
  {
   "cell_type": "code",
   "execution_count": 91,
   "id": "b8a2641a-0854-441f-aab5-8aa6a7072c00",
   "metadata": {},
   "outputs": [
    {
     "name": "stdin",
     "output_type": "stream",
     "text": [
      "Enter the signal color (red/yellow/green):  pink\n"
     ]
    },
    {
     "name": "stdout",
     "output_type": "stream",
     "text": [
      "Invalid signal\n"
     ]
    }
   ],
   "source": [
    "signal_color = input(\"Enter the signal color (red/yellow/green): \").strip().lower()\n",
    "\n",
    "if signal_color == \"red\":\n",
    "    print(\"Fine ₹500\")\n",
    "\n",
    "elif signal_color == \"yellow\":\n",
    "    print(\"Warning\")\n",
    "\n",
    "elif signal_color == \"green\":\n",
    "    print(\"No fine\")\n",
    "\n",
    "else:\n",
    "    print(\"Invalid signal\")\n"
   ]
  },
  {
   "cell_type": "code",
   "execution_count": 95,
   "id": "b4dd57ed-42a4-4145-99d5-a124529988d2",
   "metadata": {},
   "outputs": [
    {
     "name": "stdin",
     "output_type": "stream",
     "text": [
      "Enter your marks (0 to 100):  77\n"
     ]
    },
    {
     "name": "stdout",
     "output_type": "stream",
     "text": [
      "Grade: C\n"
     ]
    }
   ],
   "source": [
    "marks = int(input(\"Enter your marks (0 to 100): \"))\n",
    "if marks < 0 or marks > 100:\n",
    "    print(\"Invalid marks\")\n",
    "elif marks >= 90:\n",
    "    print(\"Grade: A\")\n",
    "elif marks >= 80:\n",
    "    print(\"Grade: B\")\n",
    "elif marks >= 70:\n",
    "    print(\"Grade: C\")\n",
    "elif marks >= 60:\n",
    "    print(\"Grade: D\")\n",
    "else:\n",
    "    print(\"Grade: F\")\n"
   ]
  },
  {
   "cell_type": "code",
   "execution_count": 97,
   "id": "91853acd-93a1-4332-b002-1659a8a09233",
   "metadata": {},
   "outputs": [
    {
     "name": "stdin",
     "output_type": "stream",
     "text": [
      "Enter the temperature in °C:  10\n"
     ]
    },
    {
     "name": "stdout",
     "output_type": "stream",
     "text": [
      "Very cold. Wear heavy jackets.\n"
     ]
    }
   ],
   "source": [
    "temperature = float(input(\"Enter the temperature in °C: \"))\n",
    "\n",
    "if temperature < 0:\n",
    "    print(\"Freezing cold! Stay inside.\")\n",
    "elif temperature <= 15:\n",
    "    print(\"Very cold. Wear heavy jackets.\")\n",
    "elif temperature <= 25:\n",
    "    print(\"Cool weather. Light sweater is fine.\")\n",
    "elif temperature <= 35:\n",
    "    print(\"Warm. Stay hydrated.\")\n",
    "else:\n",
    "    print(\"Too hot! Avoid going outside.\")\n"
   ]
  },
  {
   "cell_type": "code",
   "execution_count": 101,
   "id": "41522f0a-fd17-464c-affc-e8d1b090430d",
   "metadata": {},
   "outputs": [
    {
     "name": "stdin",
     "output_type": "stream",
     "text": [
      "Enter your age:  15\n"
     ]
    },
    {
     "name": "stdout",
     "output_type": "stream",
     "text": [
      "We recommend: Teen Dramas\n"
     ]
    }
   ],
   "source": [
    "age = int(input(\"Enter your age: \"))\n",
    "\n",
    "# Decision logic\n",
    "if age < 0:\n",
    "    print(\"Invalid age entered.\")\n",
    "elif age < 13:\n",
    "    print(\"We recommend: Animated Movies\")\n",
    "elif age <= 17:\n",
    "    print(\"We recommend: Teen Dramas\")\n",
    "elif age <= 59:\n",
    "    print(\"We recommend: Action/Thrillers\")\n",
    "else:\n",
    "    print(\"We recommend: Classics\")\n"
   ]
  },
  {
   "cell_type": "code",
   "execution_count": 104,
   "id": "35be41e0-7914-4bb2-a636-6a7f3a42c6f0",
   "metadata": {},
   "outputs": [
    {
     "name": "stdin",
     "output_type": "stream",
     "text": [
      "Enter your annual income in ₹:  1500000\n"
     ]
    },
    {
     "name": "stdout",
     "output_type": "stream",
     "text": [
      "Tax Rate: 20%\n"
     ]
    }
   ],
   "source": [
    "income = float(input(\"Enter your annual income in ₹: \"))\n",
    "\n",
    "if income < 0:\n",
    "    print(\"Invalid income entered.\")\n",
    "elif income < 250000:\n",
    "    print(\"Tax Rate: 0% (No tax)\")\n",
    "elif income <= 500000:\n",
    "    print(\"Tax Rate: 5%\")\n",
    "elif income <= 1000000:\n",
    "    print(\"Tax Rate: 10%\")\n",
    "else:\n",
    "    print(\"Tax Rate: 20%\")\n"
   ]
  },
  {
   "cell_type": "code",
   "execution_count": 107,
   "id": "b433048d-d778-4e73-90ca-ebf762bb1baa",
   "metadata": {},
   "outputs": [
    {
     "name": "stdin",
     "output_type": "stream",
     "text": [
      "Enter your credit score:  800\n"
     ]
    },
    {
     "name": "stdout",
     "output_type": "stream",
     "text": [
      "Loan Approved. Interest Rate: 8%\n"
     ]
    }
   ],
   "source": [
    "\n",
    "credit_score = int(input(\"Enter your credit score: \"))\n",
    "\n",
    "if credit_score < 0 or credit_score > 900:\n",
    "    print(\"Invalid credit score entered.\")\n",
    "elif credit_score > 750:\n",
    "    print(\"Loan Approved. Interest Rate: 8%\")\n",
    "elif credit_score >= 700:\n",
    "    print(\"Loan Approved. Interest Rate: 10%\")\n",
    "elif credit_score >= 600:\n",
    "    print(\"Loan Approved. Interest Rate: 12%\")\n",
    "else:\n",
    "    print(\"Loan not approved due to low credit score.\")\n"
   ]
  },
  {
   "cell_type": "code",
   "execution_count": 110,
   "id": "411874fd-99fc-4a18-aab8-f2c529b386d1",
   "metadata": {},
   "outputs": [
    {
     "name": "stdin",
     "output_type": "stream",
     "text": [
      "Enter years of experience:  2\n",
      "Enter performance rating (0.0 to 5.0):  0\n",
      "Has warning letter? (yes/no):  no\n"
     ]
    },
    {
     "name": "stdout",
     "output_type": "stream",
     "text": [
      "Not eligible for promotion\n"
     ]
    }
   ],
   "source": [
    "experience = int(input(\"Enter years of experience: \"))\n",
    "performance_rating = float(input(\"Enter performance rating (0.0 to 5.0): \"))\n",
    "has_warning_letter_input = input(\"Has warning letter? (yes/no): \").strip().lower()\n",
    "\n",
    "has_warning_letter = has_warning_letter_input == \"yes\"\n",
    "\n",
    "if experience >= 3 and performance_rating > 4.0 and not has_warning_letter:\n",
    "    print(\"Eligible for promotion\")\n",
    "else:\n",
    "    print(\"Not eligible for promotion\")\n"
   ]
  },
  {
   "cell_type": "code",
   "execution_count": 112,
   "id": "a66ee6d9-db98-4910-baf6-0209c92e5d46",
   "metadata": {},
   "outputs": [
    {
     "name": "stdin",
     "output_type": "stream",
     "text": [
      "Enter order value in ₹:  500\n",
      "Are you a premium member? (yes/no):  yes\n",
      "Is it a bulk item? (yes/no):  no\n"
     ]
    },
    {
     "name": "stdout",
     "output_type": "stream",
     "text": [
      "Free shipping applies\n"
     ]
    }
   ],
   "source": [
    "order_value = float(input(\"Enter order value in ₹: \"))\n",
    "is_premium_input = input(\"Are you a premium member? (yes/no): \").strip().lower()\n",
    "is_bulk_input = input(\"Is it a bulk item? (yes/no): \").strip().lower()\n",
    "\n",
    "is_premium_member = is_premium_input == \"yes\"\n",
    "is_bulk_item = is_bulk_input == \"yes\"\n",
    "\n",
    "if (order_value > 1000 or is_premium_member) and not is_bulk_item:\n",
    "    print(\"Free shipping applies\")\n",
    "else:\n",
    "    print(\"Free shipping not available\")\n"
   ]
  },
  {
   "cell_type": "code",
   "execution_count": 115,
   "id": "768d5790-4a35-4f20-96d3-bc3348193d96",
   "metadata": {},
   "outputs": [
    {
     "name": "stdin",
     "output_type": "stream",
     "text": [
      "Enter your marks:  75\n",
      "Are you eligible under sports quota? (yes/no):  yes\n"
     ]
    },
    {
     "name": "stdout",
     "output_type": "stream",
     "text": [
      "Admitted\n"
     ]
    }
   ],
   "source": [
    "marks = float(input(\"Enter your marks: \"))\n",
    "sports_input = input(\"Are you eligible under sports quota? (yes/no): \").strip().lower()\n",
    "\n",
    "sports_quota = sports_input == \"yes\"\n",
    "\n",
    "if marks >= 85 or (marks >= 75 and sports_quota):\n",
    "    print(\"Admitted\")\n",
    "else:\n",
    "    print(\"Not admitted\")\n"
   ]
  },
  {
   "cell_type": "code",
   "execution_count": 117,
   "id": "a1ae1d8a-4002-45b5-8772-0f58645fc50e",
   "metadata": {},
   "outputs": [
    {
     "name": "stdin",
     "output_type": "stream",
     "text": [
      "Enter GPA:  5.0\n",
      "Enter annual family income in ₹:  100000\n"
     ]
    },
    {
     "name": "stdout",
     "output_type": "stream",
     "text": [
      "Not eligible for scholarship\n"
     ]
    }
   ],
   "source": [
    "\n",
    "gpa = float(input(\"Enter GPA: \"))\n",
    "family_income = float(input(\"Enter annual family income in ₹: \"))\n",
    "\n",
    "if gpa >= 9.0 or (gpa >= 8.0 and family_income < 200000):\n",
    "    print(\"Eligible for scholarship\")\n",
    "else:\n",
    "    print(\"Not eligible for scholarship\")\n"
   ]
  },
  {
   "cell_type": "code",
   "execution_count": 119,
   "id": "5273a9c8-d894-4884-addc-df17f7af8ebc",
   "metadata": {},
   "outputs": [
    {
     "name": "stdin",
     "output_type": "stream",
     "text": [
      "Enter monthly salary in ₹:  10000\n",
      "Enter credit score:  5\n",
      "Has loan default history? (yes/no):  yes\n",
      "Has strong guarantor? (yes/no):  no\n"
     ]
    },
    {
     "name": "stdout",
     "output_type": "stream",
     "text": [
      "Loan Rejected\n"
     ]
    }
   ],
   "source": [
    "\n",
    "salary = float(input(\"Enter monthly salary in ₹: \"))\n",
    "credit_score = int(input(\"Enter credit score: \"))\n",
    "\n",
    "default_input = input(\"Has loan default history? (yes/no): \").strip().lower()\n",
    "guarantor_input = input(\"Has strong guarantor? (yes/no): \").strip().lower()\n",
    "\n",
    "has_loan_default = default_input == \"yes\"\n",
    "has_strong_guarantor = guarantor_input == \"yes\"\n",
    "\n",
    "if (salary > 30000 and credit_score > 700 and not has_loan_default) or has_strong_guarantor:\n",
    "    print(\"Loan Approved\")\n",
    "else:\n",
    "    print(\"Loan Rejected\")\n"
   ]
  },
  {
   "cell_type": "code",
   "execution_count": 4,
   "id": "2b5b482b-41e6-4996-82f4-c22c377bd967",
   "metadata": {},
   "outputs": [
    {
     "name": "stdin",
     "output_type": "stream",
     "text": [
      "enter your password prasana\n",
      "enter your password prasana\n",
      "enter your password prasana\n",
      "enter your password shree2004\n"
     ]
    },
    {
     "name": "stdout",
     "output_type": "stream",
     "text": [
      "accessngranted\n"
     ]
    }
   ],
   "source": [
    "corrected_password=\"shree2004\"\n",
    "entered=\"\"\n",
    "while entered != corrected_password:\n",
    "    entered = input(\"enter your password\")\n",
    "print(\"accessngranted\")"
   ]
  },
  {
   "cell_type": "code",
   "execution_count": 7,
   "id": "25616f96-2c46-4688-972d-97557dd62299",
   "metadata": {},
   "outputs": [
    {
     "name": "stdin",
     "output_type": "stream",
     "text": [
      "entered your password shree\n"
     ]
    },
    {
     "name": "stdout",
     "output_type": "stream",
     "text": [
      "try again\n"
     ]
    },
    {
     "name": "stdin",
     "output_type": "stream",
     "text": [
      "entered your password dhree\n"
     ]
    },
    {
     "name": "stdout",
     "output_type": "stream",
     "text": [
      "try again\n"
     ]
    },
    {
     "name": "stdin",
     "output_type": "stream",
     "text": [
      "entered your password rhee\n"
     ]
    },
    {
     "name": "stdout",
     "output_type": "stream",
     "text": [
      "try again\n",
      "access denied\n"
     ]
    }
   ],
   "source": [
    "correct_password=\"prasana-mac-book-pro\"\n",
    "entered=\" \"\n",
    "trials=0\n",
    "max_trials=3\n",
    "while trials < max_trials:\n",
    "    entered=input(\"entered your password\")\n",
    "    if entered == correct_password:\n",
    "        print(\"access granted\")\n",
    "        break\n",
    "    else:\n",
    "        print(\"try again\")\n",
    "    trials+=1\n",
    "else:\n",
    "    print(\"access denied\")"
   ]
  },
  {
   "cell_type": "code",
   "execution_count": 12,
   "id": "90a1c56e-f56d-42e8-89f0-0daadaf03974",
   "metadata": {},
   "outputs": [
    {
     "name": "stdin",
     "output_type": "stream",
     "text": [
      "enter the password passwod\n"
     ]
    },
    {
     "name": "stdout",
     "output_type": "stream",
     "text": [
      "try again\n"
     ]
    },
    {
     "name": "stdin",
     "output_type": "stream",
     "text": [
      "enter the password password\n"
     ]
    },
    {
     "name": "stdout",
     "output_type": "stream",
     "text": [
      "access granted\n"
     ]
    }
   ],
   "source": [
    "c_password=\"password\"\n",
    "trials=0\n",
    "max_traials=3\n",
    "while trials<max_traials:  # its cheack trials value greater the max_traials values\n",
    "    e_password=input(\"enter the password\")  # its geting input value for e_password\n",
    "    if e_password==c_password:  #its cheacking e_password and c_password are equal or not\n",
    "        print(\"access granted\")  #if e_password and c_password both are equal it will excute\n",
    "        break  # and break the condition after break any code line its not work \n",
    "    else:   # suppose both condition are not stasified it will comes to else block\n",
    "        trials+=1  # and its increase the trials value +1\n",
    "        if trials < max_traials:\n",
    "            # after value increase if () cheack the trials values and max_traials values here trials values increased its converted to 0 to 1\n",
    "            print(\"try again\")   #then this print will excute\n",
    "   # trials+=1    \n",
    "if trials==max_traials:    # if() will cheack  trials==max_traials both are equal its equal \n",
    "    print(\"access denied\") #this line will excute"
   ]
  },
  {
   "cell_type": "markdown",
   "id": "f4c51b04-d202-4c87-a2cf-a77b4caed1f4",
   "metadata": {},
   "source": [
    "I AM TAKING A CHOICE A VARIABLE AS INPUT WHICH IS STRING \n"
   ]
  },
  {
   "cell_type": "code",
   "execution_count": 14,
   "id": "75e1cf00-0c56-4224-a3a7-4c7479fa749e",
   "metadata": {},
   "outputs": [
    {
     "name": "stdout",
     "output_type": "stream",
     "text": [
      "0\n",
      "5\n",
      "10\n",
      "15\n",
      "20\n",
      "25\n",
      "30\n",
      "35\n",
      "40\n",
      "45\n",
      "50\n",
      "55\n",
      "60\n",
      "65\n",
      "70\n",
      "75\n",
      "80\n",
      "85\n",
      "90\n",
      "95\n",
      "100\n",
      "105\n",
      "110\n",
      "115\n",
      "120\n",
      "125\n",
      "130\n",
      "135\n",
      "140\n",
      "145\n",
      "150\n",
      "155\n",
      "160\n",
      "165\n",
      "170\n",
      "175\n",
      "180\n",
      "185\n",
      "190\n",
      "195\n",
      "200\n",
      "205\n",
      "210\n",
      "215\n",
      "220\n",
      "225\n",
      "230\n",
      "235\n",
      "240\n",
      "245\n",
      "250\n",
      "255\n",
      "260\n",
      "265\n",
      "270\n",
      "275\n",
      "280\n",
      "285\n",
      "290\n",
      "295\n",
      "300\n",
      "305\n",
      "310\n",
      "315\n",
      "320\n",
      "325\n",
      "330\n",
      "335\n",
      "340\n",
      "345\n",
      "350\n",
      "355\n",
      "360\n",
      "365\n",
      "370\n",
      "375\n",
      "380\n",
      "385\n",
      "390\n",
      "395\n",
      "400\n",
      "405\n",
      "410\n",
      "415\n",
      "420\n",
      "425\n",
      "430\n",
      "435\n",
      "440\n",
      "445\n",
      "450\n",
      "455\n",
      "460\n",
      "465\n",
      "470\n",
      "475\n",
      "480\n",
      "485\n",
      "490\n",
      "495\n",
      "500\n",
      "505\n",
      "510\n",
      "515\n",
      "520\n",
      "525\n",
      "530\n",
      "535\n",
      "540\n",
      "545\n",
      "550\n",
      "555\n",
      "560\n",
      "565\n",
      "570\n",
      "575\n",
      "580\n",
      "585\n",
      "590\n",
      "595\n",
      "600\n",
      "605\n",
      "610\n",
      "615\n",
      "620\n",
      "625\n",
      "630\n",
      "635\n",
      "640\n",
      "645\n",
      "650\n",
      "655\n",
      "660\n",
      "665\n",
      "670\n",
      "675\n",
      "680\n",
      "685\n",
      "690\n",
      "695\n",
      "700\n",
      "705\n",
      "710\n",
      "715\n",
      "720\n",
      "725\n",
      "730\n",
      "735\n",
      "740\n",
      "745\n",
      "750\n",
      "755\n",
      "760\n",
      "765\n",
      "770\n",
      "775\n",
      "780\n",
      "785\n",
      "790\n",
      "795\n",
      "800\n",
      "805\n",
      "810\n",
      "815\n",
      "820\n",
      "825\n",
      "830\n",
      "835\n",
      "840\n",
      "845\n",
      "850\n",
      "855\n",
      "860\n",
      "865\n",
      "870\n",
      "875\n",
      "880\n",
      "885\n",
      "890\n",
      "895\n",
      "900\n",
      "905\n",
      "910\n",
      "915\n",
      "920\n",
      "925\n",
      "930\n",
      "935\n",
      "940\n",
      "945\n",
      "950\n",
      "955\n",
      "960\n",
      "965\n",
      "970\n",
      "975\n",
      "980\n",
      "985\n",
      "990\n",
      "995\n",
      "1000\n"
     ]
    }
   ],
   "source": [
    "for i in range(0,1001,5):\n",
    "    print(i)"
   ]
  },
  {
   "cell_type": "code",
   "execution_count": 15,
   "id": "b8f4fa8d-aa53-4e71-bbc5-8650f85d26e4",
   "metadata": {},
   "outputs": [
    {
     "name": "stdout",
     "output_type": "stream",
     "text": [
      "1\n",
      "3\n",
      "5\n",
      "7\n",
      "9\n",
      "11\n",
      "13\n",
      "15\n",
      "17\n",
      "19\n",
      "21\n",
      "23\n",
      "25\n",
      "27\n",
      "29\n",
      "31\n",
      "33\n",
      "35\n",
      "37\n",
      "39\n",
      "41\n",
      "43\n",
      "45\n",
      "47\n",
      "49\n",
      "51\n",
      "53\n",
      "55\n",
      "57\n",
      "59\n",
      "61\n",
      "63\n",
      "65\n",
      "67\n",
      "69\n",
      "71\n",
      "73\n",
      "75\n",
      "77\n",
      "79\n",
      "81\n",
      "83\n",
      "85\n",
      "87\n",
      "89\n",
      "91\n",
      "93\n",
      "95\n",
      "97\n",
      "99\n"
     ]
    }
   ],
   "source": [
    "for j in range(1,101,2):\n",
    "    print(j)"
   ]
  },
  {
   "cell_type": "code",
   "execution_count": 19,
   "id": "a6261c0c-905f-4812-a86b-da8180c6e16e",
   "metadata": {
    "scrolled": true
   },
   "outputs": [
    {
     "name": "stdout",
     "output_type": "stream",
     "text": [
      "0\n",
      "10\n",
      "20\n",
      "30\n",
      "40\n",
      "50\n",
      "60\n",
      "70\n",
      "80\n",
      "90\n",
      "100\n",
      "110\n",
      "120\n",
      "130\n",
      "140\n",
      "150\n",
      "160\n",
      "170\n",
      "180\n",
      "190\n",
      "200\n",
      "210\n",
      "220\n",
      "230\n",
      "240\n",
      "250\n",
      "260\n",
      "270\n",
      "280\n",
      "290\n",
      "300\n",
      "310\n",
      "320\n",
      "330\n",
      "340\n",
      "350\n",
      "360\n",
      "370\n",
      "380\n",
      "390\n",
      "400\n",
      "410\n",
      "420\n",
      "430\n",
      "440\n",
      "450\n",
      "460\n",
      "470\n",
      "480\n",
      "490\n",
      "500\n",
      "510\n",
      "520\n",
      "530\n",
      "540\n",
      "550\n",
      "560\n",
      "570\n",
      "580\n",
      "590\n",
      "600\n",
      "610\n",
      "620\n",
      "630\n",
      "640\n",
      "650\n",
      "660\n",
      "670\n",
      "680\n",
      "690\n",
      "700\n",
      "710\n",
      "720\n",
      "730\n",
      "740\n",
      "750\n",
      "760\n",
      "770\n",
      "780\n",
      "790\n",
      "800\n",
      "810\n",
      "820\n",
      "830\n",
      "840\n",
      "850\n",
      "860\n",
      "870\n",
      "880\n",
      "890\n",
      "900\n",
      "910\n",
      "920\n",
      "930\n",
      "940\n",
      "950\n",
      "960\n",
      "970\n",
      "980\n",
      "990\n",
      "1000\n",
      "1010\n",
      "1020\n",
      "1030\n",
      "1040\n",
      "1050\n",
      "1060\n",
      "1070\n",
      "1080\n",
      "1090\n",
      "1100\n",
      "1110\n",
      "1120\n",
      "1130\n",
      "1140\n",
      "1150\n",
      "1160\n",
      "1170\n",
      "1180\n",
      "1190\n",
      "1200\n",
      "1210\n",
      "1220\n",
      "1230\n",
      "1240\n",
      "1250\n",
      "1260\n",
      "1270\n",
      "1280\n",
      "1290\n",
      "1300\n",
      "1310\n",
      "1320\n",
      "1330\n",
      "1340\n",
      "1350\n",
      "1360\n",
      "1370\n",
      "1380\n",
      "1390\n",
      "1400\n",
      "1410\n",
      "1420\n",
      "1430\n",
      "1440\n",
      "1450\n",
      "1460\n",
      "1470\n",
      "1480\n",
      "1490\n",
      "1500\n",
      "1510\n",
      "1520\n",
      "1530\n",
      "1540\n",
      "1550\n",
      "1560\n",
      "1570\n",
      "1580\n",
      "1590\n",
      "1600\n",
      "1610\n",
      "1620\n",
      "1630\n",
      "1640\n",
      "1650\n",
      "1660\n",
      "1670\n",
      "1680\n",
      "1690\n",
      "1700\n",
      "1710\n",
      "1720\n",
      "1730\n",
      "1740\n",
      "1750\n",
      "1760\n",
      "1770\n",
      "1780\n",
      "1790\n",
      "1800\n",
      "1810\n",
      "1820\n",
      "1830\n",
      "1840\n",
      "1850\n",
      "1860\n",
      "1870\n",
      "1880\n",
      "1890\n",
      "1900\n",
      "1910\n",
      "1920\n",
      "1930\n",
      "1940\n",
      "1950\n",
      "1960\n",
      "1970\n",
      "1980\n",
      "1990\n",
      "2000\n",
      "2010\n",
      "2020\n",
      "2030\n",
      "2040\n",
      "2050\n",
      "2060\n",
      "2070\n",
      "2080\n",
      "2090\n",
      "2100\n",
      "2110\n",
      "2120\n",
      "2130\n",
      "2140\n",
      "2150\n",
      "2160\n",
      "2170\n",
      "2180\n",
      "2190\n",
      "2200\n",
      "2210\n",
      "2220\n",
      "2230\n",
      "2240\n",
      "2250\n",
      "2260\n",
      "2270\n",
      "2280\n",
      "2290\n",
      "2300\n",
      "2310\n",
      "2320\n",
      "2330\n",
      "2340\n",
      "2350\n",
      "2360\n",
      "2370\n",
      "2380\n",
      "2390\n",
      "2400\n",
      "2410\n",
      "2420\n",
      "2430\n",
      "2440\n",
      "2450\n",
      "2460\n",
      "2470\n",
      "2480\n",
      "2490\n",
      "2500\n",
      "2510\n",
      "2520\n",
      "2530\n",
      "2540\n",
      "2550\n",
      "2560\n",
      "2570\n",
      "2580\n",
      "2590\n",
      "2600\n",
      "2610\n",
      "2620\n",
      "2630\n",
      "2640\n",
      "2650\n",
      "2660\n",
      "2670\n",
      "2680\n",
      "2690\n",
      "2700\n",
      "2710\n",
      "2720\n",
      "2730\n",
      "2740\n",
      "2750\n",
      "2760\n",
      "2770\n",
      "2780\n",
      "2790\n",
      "2800\n",
      "2810\n",
      "2820\n",
      "2830\n",
      "2840\n",
      "2850\n",
      "2860\n",
      "2870\n",
      "2880\n",
      "2890\n",
      "2900\n",
      "2910\n",
      "2920\n",
      "2930\n",
      "2940\n",
      "2950\n",
      "2960\n",
      "2970\n",
      "2980\n",
      "2990\n",
      "3000\n",
      "3010\n",
      "3020\n",
      "3030\n",
      "3040\n",
      "3050\n",
      "3060\n",
      "3070\n",
      "3080\n",
      "3090\n",
      "3100\n",
      "3110\n",
      "3120\n",
      "3130\n",
      "3140\n",
      "3150\n",
      "3160\n",
      "3170\n",
      "3180\n",
      "3190\n",
      "3200\n",
      "3210\n",
      "3220\n",
      "3230\n",
      "3240\n",
      "3250\n",
      "3260\n",
      "3270\n",
      "3280\n",
      "3290\n",
      "3300\n",
      "3310\n",
      "3320\n",
      "3330\n",
      "3340\n",
      "3350\n",
      "3360\n",
      "3370\n",
      "3380\n",
      "3390\n",
      "3400\n",
      "3410\n",
      "3420\n",
      "3430\n",
      "3440\n",
      "3450\n",
      "3460\n",
      "3470\n",
      "3480\n",
      "3490\n",
      "3500\n",
      "3510\n",
      "3520\n",
      "3530\n",
      "3540\n",
      "3550\n",
      "3560\n",
      "3570\n",
      "3580\n",
      "3590\n",
      "3600\n",
      "3610\n",
      "3620\n",
      "3630\n",
      "3640\n",
      "3650\n",
      "3660\n",
      "3670\n",
      "3680\n",
      "3690\n",
      "3700\n",
      "3710\n",
      "3720\n",
      "3730\n",
      "3740\n",
      "3750\n",
      "3760\n",
      "3770\n",
      "3780\n",
      "3790\n",
      "3800\n",
      "3810\n",
      "3820\n",
      "3830\n",
      "3840\n",
      "3850\n",
      "3860\n",
      "3870\n",
      "3880\n",
      "3890\n",
      "3900\n",
      "3910\n",
      "3920\n",
      "3930\n",
      "3940\n",
      "3950\n",
      "3960\n",
      "3970\n",
      "3980\n",
      "3990\n",
      "4000\n",
      "4010\n",
      "4020\n",
      "4030\n",
      "4040\n",
      "4050\n",
      "4060\n",
      "4070\n",
      "4080\n",
      "4090\n",
      "4100\n",
      "4110\n",
      "4120\n",
      "4130\n",
      "4140\n",
      "4150\n",
      "4160\n",
      "4170\n",
      "4180\n",
      "4190\n",
      "4200\n",
      "4210\n",
      "4220\n",
      "4230\n",
      "4240\n",
      "4250\n",
      "4260\n",
      "4270\n",
      "4280\n",
      "4290\n",
      "4300\n",
      "4310\n",
      "4320\n",
      "4330\n",
      "4340\n",
      "4350\n",
      "4360\n",
      "4370\n",
      "4380\n",
      "4390\n",
      "4400\n",
      "4410\n",
      "4420\n",
      "4430\n",
      "4440\n",
      "4450\n",
      "4460\n",
      "4470\n",
      "4480\n",
      "4490\n",
      "4500\n",
      "4510\n",
      "4520\n",
      "4530\n",
      "4540\n",
      "4550\n",
      "4560\n",
      "4570\n",
      "4580\n",
      "4590\n",
      "4600\n",
      "4610\n",
      "4620\n",
      "4630\n",
      "4640\n",
      "4650\n",
      "4660\n",
      "4670\n",
      "4680\n",
      "4690\n",
      "4700\n",
      "4710\n",
      "4720\n",
      "4730\n",
      "4740\n",
      "4750\n",
      "4760\n",
      "4770\n",
      "4780\n",
      "4790\n",
      "4800\n",
      "4810\n",
      "4820\n",
      "4830\n",
      "4840\n",
      "4850\n",
      "4860\n",
      "4870\n",
      "4880\n",
      "4890\n",
      "4900\n",
      "4910\n",
      "4920\n",
      "4930\n",
      "4940\n",
      "4950\n",
      "4960\n",
      "4970\n",
      "4980\n",
      "4990\n",
      "5000\n",
      "5010\n",
      "5020\n",
      "5030\n",
      "5040\n",
      "5050\n",
      "5060\n",
      "5070\n",
      "5080\n",
      "5090\n",
      "5100\n",
      "5110\n",
      "5120\n",
      "5130\n",
      "5140\n",
      "5150\n",
      "5160\n",
      "5170\n",
      "5180\n",
      "5190\n",
      "5200\n",
      "5210\n",
      "5220\n",
      "5230\n",
      "5240\n",
      "5250\n",
      "5260\n",
      "5270\n",
      "5280\n",
      "5290\n",
      "5300\n",
      "5310\n",
      "5320\n",
      "5330\n",
      "5340\n",
      "5350\n",
      "5360\n",
      "5370\n",
      "5380\n",
      "5390\n",
      "5400\n",
      "5410\n",
      "5420\n",
      "5430\n",
      "5440\n",
      "5450\n",
      "5460\n",
      "5470\n",
      "5480\n",
      "5490\n",
      "5500\n",
      "5510\n",
      "5520\n",
      "5530\n",
      "5540\n",
      "5550\n",
      "5560\n",
      "5570\n",
      "5580\n",
      "5590\n",
      "5600\n",
      "5610\n",
      "5620\n",
      "5630\n",
      "5640\n",
      "5650\n",
      "5660\n",
      "5670\n",
      "5680\n",
      "5690\n",
      "5700\n",
      "5710\n",
      "5720\n",
      "5730\n",
      "5740\n",
      "5750\n",
      "5760\n",
      "5770\n",
      "5780\n",
      "5790\n",
      "5800\n",
      "5810\n",
      "5820\n",
      "5830\n",
      "5840\n",
      "5850\n",
      "5860\n",
      "5870\n",
      "5880\n",
      "5890\n",
      "5900\n",
      "5910\n",
      "5920\n",
      "5930\n",
      "5940\n",
      "5950\n",
      "5960\n",
      "5970\n",
      "5980\n",
      "5990\n",
      "6000\n",
      "6010\n",
      "6020\n",
      "6030\n",
      "6040\n",
      "6050\n",
      "6060\n",
      "6070\n",
      "6080\n",
      "6090\n",
      "6100\n",
      "6110\n",
      "6120\n",
      "6130\n",
      "6140\n",
      "6150\n",
      "6160\n",
      "6170\n",
      "6180\n",
      "6190\n",
      "6200\n",
      "6210\n",
      "6220\n",
      "6230\n",
      "6240\n",
      "6250\n",
      "6260\n",
      "6270\n",
      "6280\n",
      "6290\n",
      "6300\n",
      "6310\n",
      "6320\n",
      "6330\n",
      "6340\n",
      "6350\n",
      "6360\n",
      "6370\n",
      "6380\n",
      "6390\n",
      "6400\n",
      "6410\n",
      "6420\n",
      "6430\n",
      "6440\n",
      "6450\n",
      "6460\n",
      "6470\n",
      "6480\n",
      "6490\n",
      "6500\n",
      "6510\n",
      "6520\n",
      "6530\n",
      "6540\n",
      "6550\n",
      "6560\n",
      "6570\n",
      "6580\n",
      "6590\n",
      "6600\n",
      "6610\n",
      "6620\n",
      "6630\n",
      "6640\n",
      "6650\n",
      "6660\n",
      "6670\n",
      "6680\n",
      "6690\n",
      "6700\n",
      "6710\n",
      "6720\n",
      "6730\n",
      "6740\n",
      "6750\n",
      "6760\n",
      "6770\n",
      "6780\n",
      "6790\n",
      "6800\n",
      "6810\n",
      "6820\n",
      "6830\n",
      "6840\n",
      "6850\n",
      "6860\n",
      "6870\n",
      "6880\n",
      "6890\n",
      "6900\n",
      "6910\n",
      "6920\n",
      "6930\n",
      "6940\n",
      "6950\n",
      "6960\n",
      "6970\n",
      "6980\n",
      "6990\n",
      "7000\n",
      "7010\n",
      "7020\n",
      "7030\n",
      "7040\n",
      "7050\n",
      "7060\n",
      "7070\n",
      "7080\n",
      "7090\n",
      "7100\n",
      "7110\n",
      "7120\n",
      "7130\n",
      "7140\n",
      "7150\n",
      "7160\n",
      "7170\n",
      "7180\n",
      "7190\n",
      "7200\n",
      "7210\n",
      "7220\n",
      "7230\n",
      "7240\n",
      "7250\n",
      "7260\n",
      "7270\n",
      "7280\n",
      "7290\n",
      "7300\n",
      "7310\n",
      "7320\n",
      "7330\n",
      "7340\n",
      "7350\n",
      "7360\n",
      "7370\n",
      "7380\n",
      "7390\n",
      "7400\n",
      "7410\n",
      "7420\n",
      "7430\n",
      "7440\n",
      "7450\n",
      "7460\n",
      "7470\n",
      "7480\n",
      "7490\n",
      "7500\n",
      "7510\n",
      "7520\n",
      "7530\n",
      "7540\n",
      "7550\n",
      "7560\n",
      "7570\n",
      "7580\n",
      "7590\n",
      "7600\n",
      "7610\n",
      "7620\n",
      "7630\n",
      "7640\n",
      "7650\n",
      "7660\n",
      "7670\n",
      "7680\n",
      "7690\n",
      "7700\n",
      "7710\n",
      "7720\n",
      "7730\n",
      "7740\n",
      "7750\n",
      "7760\n",
      "7770\n",
      "7780\n",
      "7790\n",
      "7800\n",
      "7810\n",
      "7820\n",
      "7830\n",
      "7840\n",
      "7850\n",
      "7860\n",
      "7870\n",
      "7880\n",
      "7890\n",
      "7900\n",
      "7910\n",
      "7920\n",
      "7930\n",
      "7940\n",
      "7950\n",
      "7960\n",
      "7970\n",
      "7980\n",
      "7990\n",
      "8000\n",
      "8010\n",
      "8020\n",
      "8030\n",
      "8040\n",
      "8050\n",
      "8060\n",
      "8070\n",
      "8080\n",
      "8090\n",
      "8100\n",
      "8110\n",
      "8120\n",
      "8130\n",
      "8140\n",
      "8150\n",
      "8160\n",
      "8170\n",
      "8180\n",
      "8190\n",
      "8200\n",
      "8210\n",
      "8220\n",
      "8230\n",
      "8240\n",
      "8250\n",
      "8260\n",
      "8270\n",
      "8280\n",
      "8290\n",
      "8300\n",
      "8310\n",
      "8320\n",
      "8330\n",
      "8340\n",
      "8350\n",
      "8360\n",
      "8370\n",
      "8380\n",
      "8390\n",
      "8400\n",
      "8410\n",
      "8420\n",
      "8430\n",
      "8440\n",
      "8450\n",
      "8460\n",
      "8470\n",
      "8480\n",
      "8490\n",
      "8500\n",
      "8510\n",
      "8520\n",
      "8530\n",
      "8540\n",
      "8550\n",
      "8560\n",
      "8570\n",
      "8580\n",
      "8590\n",
      "8600\n",
      "8610\n",
      "8620\n",
      "8630\n",
      "8640\n",
      "8650\n",
      "8660\n",
      "8670\n",
      "8680\n",
      "8690\n",
      "8700\n",
      "8710\n",
      "8720\n",
      "8730\n",
      "8740\n",
      "8750\n",
      "8760\n",
      "8770\n",
      "8780\n",
      "8790\n",
      "8800\n",
      "8810\n",
      "8820\n",
      "8830\n",
      "8840\n",
      "8850\n",
      "8860\n",
      "8870\n",
      "8880\n",
      "8890\n",
      "8900\n",
      "8910\n",
      "8920\n",
      "8930\n",
      "8940\n",
      "8950\n",
      "8960\n",
      "8970\n",
      "8980\n",
      "8990\n",
      "9000\n",
      "9010\n",
      "9020\n",
      "9030\n",
      "9040\n",
      "9050\n",
      "9060\n",
      "9070\n",
      "9080\n",
      "9090\n",
      "9100\n",
      "9110\n",
      "9120\n",
      "9130\n",
      "9140\n",
      "9150\n",
      "9160\n",
      "9170\n",
      "9180\n",
      "9190\n",
      "9200\n",
      "9210\n",
      "9220\n",
      "9230\n",
      "9240\n",
      "9250\n",
      "9260\n",
      "9270\n",
      "9280\n",
      "9290\n",
      "9300\n",
      "9310\n",
      "9320\n",
      "9330\n",
      "9340\n",
      "9350\n",
      "9360\n",
      "9370\n",
      "9380\n",
      "9390\n",
      "9400\n",
      "9410\n",
      "9420\n",
      "9430\n",
      "9440\n",
      "9450\n",
      "9460\n",
      "9470\n",
      "9480\n",
      "9490\n",
      "9500\n",
      "9510\n",
      "9520\n",
      "9530\n",
      "9540\n",
      "9550\n",
      "9560\n",
      "9570\n",
      "9580\n",
      "9590\n",
      "9600\n",
      "9610\n",
      "9620\n",
      "9630\n",
      "9640\n",
      "9650\n",
      "9660\n",
      "9670\n",
      "9680\n",
      "9690\n",
      "9700\n",
      "9710\n",
      "9720\n",
      "9730\n",
      "9740\n",
      "9750\n",
      "9760\n",
      "9770\n",
      "9780\n",
      "9790\n",
      "9800\n",
      "9810\n",
      "9820\n",
      "9830\n",
      "9840\n",
      "9850\n",
      "9860\n",
      "9870\n",
      "9880\n",
      "9890\n",
      "9900\n",
      "9910\n",
      "9920\n",
      "9930\n",
      "9940\n",
      "9950\n",
      "9960\n",
      "9970\n",
      "9980\n",
      "9990\n",
      "10000\n"
     ]
    }
   ],
   "source": [
    "for a in range(0,10001,10):\n",
    "    print(a)"
   ]
  },
  {
   "cell_type": "code",
   "execution_count": 32,
   "id": "daa6c539-3505-4edb-b992-4a1822ea5eff",
   "metadata": {},
   "outputs": [
    {
     "name": "stdout",
     "output_type": "stream",
     "text": [
      "12345\n",
      "1234\n",
      "123\n",
      "12\n",
      "1\n"
     ]
    }
   ],
   "source": [
    "#nested loop\n",
    "rows=5\n",
    "for i in range(rows,0,-1):\n",
    "    for j in range(i):\n",
    "        print(j+1,end=\"\")\n",
    "    print()"
   ]
  },
  {
   "cell_type": "code",
   "execution_count": 35,
   "id": "1b4e9852-ef30-48f9-9592-2d7ba077233e",
   "metadata": {},
   "outputs": [
    {
     "name": "stdout",
     "output_type": "stream",
     "text": [
      "my name is 123python\n"
     ]
    }
   ],
   "source": [
    "#string\n",
    "s=\"MY NAME IS 123PYTHON\"\n",
    "print(s.lower())"
   ]
  },
  {
   "cell_type": "code",
   "execution_count": 37,
   "id": "0361f4cc-c3ed-4651-94cc-fb7fd745d324",
   "metadata": {},
   "outputs": [
    {
     "name": "stdout",
     "output_type": "stream",
     "text": [
      "MY name IS 123python\n"
     ]
    }
   ],
   "source": [
    "s=\"my NAME is 123PYTHON\"\n",
    "print(s.swapcase())"
   ]
  },
  {
   "cell_type": "code",
   "execution_count": 38,
   "id": "468f402b-6393-4d6b-8ef3-751725dbacc5",
   "metadata": {},
   "outputs": [
    {
     "name": "stdout",
     "output_type": "stream",
     "text": [
      "My Name Is Shree\n"
     ]
    }
   ],
   "source": [
    "s=\"my name is shree\"\n",
    "print(s.title())"
   ]
  },
  {
   "cell_type": "code",
   "execution_count": 48,
   "id": "b134ea62-6297-42df-8f38-2383e5900247",
   "metadata": {},
   "outputs": [
    {
     "name": "stdin",
     "output_type": "stream",
     "text": [
      "enter gpa:(0/4.0) 3.8\n",
      "no of clubs patricipants: 1\n",
      "enter volunteer hours: 110\n",
      "is disciplinary record clean(True/False) false\n"
     ]
    },
    {
     "name": "stdout",
     "output_type": "stream",
     "text": [
      "scholarship_amount will be  30100\n"
     ]
    }
   ],
   "source": [
    "gpa=float(input(\"enter gpa:(0/4.0)\"))\n",
    "extra_curricum=int(input(\"no of clubs patricipants:\"))\n",
    "volunteers_hours=int(input(\"enter volunteer hours:\"))\n",
    "has_dispilinary_record=bool(input(\"is disciplinary record clean(True/False)\"))\n",
    "if gpa >= 3.8 or volunteers_hours > 100 and (has_disciplinary_record):\n",
    "    scholarship_amount=30000\n",
    "    if(extra_curricum>2):\n",
    "     scholarship_amount+=(extra_curricum-2)*2000\n",
    "    \n",
    "    scholarship_amount+=((volunteers_hours-100)//10)*100\n",
    "    print(\"scholarship_amount will be \",scholarship_amount)\n",
    "else:\n",
    "    print(\"not eligible for scholarship\")"
   ]
  },
  {
   "cell_type": "code",
   "execution_count": 49,
   "id": "4e131613-fc1c-43f2-a8a5-38e5ba4ff26a",
   "metadata": {},
   "outputs": [
    {
     "name": "stdout",
     "output_type": "stream",
     "text": [
      "True\n"
     ]
    }
   ],
   "source": [
    "s=\"Todayweararegoingtolearn\"\n",
    "print(s.isalpha())"
   ]
  },
  {
   "cell_type": "code",
   "execution_count": 50,
   "id": "4259e049-5340-4066-a1fa-1bfe8a6a4593",
   "metadata": {},
   "outputs": [
    {
     "name": "stdout",
     "output_type": "stream",
     "text": [
      "False\n"
     ]
    }
   ],
   "source": [
    "s=\"2231005020074\"\n",
    "print(s.isalpha())"
   ]
  },
  {
   "cell_type": "code",
   "execution_count": 51,
   "id": "f167b67c-c38d-47fb-a9c6-05b2e7b3c148",
   "metadata": {},
   "outputs": [
    {
     "name": "stdout",
     "output_type": "stream",
     "text": [
      "True\n"
     ]
    }
   ],
   "source": [
    "s=\"1234567890\"\n",
    "print(s.isnumeric())"
   ]
  },
  {
   "cell_type": "code",
   "execution_count": 52,
   "id": "1d75edd4-3f3d-4200-b7ab-548b0c3cafc4",
   "metadata": {},
   "outputs": [
    {
     "name": "stdout",
     "output_type": "stream",
     "text": [
      "False\n"
     ]
    }
   ],
   "source": [
    "s=\"abcdefgh\"\n",
    "print(s.isnumeric())"
   ]
  },
  {
   "cell_type": "code",
   "execution_count": 67,
   "id": "94919782-30bb-4945-9811-a0785e09c61e",
   "metadata": {},
   "outputs": [
    {
     "name": "stdout",
     "output_type": "stream",
     "text": [
      "the s is  Tuple unpacking is a process where we will unpack every element of Tuple in multiple variables\n",
      "the s1 is Tuple*unpacking*is*a*process*where*we*will*unpack*every*element*of*Tuple*in*multiple*variables\n",
      "the s2 is Dictionary*unpacking*is*a*process*where*we*will*unpack*every*element*of*Dictionary*in*multiple*variables\n"
     ]
    }
   ],
   "source": [
    "s=\"Tuple unpacking is a process where we will unpack every element of Tuple in multiple variables\"\n",
    "s1=s.replace(\" \",\"*\")\n",
    "s2=s1.replace(\"Tuple\",\"Dictionary\")\n",
    "print(\"the s is \",s)\n",
    "print(\"the s1 is\",s1)\n",
    "print(\"the s2 is\",s2)"
   ]
  },
  {
   "cell_type": "code",
   "execution_count": 66,
   "id": "b3104202-e833-4261-bc2c-d2c3eae4d38c",
   "metadata": {},
   "outputs": [
    {
     "name": "stdout",
     "output_type": "stream",
     "text": [
      "The output is Dictionary*unpacking*is*a*process*where*we*will*unpack*every*element*of*Dictionary*in*multiple*variables\n"
     ]
    }
   ],
   "source": [
    "s=\"Tuple unpacking is a process where we will unpack every element of Tuple in multiple variables\"\n",
    "s1=s.replace(\" \",\"*\")\n",
    "s2=s1.replace(\"Tuple\",\"Dictionary\")\n",
    "print(\"The output is\",s2)"
   ]
  },
  {
   "cell_type": "code",
   "execution_count": 71,
   "id": "0b14df12-0f66-42d0-bb99-1b334f860424",
   "metadata": {},
   "outputs": [
    {
     "name": "stdout",
     "output_type": "stream",
     "text": [
      "[1, 2, 4, 2, 45, 5, 'hi', 'dhskekjg', 0.7, 'u', True, 9, 100]\n",
      "[1, 4, 2, 45, 5, 'hi', 'dhskekjg', 0.7, 'u', True, 9, 100]\n",
      "[1, 4, 2, 45, 5, 'hello', 'hi', 'dhskekjg', 0.7, 'u', True, 9, 100]\n",
      "[1, 4, 2, 5, 'hello', 'hi', 'dhskekjg', 0.7, 'u', True, 9, 100]\n",
      "12\n"
     ]
    }
   ],
   "source": [
    "#list\n",
    "my_list=[1,2,4,2,45,5,\"hi\",\"dhskekjg\",0.7,'u',True,9]\n",
    "my_list.append(100)\n",
    "print(my_list)\n",
    "my_list.remove(2)\n",
    "print(my_list)\n",
    "my_list.insert(5,\"hello\")\n",
    "print(my_list)\n",
    "my_list.pop(3)\n",
    "print(my_list)\n",
    "print(len(my_list))"
   ]
  },
  {
   "cell_type": "code",
   "execution_count": 82,
   "id": "7ce174ee-ee26-4e0e-9cd8-4caf9931866e",
   "metadata": {},
   "outputs": [
    {
     "name": "stdout",
     "output_type": "stream",
     "text": [
      "[1, 2, 3, 4, 5, 6, 7, 8, True, False, 'hello', 'fine', 9.5, 3]\n",
      "[1, 2, 3, 4, 5, 6, 7, 8, True, False, 'hello', 'fine', 9.5, 3, 6]\n",
      "[1, 2, 4, 5, 6, 7, 8, True, False, 'hello', 'fine', 9.5, 3, 6]\n",
      "[1, 2, 4, 10, 5, 6, 7, 8, True, False, 'hello', 'fine', 9.5, 3, 6]\n",
      "[1, 2, 4, 10, 6, 7, 8, True, False, 'hello', 'fine', 9.5, 3, 6]\n",
      "14\n",
      "['fine', 3]\n",
      "[1, 4, 6, 8, False]\n",
      "[6, 3, 9.5, 'fine', 'hello', False, True, 8, 7, 6, 10, 4, 2, 1]\n"
     ]
    }
   ],
   "source": [
    "my_list=[1,2,3,4,5,6,7,8,True,False,\"hello\",\"fine\",9.5,3]\n",
    "print(my_list)\n",
    "my_list.append(6)\n",
    "print(my_list)\n",
    "my_list.remove(3)\n",
    "print(my_list)\n",
    "my_list.insert(3,10)\n",
    "print(my_list)\n",
    "my_list.pop(4)\n",
    "print(my_list)\n",
    "print(len(my_list))\n",
    "print(my_list[-4::2])\n",
    "print(my_list[:-4:2])\n",
    "print(my_list[::-1])"
   ]
  },
  {
   "cell_type": "code",
   "execution_count": 78,
   "id": "1f2360b6-3402-4b32-9ab6-67b1fbb80ee9",
   "metadata": {},
   "outputs": [
    {
     "name": "stdout",
     "output_type": "stream",
     "text": [
      "[23, 56, 45, 11, 111, 0]\n",
      "[0, 11, 23, 45, 56, 111]\n",
      "[111, 56, 45, 23, 11, 0]\n"
     ]
    }
   ],
   "source": [
    "lst=[23,56,45,11,111,0]\n",
    "print(lst)\n",
    "lst.sort()\n",
    "print(lst)\n",
    "lst.reverse()\n",
    "print(lst)"
   ]
  },
  {
   "cell_type": "code",
   "execution_count": 93,
   "id": "55a4a0d0-7a4b-4968-bc98-3bdca0eaf5f7",
   "metadata": {},
   "outputs": [
    {
     "name": "stdout",
     "output_type": "stream",
     "text": [
      "[0, 2, 4, 6, 8, 1, 3, 5, 7, 9]\n",
      "[3, 7]\n",
      "[0, 2, 4, 6, 8, 1]\n",
      "[9, 7, 5, 3, 1, 8, 6, 4, 2, 0]\n",
      "[4, 6, 8, 1, 3, 5]\n",
      "[4, 8, 3]\n"
     ]
    }
   ],
   "source": [
    "lst1=[0,2,4,6,8,1,3,5,7,9]\n",
    "print(lst1)\n",
    "print(lst1[-4::2])\n",
    "print(lst1[:6:])\n",
    "print(lst1[::-1])\n",
    "print(lst1[2:8:])\n",
    "print(lst1[2:8:2])"
   ]
  },
  {
   "cell_type": "code",
   "execution_count": 96,
   "id": "ebb3f0b2-03a4-4255-bbd7-0f6d97e6b20a",
   "metadata": {},
   "outputs": [
    {
     "name": "stdout",
     "output_type": "stream",
     "text": [
      "[1, 3, 5, 7, 9, 11, 13, 15, 17, 19, 21, 23, 25, 27, 29, 31, 33, 35, 37, 39, 41, 43, 45, 47, 49]\n"
     ]
    }
   ],
   "source": [
    "lst=[x for x in range(0,51) if x % 2 != 0]\n",
    "print(lst)"
   ]
  },
  {
   "cell_type": "code",
   "execution_count": 99,
   "id": "081ccafb-f701-4417-8e09-d256662740da",
   "metadata": {},
   "outputs": [
    {
     "name": "stdout",
     "output_type": "stream",
     "text": [
      "[4, 8, 12, 16, 20, 24, 28, 32, 36, 40, 44, 48, 52, 56, 60, 64, 68, 72, 76, 80, 84, 88, 92, 96, 100]\n"
     ]
    }
   ],
   "source": [
    "lst1=[x for x in range(1,101) if x % 2 == 0 and x % 4 == 0]\n",
    "print(lst1)"
   ]
  },
  {
   "cell_type": "code",
   "execution_count": 100,
   "id": "c17a6d65-9a63-4bf0-a92f-80021ff3cb4e",
   "metadata": {},
   "outputs": [
    {
     "name": "stdout",
     "output_type": "stream",
     "text": [
      "[0, 10, 20, 30, 40, 50, 60, 70, 80, 90, 100, 110, 120, 130, 140, 150, 160, 170, 180, 190, 200, 210, 220, 230, 240, 250, 260, 270, 280, 290, 300, 310, 320, 330, 340, 350, 360, 370, 380, 390, 400, 410, 420, 430, 440, 450, 460, 470, 480, 490, 500, 510, 520, 530, 540, 550, 560, 570, 580, 590, 600, 610, 620, 630, 640, 650, 660, 670, 680, 690, 700, 710, 720, 730, 740, 750, 760, 770, 780, 790, 800, 810, 820, 830, 840, 850, 860, 870, 880, 890, 900, 910, 920, 930, 940, 950, 960, 970, 980, 990, 1000]\n"
     ]
    }
   ],
   "source": [
    "lst1=[x for x in range(0,1001) if x % 5 == 0 and x % 10 == 0]\n",
    "print(lst1)"
   ]
  },
  {
   "cell_type": "code",
   "execution_count": 101,
   "id": "b2f20ca4-dcbd-48b0-8d9f-ff5175a9fb15",
   "metadata": {},
   "outputs": [
    {
     "name": "stdout",
     "output_type": "stream",
     "text": [
      "[50.0, 68.0, 86.0, 104.0, 122.0]\n"
     ]
    }
   ],
   "source": [
    "celsius=[10,20,30,40,50]\n",
    "fahrenheit=[(x * 9 / 5) + 32 for x in celsius]\n",
    "print(fahrenheit)"
   ]
  },
  {
   "cell_type": "code",
   "execution_count": 104,
   "id": "54b4b437-0000-41d4-9289-f51db24e8c25",
   "metadata": {},
   "outputs": [
    {
     "name": "stdout",
     "output_type": "stream",
     "text": [
      "[-12.222222222222221, -6.666666666666667, -1.1111111111111112, 4.444444444444445, 10.0]\n"
     ]
    }
   ],
   "source": [
    "fahrenheit=[10,20,30,40,50]\n",
    "celsius=[(x - 32)* 5 / 9 for x in fahrenheit]\n",
    "print(celsius)"
   ]
  },
  {
   "cell_type": "code",
   "execution_count": 105,
   "id": "cf9346ea-0739-44fc-a56d-e740cd2c67ab",
   "metadata": {},
   "outputs": [
    {
     "name": "stdout",
     "output_type": "stream",
     "text": [
      "['ai', 'ta', 'ai', 'ne']\n"
     ]
    }
   ],
   "source": [
    "places=[\"chennai\",\"kolkata\",\"mumbai\",\"pune\"]\n",
    "lst=[ word[-2::] for word in places]\n",
    "print(lst)"
   ]
  },
  {
   "cell_type": "code",
   "execution_count": 10,
   "id": "69446e91-6482-4fbc-b101-541f954d888f",
   "metadata": {},
   "outputs": [
    {
     "name": "stdout",
     "output_type": "stream",
     "text": [
      "(1, 3, 5, 7, 9, 2, 4, 6, 8, 0)\n"
     ]
    }
   ],
   "source": [
    "p=(1,3,5,7,9,2,4,6,8,0)\n",
    "#del p\n",
    "print(p)\n"
   ]
  },
  {
   "cell_type": "code",
   "execution_count": 9,
   "id": "902a563f-9427-4988-aa14-8a523bd615a3",
   "metadata": {},
   "outputs": [
    {
     "name": "stdout",
     "output_type": "stream",
     "text": [
      "(1, 2, 4, 5, 6, 8, 12, 67, 90, 3, 21, 45, 78, 89, 11, 67)\n",
      "(2, 5)\n",
      "(1, 2, 4, 5, 6, 8)\n",
      "(89, 11, 67)\n",
      "(67, 11, 89, 78, 45, 21, 3, 90, 67, 12, 8, 6, 5, 4, 2, 1)\n",
      "(1, 4, 6, 12, 90)\n",
      "(1, 2, 4)\n"
     ]
    }
   ],
   "source": [
    "lst=(1,2,4,5,6,8,12,67,90,3,21,45,78,89,11,67)\n",
    "print(lst)\n",
    "print(lst[1:5:2])\n",
    "print(lst[:6:])\n",
    "print(lst[-3::])\n",
    "print(lst[::-1])\n",
    "print(lst[:10:2])\n",
    "print(lst[-16:-13:])"
   ]
  },
  {
   "cell_type": "code",
   "execution_count": 11,
   "id": "b458923d-2e7b-431f-8843-c41b1b8c511b",
   "metadata": {},
   "outputs": [
    {
     "name": "stdout",
     "output_type": "stream",
     "text": [
      "total sum is 120\n"
     ]
    }
   ],
   "source": [
    "v=(0,1,2,3,4,5,6,7,8,9,10,11,12,13,14,15)\n",
    "total=0\n",
    "for i in v:\n",
    "    total+=i\n",
    "print(\"total sum is\",total)"
   ]
  },
  {
   "cell_type": "code",
   "execution_count": 12,
   "id": "3342f559-f5eb-4d8b-9ce8-c53351ea4d9d",
   "metadata": {},
   "outputs": [
    {
     "name": "stdout",
     "output_type": "stream",
     "text": [
      "120\n"
     ]
    }
   ],
   "source": [
    "v=(0,1,2,3,4,5,6,7,8,9,10,11,12,13,14,15)\n",
    "total=sum(v)\n",
    "print(total)"
   ]
  },
  {
   "cell_type": "code",
   "execution_count": 25,
   "id": "4f5641ed-7513-487e-837c-fa7a1f21adc8",
   "metadata": {},
   "outputs": [
    {
     "name": "stdout",
     "output_type": "stream",
     "text": [
      "{'name': 'Henry', 'place': 'Scotland', 'age': 35, 'email': 'henrygmail.com', 'ph.no': 1234567}\n",
      "{'name': 'Henry', 'place': 'Chennai', 'age': 35, 'email': 'henrygmail.com', 'ph.no': 1234567}\n",
      "{'name': 'Henry', 'place': 'Chennai', 'age': 36, 'email': 'henrygmail.com', 'ph.no': 1234567}\n",
      "{'name': 'Henry', 'place': 'Chennai', 'age': 36, 'email': 'henry67@gmail.com', 'ph.no': 1234567}\n",
      "{'name': 'Henry', 'place': 'Chennai', 'age': 36, 'email': 'henry67@gmail.com', 'fax': '890jhad'}\n",
      "{}\n"
     ]
    }
   ],
   "source": [
    "my_tourist={\n",
    "    \"name\":\"Henry\",\n",
    "    \"place\":\"Scotland\",\n",
    "    \"age\":35,\n",
    "    \"email\":\"henrygmail.com\",\n",
    "    \"ph.no\":1234567\n",
    "}\n",
    "my_tourist.items()\n",
    "print(my_tourist)\n",
    "my_tourist[\"place\"]=\"Chennai\"\n",
    "print(my_tourist)\n",
    "my_tourist[\"age\"]=36\n",
    "print(my_tourist)\n",
    "my_tourist[\"email\"]=\"henry67@gmail.com\"\n",
    "print(my_tourist)\n",
    "del my_tourist[\"ph.no\"]\n",
    "my_tourist[\"fax\"]=\"890jhad\"\n",
    "print(my_tourist)\n",
    "my_tourist.clear()\n",
    "print(my_tourist)"
   ]
  },
  {
   "cell_type": "code",
   "execution_count": 64,
   "id": "3337297f-5d92-4f7b-99b1-6fe84fd38c27",
   "metadata": {},
   "outputs": [
    {
     "ename": "KeyError",
     "evalue": "'phone'",
     "output_type": "error",
     "traceback": [
      "\u001b[0;31m---------------------------------------------------------------------------\u001b[0m",
      "\u001b[0;31mKeyError\u001b[0m                                  Traceback (most recent call last)",
      "Cell \u001b[0;32mIn[64], line 9\u001b[0m\n\u001b[1;32m      7\u001b[0m students[\u001b[38;5;124m\"\u001b[39m\u001b[38;5;124mhindi\u001b[39m\u001b[38;5;124m\"\u001b[39m] \u001b[38;5;241m=\u001b[39m \u001b[38;5;241m75\u001b[39m\n\u001b[1;32m      8\u001b[0m students[\u001b[38;5;124m\"\u001b[39m\u001b[38;5;124mstu1\u001b[39m\u001b[38;5;124m\"\u001b[39m][\u001b[38;5;124m\"\u001b[39m\u001b[38;5;124mplace\u001b[39m\u001b[38;5;124m\"\u001b[39m] \u001b[38;5;241m=\u001b[39m \u001b[38;5;124m\"\u001b[39m\u001b[38;5;124merode\u001b[39m\u001b[38;5;124m\"\u001b[39m\n\u001b[0;32m----> 9\u001b[0m \u001b[38;5;28;01mdel\u001b[39;00m students[\u001b[38;5;124m\"\u001b[39m\u001b[38;5;124mstu1\u001b[39m\u001b[38;5;124m\"\u001b[39m][\u001b[38;5;124m\"\u001b[39m\u001b[38;5;124mphone\u001b[39m\u001b[38;5;124m\"\u001b[39m]\n\u001b[1;32m     10\u001b[0m \u001b[38;5;28;01mdel\u001b[39;00m students[name][email]\n\u001b[1;32m     11\u001b[0m \u001b[38;5;28mprint\u001b[39m(students)\n",
      "\u001b[0;31mKeyError\u001b[0m: 'phone'"
     ]
    }
   ],
   "source": [
    "students={\n",
    "    \"stu1\":{\"name\":\"kalyani\",\"class\":10,\"eng\":45,\"sci\":78,\"soc\":80,\"ph.no\":123456789,\"email\":\"kalyani@gmail.com\"},\n",
    "    \"stu2\":{\"name\":\"vimala\",\"class\":10,\"eng\":45,\"sci\":78,\"soc\":80,\"ph.no\":987654321,\"email\":\"vimala@gmail.com\"},\n",
    "    \"stu3\":{\"name\":\"baskar\",\"class\":10,\"eng\":45,\"sci\":78,\"soc\":80,\"ph.no\":135792468,\"email\":\"baskar@gmail.com\"}\n",
    "}\n",
    "students[\"cs\"] = 85  \n",
    "students[\"hindi\"] = 75\n",
    "students[\"stu1\"][\"place\"] = \"erode\"\n",
    "del students[\"stu1\"][\"phone\"]\n",
    "del students[name][email]\n",
    "print(students)"
   ]
  },
  {
   "cell_type": "code",
   "execution_count": 65,
   "id": "29929cb9-d469-46ab-91e5-0dade9dfc83c",
   "metadata": {},
   "outputs": [
    {
     "name": "stdout",
     "output_type": "stream",
     "text": [
      "True\n"
     ]
    }
   ],
   "source": [
    "w1=\"silent\"\n",
    "w2=\"listen\"\n",
    "if len(w1) != len(w2):\n",
    "    is_anagram = false\n",
    "else:\n",
    "    freq1 = {}\n",
    "    freq2 = {}\n",
    "    for ch in w1:\n",
    "        freq1[ch] = freq1.get(ch,0) + 1\n",
    "    for ch in w2:\n",
    "        freq2[ch] = freq2.get(ch,0) + 1\n",
    "    is_anagram = freq1 == freq2\n",
    "print(is_anagram)"
   ]
  },
  {
   "cell_type": "code",
   "execution_count": 70,
   "id": "9cf73a8d-3fbd-4de3-82af-fdcc8b318f17",
   "metadata": {},
   "outputs": [
    {
     "name": "stdout",
     "output_type": "stream",
     "text": [
      "True\n"
     ]
    }
   ],
   "source": [
    "w1=\"stop\"\n",
    "w2=\"post\"\n",
    "if len(w1) != len(w2):\n",
    "    is_anagram = False\n",
    "else:\n",
    "    freq1 = {}\n",
    "    freq2 = {}\n",
    "    for ch in w1:\n",
    "        freq1[ch] = freq1.get(ch,0) + 1\n",
    "    for ch in w2:\n",
    "        freq2[ch] = freq2.get(ch,0) + 1\n",
    "    is_anagram = freq1 == freq2\n",
    "print(is_anagram)"
   ]
  },
  {
   "cell_type": "code",
   "execution_count": 67,
   "id": "cc026c51-5a28-42ee-8f31-a998af6dc566",
   "metadata": {},
   "outputs": [
    {
     "name": "stdout",
     "output_type": "stream",
     "text": [
      "True\n"
     ]
    }
   ],
   "source": [
    "w1=\"care\"\n",
    "w2=\"race\"\n",
    "if len(w1) != len(w2):\n",
    "    is_anagram = False\n",
    "else:\n",
    "    freq1 = {}\n",
    "    freq2 = {}\n",
    "    for ch in w1:\n",
    "        freq1[ch] = freq1.get(ch,0) + 1\n",
    "    for ch in w2:\n",
    "        freq2[ch] = freq2.get(ch,0) + 1\n",
    "    is_anagram = freq1 == freq2\n",
    "print(is_anagram)"
   ]
  },
  {
   "cell_type": "code",
   "execution_count": 68,
   "id": "7de682f6-c5d6-47d5-b9a4-a9810c741ae5",
   "metadata": {},
   "outputs": [
    {
     "name": "stdout",
     "output_type": "stream",
     "text": [
      "True\n"
     ]
    }
   ],
   "source": [
    "w1=\"lemon\"\n",
    "w2=\"melon\"\n",
    "if len(w1) != len(w2):\n",
    "    is_anagram = False\n",
    "else:\n",
    "    freq1 = {}\n",
    "    freq2 = {}\n",
    "    for ch in w1:\n",
    "        freq1[ch] = freq1.get(ch,0) + 1\n",
    "    for ch in w2:\n",
    "        freq2[ch] = freq2.get(ch,0) + 1\n",
    "    is_anagram = freq1 == freq2\n",
    "print(is_anagram)"
   ]
  },
  {
   "cell_type": "code",
   "execution_count": 71,
   "id": "9dc44d63-f812-435b-8c56-53406fefea2d",
   "metadata": {},
   "outputs": [
    {
     "name": "stdout",
     "output_type": "stream",
     "text": [
      "False\n"
     ]
    }
   ],
   "source": [
    "w1=\"fuel\"\n",
    "w2=\"few\"\n",
    "if len(w1) != len(w2):\n",
    "    is_anagram = False\n",
    "else:\n",
    "    freq1 = {}\n",
    "    freq2 = {}\n",
    "    for ch in w1:\n",
    "        freq1[ch] = freq1.get(ch,0) + 1\n",
    "    for ch in w2:\n",
    "        freq2[ch] = freq2.get(ch,0) + 1\n",
    "    is_anagram = freq1 == freq2\n",
    "print(is_anagram)"
   ]
  },
  {
   "cell_type": "code",
   "execution_count": 77,
   "id": "1d3432f4-d0a0-4133-9e80-42ccd52f8f07",
   "metadata": {},
   "outputs": [
    {
     "name": "stdout",
     "output_type": "stream",
     "text": [
      "name  : Henry\n",
      "place : Scotland\n",
      "age   : 35\n",
      "email : henrygmail.com\n",
      "ph.no : 1234567\n"
     ]
    }
   ],
   "source": [
    "my_tourist={\n",
    "    \"name  :\":\"Henry\",\n",
    "    \"place :\":\"Scotland\",\n",
    "    \"age   :\":35,\n",
    "    \"email :\":\"henrygmail.com\",\n",
    "    \"ph.no :\":1234567\n",
    "}\n",
    "for key,values in my_tourist.items():\n",
    "    print(key,values)"
   ]
  },
  {
   "cell_type": "code",
   "execution_count": 78,
   "id": "4cda50ac-4267-4bfc-a336-ae6801aface3",
   "metadata": {},
   "outputs": [
    {
     "name": "stdout",
     "output_type": "stream",
     "text": [
      "name  :\n",
      "place :\n",
      "age   :\n",
      "email :\n",
      "ph.no :\n"
     ]
    }
   ],
   "source": [
    "for key,values in my_tourist.items():\n",
    "    print(key)"
   ]
  },
  {
   "cell_type": "code",
   "execution_count": 79,
   "id": "f3ae3e50-e3b7-46c6-8140-0ec2a7e13632",
   "metadata": {},
   "outputs": [
    {
     "name": "stdout",
     "output_type": "stream",
     "text": [
      "Henry\n",
      "Scotland\n",
      "35\n",
      "henrygmail.com\n",
      "1234567\n"
     ]
    }
   ],
   "source": [
    "for key,values in my_tourist.items():\n",
    "    print(values)"
   ]
  },
  {
   "cell_type": "code",
   "execution_count": 106,
   "id": "aa59de8a-23ab-4cce-a66f-8b2957f355ce",
   "metadata": {},
   "outputs": [
    {
     "name": "stdout",
     "output_type": "stream",
     "text": [
      "{5, 6, 7, 8, 9, 10}\n",
      "{7}\n",
      "{5, 6}\n",
      "{5, 6, 8, 9, 10}\n",
      "{5, 7}\n",
      "{8, 9, 10}\n",
      "5\n",
      "{7}\n"
     ]
    },
    {
     "ename": "KeyError",
     "evalue": "'pop from an empty set'",
     "output_type": "error",
     "traceback": [
      "\u001b[0;31m---------------------------------------------------------------------------\u001b[0m",
      "\u001b[0;31mKeyError\u001b[0m                                  Traceback (most recent call last)",
      "Cell \u001b[0;32mIn[106], line 17\u001b[0m\n\u001b[1;32m     15\u001b[0m \u001b[38;5;28mprint\u001b[39m(x)     \n\u001b[1;32m     16\u001b[0m empty \u001b[38;5;241m=\u001b[39m \u001b[38;5;28mset\u001b[39m()\n\u001b[0;32m---> 17\u001b[0m empty\u001b[38;5;241m.\u001b[39mpop()\n",
      "\u001b[0;31mKeyError\u001b[0m: 'pop from an empty set'"
     ]
    }
   ],
   "source": [
    "x={5,6,7}\n",
    "y={7,8,9,10}\n",
    "#1.union,intersection,difference,symmetirc_difference in set\n",
    "print(x|y)\n",
    "print(x&y)\n",
    "print(x-y)\n",
    "print(x^y)\n",
    "#what is diff between remove, discard, & pop in set\n",
    "x.remove(6)\n",
    "print(x)\n",
    "y.discard(7)\n",
    "print(y)\n",
    "item = x.pop()  \n",
    "print(item)    \n",
    "print(x)     \n",
    "empty = set()\n",
    "empty.pop()"
   ]
  },
  {
   "cell_type": "code",
   "execution_count": 90,
   "id": "5c1e7cfd-376e-44c5-9235-63dcb8198475",
   "metadata": {},
   "outputs": [
    {
     "name": "stdout",
     "output_type": "stream",
     "text": [
      "100\n",
      "50\n"
     ]
    }
   ],
   "source": [
    "#function \n",
    "def my_func(a,b=10):\n",
    "    return a*b\n",
    "print(my_func(10,10))\n",
    "print(my_func(5))   "
   ]
  },
  {
   "cell_type": "code",
   "execution_count": 87,
   "id": "461eaa9a-a862-4b22-9b21-e7dad38e1b84",
   "metadata": {},
   "outputs": [
    {
     "name": "stdout",
     "output_type": "stream",
     "text": [
      "1.0\n",
      "0.5\n"
     ]
    }
   ],
   "source": [
    "def my_func(a,b=10):\n",
    "    return a/b\n",
    "print(my_func(10,10))\n",
    "print(my_func(5))"
   ]
  },
  {
   "cell_type": "code",
   "execution_count": 88,
   "id": "6dcfd883-f942-4d85-a8b0-cae57b4ce280",
   "metadata": {},
   "outputs": [
    {
     "name": "stdout",
     "output_type": "stream",
     "text": [
      "10000000000\n",
      "9765625\n"
     ]
    }
   ],
   "source": [
    "def my_func(a,b=10):  \n",
    "    return a**b    \n",
    "print(my_func(10,10))\n",
    "print(my_func(5))"
   ]
  },
  {
   "cell_type": "code",
   "execution_count": 89,
   "id": "86469da8-8f14-4edf-a2e8-492b5e137003",
   "metadata": {},
   "outputs": [
    {
     "name": "stdout",
     "output_type": "stream",
     "text": [
      "1\n",
      "0\n"
     ]
    }
   ],
   "source": [
    "def my_func(a,b=10):  \n",
    "    return a//b    \n",
    "print(my_func(10,10))\n",
    "print(my_func(5))"
   ]
  },
  {
   "cell_type": "code",
   "execution_count": 94,
   "id": "a6067fc0-05f8-46ce-94c4-13cd8698408d",
   "metadata": {},
   "outputs": [
    {
     "name": "stdout",
     "output_type": "stream",
     "text": [
      "the first nam: shreevasthava  and the last name: srinivasalu\n"
     ]
    }
   ],
   "source": [
    "def name_arrange(fname,lname):\n",
    "    print(\"the first nam:\",fname,\" and the last name:\",lname)\n",
    "name_arrange(lname=\"srinivasalu\",fname=\"shreevasthava\")"
   ]
  },
  {
   "cell_type": "code",
   "execution_count": 99,
   "id": "3b1dc839-1891-4c77-93ee-93138d4a0b2e",
   "metadata": {},
   "outputs": [
    {
     "name": "stdout",
     "output_type": "stream",
     "text": [
      "my name is  shree ,\n",
      "my age is 20\n"
     ]
    }
   ],
   "source": [
    "def person(name,age):\n",
    "    print(\"my name is \",name,\",\")\n",
    "    print(\"my age is\",age)\n",
    "person(\"shree\",20)"
   ]
  },
  {
   "cell_type": "code",
   "execution_count": 96,
   "id": "b50b37ac-0fdf-4cea-a802-dd3814d85441",
   "metadata": {},
   "outputs": [
    {
     "name": "stdout",
     "output_type": "stream",
     "text": [
      "my name is shree and my age is 20\n"
     ]
    }
   ],
   "source": [
    "def person(name,age):\n",
    "    print(\"my name is\",name,\"and my age is\",age)\n",
    "person(\"shree\",20)"
   ]
  },
  {
   "cell_type": "code",
   "execution_count": 107,
   "id": "3547dd60-a4be-4712-8a73-dd6762f5420b",
   "metadata": {},
   "outputs": [
    {
     "name": "stdout",
     "output_type": "stream",
     "text": [
      "[1, 2, 3]\n"
     ]
    }
   ],
   "source": [
    "def convert_numbers_to_list(*args) -> list:\n",
    "    return list(args)\n",
    "print(convert_numbers_to_list(1,2,3)"
   ]
  },
  {
   "cell_type": "code",
   "execution_count": 112,
   "id": "f85209e3-f3cd-4c6d-9e9a-079ed61855a9",
   "metadata": {},
   "outputs": [
    {
     "name": "stdout",
     "output_type": "stream",
     "text": [
      "{1, 2, 3}\n"
     ]
    }
   ],
   "source": [
    "def convert_numbers_to_set(*args) -> set:\n",
    "    return set(args)\n",
    "print(convert_numbers_to_set(1,2,3))"
   ]
  },
  {
   "cell_type": "code",
   "execution_count": 123,
   "id": "ddbfde11-4bb0-40da-89f7-2c7855f6f5a0",
   "metadata": {},
   "outputs": [
    {
     "name": "stdout",
     "output_type": "stream",
     "text": [
      "name thamirabharani\n",
      "age 3200\n",
      "place thirunelveli\n"
     ]
    }
   ],
   "source": [
    "def my_func(**kwargs):\n",
    "    for key,values in kwargs.items():\n",
    "        print(key,values)\n",
    "my_func(name=\"thamirabharani\",age=3200 ,place=\"thirunelveli\",)"
   ]
  },
  {
   "cell_type": "code",
   "execution_count": 124,
   "id": "b9160232-f6ab-49da-a912-2dfeddc702de",
   "metadata": {},
   "outputs": [
    {
     "name": "stdout",
     "output_type": "stream",
     "text": [
      "name Chennai\n",
      "age 383\n"
     ]
    }
   ],
   "source": [
    "def my_func(**kwargs):\n",
    "    for key,values in kwargs.items():\n",
    "        print(key,values)\n",
    "my_func(name=\"Chennai\",age=383)"
   ]
  },
  {
   "cell_type": "code",
   "execution_count": 128,
   "id": "41b5fec7-29b9-4383-9998-e4696b9d9a0d",
   "metadata": {},
   "outputs": [
    {
     "name": "stdout",
     "output_type": "stream",
     "text": [
      "name tamil\n",
      "age 10000\n",
      "place tamil nadu\n"
     ]
    }
   ],
   "source": [
    "def my_func(**kwargs):\n",
    "    for key,values in kwargs.items():\n",
    "        print(key,values) \n",
    "my_func(name=\"tamil\",age=10000 ,place=\"tamil nadu\")"
   ]
  },
  {
   "cell_type": "code",
   "execution_count": 133,
   "id": "876c5834-6b3c-492d-8b65-886282e937ce",
   "metadata": {},
   "outputs": [
    {
     "name": "stdout",
     "output_type": "stream",
     "text": [
      "inside the function 12\n",
      "outside the function 2\n"
     ]
    }
   ],
   "source": [
    "def pass_by_value(x):\n",
    "    x+=10\n",
    "    print(\"inside the function\",x)\n",
    "a=2\n",
    "pass_by_value(a)\n",
    "print(\"outside the function\",a)"
   ]
  },
  {
   "cell_type": "code",
   "execution_count": 134,
   "id": "1ffa1e1b-8918-40b4-8451-c033994c1d9f",
   "metadata": {},
   "outputs": [
    {
     "name": "stdout",
     "output_type": "stream",
     "text": [
      "Inside function: [1, 2, 3, 100]\n",
      "Outside function: [1, 2, 3, 100]\n"
     ]
    }
   ],
   "source": [
    "def modify_list(lst):\n",
    "    lst.append(100)\n",
    "    print(\"Inside function:\", lst)\n",
    "\n",
    "my_list = [1, 2, 3]\n",
    "modify_list(my_list)\n",
    "print(\"Outside function:\", my_list)"
   ]
  },
  {
   "cell_type": "code",
   "execution_count": 148,
   "id": "51dc223f-1072-48bd-8548-d11d19478fc9",
   "metadata": {},
   "outputs": [
    {
     "ename": "TypeError",
     "evalue": "rec_of_elder_citizen() missing 3 required positional arguments: 'name', 'phone', and 'place'",
     "output_type": "error",
     "traceback": [
      "\u001b[0;31m---------------------------------------------------------------------------\u001b[0m",
      "\u001b[0;31mTypeError\u001b[0m                                 Traceback (most recent call last)",
      "Cell \u001b[0;32mIn[148], line 3\u001b[0m\n\u001b[1;32m      1\u001b[0m \u001b[38;5;28;01mdef\u001b[39;00m \u001b[38;5;21mrec_of_elder_citizen\u001b[39m(name,phone,place,email\u001b[38;5;241m=\u001b[39m\u001b[38;5;124m\"\u001b[39m\u001b[38;5;124mhenry@gmail.com\u001b[39m\u001b[38;5;124m\"\u001b[39m,age\u001b[38;5;241m=\u001b[39m\u001b[38;5;241m89\u001b[39m):\n\u001b[1;32m      2\u001b[0m     \u001b[38;5;28mprint\u001b[39m(\u001b[38;5;124m\"\u001b[39m\u001b[38;5;124mthe name of the elder person is\u001b[39m\u001b[38;5;124m\"\u001b[39m,name,\u001b[38;5;124m\"\u001b[39m\u001b[38;5;124mage is\u001b[39m\u001b[38;5;124m\"\u001b[39m,age,\u001b[38;5;124m\"\u001b[39m\u001b[38;5;124mand can contact the person using\u001b[39m\u001b[38;5;124m\"\u001b[39m,phone,\u001b[38;5;124m\"\u001b[39m\u001b[38;5;124mand the person lives is this\u001b[39m\u001b[38;5;124m\"\u001b[39m,place,\u001b[38;5;124m\"\u001b[39m\u001b[38;5;124mand email id is\u001b[39m\u001b[38;5;124m\"\u001b[39m,email,)\n\u001b[0;32m----> 3\u001b[0m rec_of_elder_citizen()\n",
      "\u001b[0;31mTypeError\u001b[0m: rec_of_elder_citizen() missing 3 required positional arguments: 'name', 'phone', and 'place'"
     ]
    }
   ],
   "source": [
    "def rec_of_elder_citizen(name,phone,place,email=\"henry@gmail.com\",age=89):\n",
    "    print(\"the name of the elder person is\",name,\"age is\",age,\"and can contact the person using\",phone,\"and the person lives is this\",place,\"and email id is\",email,)\n",
    "rec_of_elder_citizen()"
   ]
  },
  {
   "cell_type": "code",
   "execution_count": 151,
   "id": "412b3fe8-a108-49f4-99d0-df120c7ef786",
   "metadata": {},
   "outputs": [
    {
     "ename": "SyntaxError",
     "evalue": "positional argument follows keyword argument (4285484355.py, line 1)",
     "output_type": "error",
     "traceback": [
      "\u001b[0;36m  Cell \u001b[0;32mIn[151], line 1\u001b[0;36m\u001b[0m\n\u001b[0;31m    rec_of_elder_citizen(name=\"shree\",20,7358260807,\"chennai\")\u001b[0m\n\u001b[0m                                                             ^\u001b[0m\n\u001b[0;31mSyntaxError\u001b[0m\u001b[0;31m:\u001b[0m positional argument follows keyword argument\n"
     ]
    }
   ],
   "source": [
    "rec_of_elder_citizen(name=\"shree\",20,7358260807,\"chennai\")"
   ]
  },
  {
   "cell_type": "code",
   "execution_count": 153,
   "id": "0c688d79-7fa3-43ba-823e-dfe856b05243",
   "metadata": {},
   "outputs": [
    {
     "name": "stdout",
     "output_type": "stream",
     "text": [
      "the name of the elder person is 'krisha' age is 10 and can contact the person using 9791122031 and the person lives is this 'delhi' and email id is henry@gmail.com\n"
     ]
    }
   ],
   "source": [
    "rec_of_elder_citizen(\"'krisha'\",age='10',phone='9791122031',place=\"'delhi'\")"
   ]
  },
  {
   "cell_type": "code",
   "execution_count": 154,
   "id": "cf7e568d-d685-4d63-9121-55d714b0bba4",
   "metadata": {},
   "outputs": [
    {
     "name": "stdout",
     "output_type": "stream",
     "text": [
      "WELCOME TO MY CLASS\n"
     ]
    }
   ],
   "source": [
    "s1=\"welcome to my class\"\n",
    "s2=lambda s:s.upper()\n",
    "print(s2(s1))"
   ]
  },
  {
   "cell_type": "code",
   "execution_count": 155,
   "id": "e87f8cb2-621b-44b7-8560-41c5678ec9c2",
   "metadata": {},
   "outputs": [
    {
     "name": "stdout",
     "output_type": "stream",
     "text": [
      "Welcome To My Class\n"
     ]
    }
   ],
   "source": [
    "s1=\"welcome to my class\"\n",
    "s2=lambda s:s.title()\n",
    "print(s2(s1))"
   ]
  },
  {
   "cell_type": "code",
   "execution_count": 156,
   "id": "d104faa0-38ad-4160-8365-127d1a9b5b8b",
   "metadata": {},
   "outputs": [
    {
     "name": "stdout",
     "output_type": "stream",
     "text": [
      "welcome to my class\n"
     ]
    }
   ],
   "source": [
    "s1=\"welcome to my class\"\n",
    "s2=lambda s:s.lower()\n",
    "print(s2(s1))"
   ]
  },
  {
   "cell_type": "code",
   "execution_count": 159,
   "id": "fa2757cb-6621-4dcc-88c8-76f23213fdae",
   "metadata": {},
   "outputs": [
    {
     "name": "stdout",
     "output_type": "stream",
     "text": [
      "False\n"
     ]
    }
   ],
   "source": [
    "s1=\"Welcome To My Class\"\n",
    "s2=lambda s:s.isalpha()\n",
    "print(s2(s1))"
   ]
  },
  {
   "cell_type": "code",
   "execution_count": 160,
   "id": "6373bc47-617a-4c8c-be6a-5703eda9d01c",
   "metadata": {},
   "outputs": [
    {
     "name": "stdout",
     "output_type": "stream",
     "text": [
      "False\n"
     ]
    }
   ],
   "source": [
    "s1=\"welcome to my class\"\n",
    "s2=lambda s:s.isnumeric()\n",
    "print(s2(s1))"
   ]
  },
  {
   "cell_type": "code",
   "execution_count": 166,
   "id": "464de796-7ddc-473a-a098-84e4d69086fd",
   "metadata": {},
   "outputs": [
    {
     "name": "stdout",
     "output_type": "stream",
     "text": [
      "0.5\n"
     ]
    }
   ],
   "source": [
    "c = lambda a,b : a / b\n",
    "print(c(1,2))"
   ]
  },
  {
   "cell_type": "code",
   "execution_count": 161,
   "id": "3e29a055-f56f-4468-80d3-35c158f89f1d",
   "metadata": {},
   "outputs": [
    {
     "name": "stdout",
     "output_type": "stream",
     "text": [
      "positive\n",
      "zero\n",
      "negative\n"
     ]
    }
   ],
   "source": [
    "n = lambda x : \"positive\" if x > 0 else \"negative\" if x < 0 else \"zero\"\n",
    "print(n(10))\n",
    "print(n(0))\n",
    "print(n(-3))"
   ]
  },
  {
   "cell_type": "code",
   "execution_count": 167,
   "id": "d4c5e417-3b6a-41b1-8f3c-8a00d49b8c60",
   "metadata": {},
   "outputs": [
    {
     "name": "stdout",
     "output_type": "stream",
     "text": [
      "even\n",
      "even\n",
      "odd\n"
     ]
    }
   ],
   "source": [
    "n = lambda x : \"even\" if x % 2 == 0 else \"odd\"\n",
    "print(n(10))\n",
    "print(n(0))\n",
    "print(n(-3))"
   ]
  },
  {
   "cell_type": "code",
   "execution_count": 180,
   "id": "c2d95c45-1ce1-4d1f-b30e-5151d53df7de",
   "metadata": {},
   "outputs": [
    {
     "name": "stdout",
     "output_type": "stream",
     "text": [
      "1\n",
      "4\n",
      "9\n",
      "16\n",
      "25\n",
      "36\n",
      "49\n",
      "64\n",
      "81\n",
      "100\n"
     ]
    }
   ],
   "source": [
    "squares = [lambda x=x:x**2 for x in range(1,11)]\n",
    "for f in squares:\n",
    "    print(f())"
   ]
  },
  {
   "cell_type": "code",
   "execution_count": 179,
   "id": "37f96df2-358e-48f8-9041-60924bc32ca5",
   "metadata": {},
   "outputs": [
    {
     "name": "stdout",
     "output_type": "stream",
     "text": [
      "0\n",
      "2\n",
      "4\n",
      "6\n",
      "8\n",
      "10\n",
      "12\n",
      "14\n",
      "16\n",
      "18\n",
      "20\n"
     ]
    }
   ],
   "source": [
    "doubles = [lambda x=x:x*2 for x in range(11)]\n",
    "for f in doubles:\n",
    "    print(f())"
   ]
  },
  {
   "cell_type": "code",
   "execution_count": 183,
   "id": "ac4c6c4c-96e6-4644-80e1-1d78c8468e4c",
   "metadata": {},
   "outputs": [
    {
     "name": "stdout",
     "output_type": "stream",
     "text": [
      "1\n",
      "8\n",
      "27\n",
      "64\n",
      "125\n",
      "216\n",
      "343\n",
      "512\n",
      "729\n",
      "1000\n"
     ]
    }
   ],
   "source": [
    "cubic = [lambda x=x:x**3 for x in range(1,11)]\n",
    "for c in cubic:\n",
    "    print(c())"
   ]
  },
  {
   "cell_type": "code",
   "execution_count": 184,
   "id": "b117d4ea-20d3-4d7b-a574-9c3c4bae5e66",
   "metadata": {},
   "outputs": [
    {
     "name": "stdout",
     "output_type": "stream",
     "text": [
      "0\n",
      "3\n",
      "6\n",
      "9\n",
      "12\n",
      "15\n",
      "18\n",
      "21\n",
      "24\n",
      "27\n",
      "30\n"
     ]
    }
   ],
   "source": [
    "cubic_doubles = [lambda x=x:x*3 for x in range(11)]\n",
    "for cd in cubic_doubles:\n",
    "    print(cd())"
   ]
  },
  {
   "cell_type": "code",
   "execution_count": 14,
   "id": "2a6bad27-c23e-445a-a21b-ea3e9fd28e57",
   "metadata": {},
   "outputs": [
    {
     "name": "stdout",
     "output_type": "stream",
     "text": [
      "55\n"
     ]
    }
   ],
   "source": [
    "def fibonnaci(n):\n",
    "    if n==0:\n",
    "        return 0\n",
    "    elif n==1:\n",
    "        return 1\n",
    "    else :\n",
    "        return fibonnaci(n-1) + fibonnaci(n-2)\n",
    "print(fibonnaci(10))"
   ]
  },
  {
   "cell_type": "code",
   "execution_count": 33,
   "id": "2595de9b-23e4-4373-805b-8b74f5f1fd92",
   "metadata": {},
   "outputs": [
    {
     "name": "stdout",
     "output_type": "stream",
     "text": [
      "Hi my name is shree and I am 21 years old\n",
      "shree\n",
      "21\n"
     ]
    }
   ],
   "source": [
    "class person:\n",
    "    def __init__(self,name,age):\n",
    "        self.name=name\n",
    "        self.age=age\n",
    "    def greet(self):\n",
    "        print(f\"Hi my name is {self.name} and I am {self.age} years old\")\n",
    "p1=person(\"shree\",21)\n",
    "p1.greet()\n",
    "print(p1.name)\n",
    "print(p1.age)"
   ]
  },
  {
   "cell_type": "code",
   "execution_count": 23,
   "id": "44874b4d-632c-47e8-8acb-f1e0cc47580a",
   "metadata": {},
   "outputs": [
    {
     "name": "stdout",
     "output_type": "stream",
     "text": [
      "This is a Japanese Maruti White\n",
      "This is a German BMW Orange\n"
     ]
    }
   ],
   "source": [
    "class car:\n",
    "    def __init__(self,country,brand,color):\n",
    "        self.country=country\n",
    "        self.brand=brand\n",
    "        self.color=color\n",
    "    def show_info(self):\n",
    "        print(f\"This is a {self.country} {self.brand} {self.color}\")\n",
    "car1=car(\"Japanese\",\"Maruti\",\"White\")\n",
    "car2=car(\"German\",\"BMW\",\"Orange\")\n",
    "car3=car(\"Japanese\",\"Honda\",\"Red\")\n",
    "car1.show_info()\n",
    "car2.show_info()"
   ]
  },
  {
   "cell_type": "code",
   "execution_count": 31,
   "id": "87b0facd-86be-4882-84cf-3cb1d8b1f1e3",
   "metadata": {},
   "outputs": [
    {
     "name": "stdout",
     "output_type": "stream",
     "text": [
      "krisha\n",
      "python\n",
      "The student shree has completed data_science course in SLA\n"
     ]
    }
   ],
   "source": [
    "class da_ds:\n",
    "    management=\"SLA\"\n",
    "    def __init__(self,name,course):\n",
    "        self.name=name\n",
    "        self.course=course\n",
    "    def show_info(self):\n",
    "        print(f\"The student {self.name} has completed {self.course} course in {self.management}\")\n",
    "stu1=da_ds(\"shree\",\"data_science\")\n",
    "stu2=da_ds(\"krisha\",\"python\")\n",
    "print(stu2.name)\n",
    "print(stu2.course)\n",
    "stu1.show_info()"
   ]
  },
  {
   "cell_type": "code",
   "execution_count": 34,
   "id": "c93d0184-a7c7-4481-a3f1-81dbd179c56c",
   "metadata": {},
   "outputs": [
    {
     "name": "stdout",
     "output_type": "stream",
     "text": [
      "Before Counter: 0\n",
      "After Counter: 2\n"
     ]
    }
   ],
   "source": [
    "class counter:\n",
    "    count=0\n",
    "    def __init__(self):\n",
    "        counter.count+=1\n",
    "print(\"Before Counter:\",counter.count)#class variable\n",
    "c1=counter()#instance variable\n",
    "c2=counter()\n",
    "print(\"After Counter:\",counter.count)"
   ]
  },
  {
   "cell_type": "code",
   "execution_count": 35,
   "id": "e4ee60ce-48df-426c-8872-6709249b40d2",
   "metadata": {},
   "outputs": [
    {
     "name": "stdout",
     "output_type": "stream",
     "text": [
      "shree\n",
      "This is shree here !\n"
     ]
    }
   ],
   "source": [
    "class student:\n",
    "    def __init__(self,name):\n",
    "        self.name=name\n",
    "    def student_info(self):\n",
    "        print(f\"This is {self.name} here !\")\n",
    "stu1=student(\"shree\")\n",
    "print(stu1.name)\n",
    "stu1.student_info()"
   ]
  },
  {
   "cell_type": "code",
   "execution_count": 39,
   "id": "78c56dba-7dd2-4d9e-8a26-742d9b21784b",
   "metadata": {},
   "outputs": [
    {
     "name": "stdout",
     "output_type": "stream",
     "text": [
      "Before the function runs.\n",
      "Hello!\n",
      "After the function runs.\n"
     ]
    }
   ],
   "source": [
    "def my_decorator(func):\n",
    "    def wrapper():\n",
    "        print(\"Before the function runs.\")\n",
    "        func()\n",
    "        print(\"After the function runs.\")\n",
    "    return wrapper\n",
    "@my_decorator\n",
    "def say_hello():\n",
    "    print(\"Hello!\")\n",
    "    \n",
    "say_hello()"
   ]
  },
  {
   "cell_type": "code",
   "execution_count": 43,
   "id": "51ca6273-f6ae-41e9-bfe9-56d6b922f935",
   "metadata": {},
   "outputs": [
    {
     "name": "stdout",
     "output_type": "stream",
     "text": [
      "Shree\n",
      "BMW\n",
      "Rolls Royce\n"
     ]
    }
   ],
   "source": [
    "class Employee:\n",
    "    company=\"BMW\"\n",
    "    def __init__(self,name):\n",
    "        self.name=name\n",
    "    @classmethod\n",
    "    def change_company(cls,new_name):\n",
    "        cls.company=new_name\n",
    "e1=Employee(\"Shree\")\n",
    "print(e1.name)\n",
    "print(e1.company)\n",
    "Employee.change_company(\"Rolls Royce\")\n",
    "print(e1.company)"
   ]
  },
  {
   "cell_type": "code",
   "execution_count": 46,
   "id": "4663c9d2-fe14-4ab5-94a1-60a2676321bd",
   "metadata": {},
   "outputs": [
    {
     "name": "stdout",
     "output_type": "stream",
     "text": [
      "8\n",
      "Hello from Mathtools!\n"
     ]
    }
   ],
   "source": [
    "class Mathtools:\n",
    "    @staticmethod\n",
    "    def add(x,y):\n",
    "        return x+y\n",
    "    @staticmethod\n",
    "    def greet():\n",
    "        print(\"Hello from Mathtools!\")\n",
    "print(Mathtools.add(5,3))\n",
    "\n",
    "Mathtools.greet()"
   ]
  },
  {
   "cell_type": "code",
   "execution_count": null,
   "id": "0f98a0a0-1939-4e6b-832b-a95c3b6ee92b",
   "metadata": {},
   "outputs": [],
   "source": [
    "10/7/25 Thursday "
   ]
  },
  {
   "cell_type": "code",
   "execution_count": 7,
   "id": "3deda113-251e-4f1c-a6a2-638fcd6343b6",
   "metadata": {},
   "outputs": [
    {
     "name": "stdout",
     "output_type": "stream",
     "text": [
      "14800\n"
     ]
    }
   ],
   "source": [
    "class BankAccount:\n",
    "    def __init__(self,balance):\n",
    "        self.__balance=balance\n",
    "    def deposit(self,amount):\n",
    "        if amount > 0:\n",
    "            self.__balance += amount\n",
    "    def withdraw(self,amount):\n",
    "        if amount <= self.__balance:\n",
    "            self.__balance -= amount\n",
    "        else:\n",
    "            print(\"Insufficient balance\")\n",
    "    def get_balance(self):\n",
    "        return self.__balance\n",
    "acc = BankAccount(10000)\n",
    "acc.deposit(5000)\n",
    "acc.withdraw(2000)\n",
    "print(acc.get_balance())"
   ]
  },
  {
   "cell_type": "code",
   "execution_count": 16,
   "id": "72728ef5-76fc-470e-be1f-b0c46dceda36",
   "metadata": {},
   "outputs": [
    {
     "name": "stdout",
     "output_type": "stream",
     "text": [
      "1300\n"
     ]
    }
   ],
   "source": [
    "class BankAccount:\n",
    "    def __init__(self,balance):\n",
    "        self.__balance=balance\n",
    "    def get_balance(self):\n",
    "        return self.__balance\n",
    "    def set_balance(self,new_balance):\n",
    "        if new_balance>=0:\n",
    "            self._balance=new_balance\n",
    "        else:\n",
    "            print(\"balance cannot be negative\")\n",
    "    def deposit(self,amount):\n",
    "        if amount > 0:\n",
    "            self.__balance += amount\n",
    "        else:\n",
    "            print(\"deposit must be positive\")\n",
    "    def withdraw(self,amount):\n",
    "        if amount <= self.__balance:\n",
    "            self.__balance -= amount\n",
    "        else:\n",
    "            print(\"Insufficient balance\")\n",
    "acc = BankAccount(1000)\n",
    "acc.deposit(500)\n",
    "acc.withdraw(200)\n",
    "print(acc.get_balance())"
   ]
  },
  {
   "cell_type": "code",
   "execution_count": 65,
   "id": "0cbcf2bc-4452-479d-944e-b4e116f8794d",
   "metadata": {},
   "outputs": [
    {
     "name": "stdout",
     "output_type": "stream",
     "text": [
      "shree\n",
      "dilip\n"
     ]
    }
   ],
   "source": [
    "class Student:\n",
    "    def __init__(self,name):\n",
    "        self._name=name\n",
    "    def get_name(self):\n",
    "        return self._name\n",
    "    def set_name(self,newname):\n",
    "        self._name=newname\n",
    "s=Student(\"shree\")\n",
    "print(s.get_name())\n",
    "s.set_name(\"dilip\")\n",
    "print(s.get_name())"
   ]
  },
  {
   "cell_type": "code",
   "execution_count": 39,
   "id": "46db3e2a-f42e-472b-96ff-707f0fcbb139",
   "metadata": {},
   "outputs": [
    {
     "name": "stdout",
     "output_type": "stream",
     "text": [
      "order placed successfully\n",
      "order preparing\n",
      "delivery partner assignned\n",
      "order collected, will soon reach the destination\n",
      "reach destination\n",
      "order delivered successfully\n"
     ]
    }
   ],
   "source": [
    "class swiggy:\n",
    "    def food_deliver(self):\n",
    "        self.__order_placed()\n",
    "        self.__order_preparing()\n",
    "        self.__delivery_partner_assign()\n",
    "        self.__order_collection()\n",
    "        self.__reach_destination()\n",
    "        print(\"order delivered successfully\")\n",
    "\n",
    "    def __order_placed(self):\n",
    "        print(\"order placed successfully\")\n",
    "    def __order_preparing(self):\n",
    "        print(\"order preparing\")\n",
    "    def __delivery_partner_assign(self):\n",
    "        print(\"delivery partner assignned\")\n",
    "    def __order_collection(self):\n",
    "        print(\"order collected, will soon reach the destination\")\n",
    "    def __reach_destination(self):\n",
    "        print(\"reach destination\")\n",
    "hungry=swiggy()\n",
    "hungry.food_deliver()"
   ]
  },
  {
   "cell_type": "code",
   "execution_count": 42,
   "id": "462fedc3-8397-42ca-8f0a-e14becb47932",
   "metadata": {},
   "outputs": [
    {
     "name": "stdout",
     "output_type": "stream",
     "text": [
      "rider searching \n",
      "ride on the way\n",
      "tell the otp\n",
      "start the trip\n",
      "reached destination\n",
      "ride completed successfully\n"
     ]
    }
   ],
   "source": [
    "class ola:\n",
    "    def taxi_ride(self):\n",
    "        self.__ride_booked()\n",
    "        self.__search_drivers()\n",
    "        self.__ride_on_the_way()\n",
    "        self.__pick_up_customer()\n",
    "        self.__reach_destination()\n",
    "        print(\"ride completed successfully\")\n",
    "\n",
    "    def __ride_booked(self):\n",
    "        print(\"rider searching \")\n",
    "    def __search_drivers(self):\n",
    "        print(\"ride on the way\")\n",
    "    def __ride_on_the_way(self):\n",
    "        print(\"tell the otp\")\n",
    "    def __pick_up_customer(self):\n",
    "        print(\"start the trip\")\n",
    "    def __reach_destination(self):\n",
    "        print(\"reached destination\")\n",
    "travel=ola()\n",
    "travel.taxi_ride()"
   ]
  },
  {
   "cell_type": "code",
   "execution_count": 46,
   "id": "1950b77e-8c30-4206-853e-fd03337b16a9",
   "metadata": {},
   "outputs": [
    {
     "name": "stdout",
     "output_type": "stream",
     "text": [
      "parking\n",
      "driving\n",
      "reversing\n"
     ]
    }
   ],
   "source": [
    "class car:\n",
    "    def drive(self):\n",
    "        print(\"driving\")\n",
    "    def reverse(self):\n",
    "        print(\"reversing\")\n",
    "\n",
    "class hatchback(car):\n",
    "    def park(self):\n",
    "        print(\"parking\")\n",
    "\n",
    "my_car = hatchback()\n",
    "my_car.park()\n",
    "my_car.drive()\n",
    "my_car.reverse()"
   ]
  },
  {
   "cell_type": "code",
   "execution_count": 47,
   "id": "dec7dd5a-186a-4076-ab92-eddf9be11e90",
   "metadata": {},
   "outputs": [
    {
     "name": "stdout",
     "output_type": "stream",
     "text": [
      "grandparent’s  house\n",
      "parents car\n",
      "child phone\n"
     ]
    }
   ],
   "source": [
    "class grandparent:\n",
    "    def house(self):\n",
    "        print(\"grandparent’s  house\")\n",
    "class parent(grandparent):\n",
    "    def car(self):\n",
    "        print(\"parents car\")\n",
    "class child(parent):\n",
    "    def phone(self):\n",
    "        print(\"child phone\")\n",
    "c = child()\n",
    "c.house()\n",
    "c.car()\n",
    "c.phone()"
   ]
  },
  {
   "cell_type": "code",
   "execution_count": 51,
   "id": "6c493bb3-6a7c-41fc-b4a2-0418dd8096b1",
   "metadata": {},
   "outputs": [
    {
     "name": "stdout",
     "output_type": "stream",
     "text": [
      "grandparent’s  house\n",
      "parents car\n",
      "child phone\n"
     ]
    }
   ],
   "source": [
    "class grandparent:\n",
    "    def house(self):\n",
    "        print(\"grandparent’s  house\")\n",
    "class parent(grandparent):\n",
    "    def car(self):\n",
    "        print(\"parents car\")\n",
    "class child(parent,grandparent):\n",
    "    def phone(self):\n",
    "        print(\"child phone\")\n",
    "c = child()\n",
    "c.house()\n",
    "c.car()\n",
    "c.phone()"
   ]
  },
  {
   "cell_type": "code",
   "execution_count": 54,
   "id": "06cc2277-a9b7-40b5-9980-567a44c5e2d0",
   "metadata": {},
   "outputs": [
    {
     "name": "stdout",
     "output_type": "stream",
     "text": [
      "bmw owns 2 cars\n",
      "the first car is mini\n",
      "the second car is rolls_royce\n"
     ]
    }
   ],
   "source": [
    "class car:\n",
    "    def bmw(self):\n",
    "        print(\"bmw owns 2 cars\")\n",
    "class mini(car):\n",
    "    def mini(self):\n",
    "        print(\"the first car is mini\")\n",
    "class rolls_royce(car):\n",
    "    def rolls_royce(self):\n",
    "        print(\"the second car is rolls_royce\")\n",
    "class luxury(mini, rolls_royce):\n",
    "    pass\n",
    "\n",
    "c = luxury()\n",
    "c.bmw()\n",
    "c.mini()\n",
    "c.rolls_royce()\n"
   ]
  },
  {
   "cell_type": "code",
   "execution_count": 66,
   "id": "87d6562a-f1cd-4c1f-8ffd-d17dd05a2179",
   "metadata": {},
   "outputs": [
    {
     "name": "stdout",
     "output_type": "stream",
     "text": [
      "this is consonants\n",
      "this is vowels\n",
      "this is anagram\n",
      "this is palindrome\n",
      "this is passive sentence\n",
      "this is active sentence\n",
      "this is action words\n"
     ]
    }
   ],
   "source": [
    "class alphabet:\n",
    "    def consonants(self):\n",
    "        print(\"this is consonants\")\n",
    "    def vowels(self):\n",
    "        print(\"this is vowels\")\n",
    "class word(alphabet):\n",
    "    def anagram(self):\n",
    "        print(\"this is anagram\")\n",
    "    def palindrome(self):\n",
    "        print(\"this is palindrome\")\n",
    "class sentence(alphabet):\n",
    "    def passive(self):\n",
    "        print(\"this is passive sentence\")\n",
    "    def active(self):\n",
    "        print(\"this is active sentence\")\n",
    "class grammer(word,sentence):\n",
    "    def verb(self):\n",
    "        print(\"this is action words\")\n",
    "\n",
    "g = grammer()\n",
    "g.consonants()\n",
    "g.vowels()\n",
    "g.anagram()\n",
    "g.palindrome()\n",
    "g.passive()\n",
    "g.active()\n",
    "g.verb()"
   ]
  },
  {
   "cell_type": "code",
   "execution_count": 63,
   "id": "8bb6de08-ab01-499f-a184-82a526af5afa",
   "metadata": {},
   "outputs": [
    {
     "name": "stdout",
     "output_type": "stream",
     "text": [
      "engine1 runs on petrol\n",
      "engine2 runs on diesel\n"
     ]
    }
   ],
   "source": [
    "class engine:\n",
    "    def petroleum(self):\n",
    "        print(\"the engine is using petroleum\")\n",
    "class petrol(engine):\n",
    "    def petroleum(self):\n",
    "        print(\"engine1 runs on petrol\")\n",
    "class disel(engine):\n",
    "    def petroleum(self):\n",
    "        print(\"engine2 runs on diesel\")\n",
    "\n",
    "engine1 = petrol()\n",
    "engine2 = disel()\n",
    "\n",
    "engine1.petroleum()\n",
    "engine2.petroleum()"
   ]
  },
  {
   "cell_type": "code",
   "execution_count": null,
   "id": "eec9ed03-8472-4f2f-8aac-9872c4dfc3a5",
   "metadata": {},
   "outputs": [],
   "source": [
    "14/7/25"
   ]
  },
  {
   "cell_type": "code",
   "execution_count": 68,
   "id": "8897a290-87f6-40c4-82eb-7030d0a3f6cc",
   "metadata": {},
   "outputs": [
    {
     "name": "stdout",
     "output_type": "stream",
     "text": [
      "75\n"
     ]
    }
   ],
   "source": [
    "class calculator:\n",
    "    def adding(self,*args):\n",
    "        return sum(args)\n",
    "calc = calculator()\n",
    "print(calc.adding(5,10,15,20,25))"
   ]
  },
  {
   "cell_type": "code",
   "execution_count": 81,
   "id": "2bd81a87-2942-4e4f-a875-62ecf3f9e5a3",
   "metadata": {},
   "outputs": [
    {
     "name": "stdout",
     "output_type": "stream",
     "text": [
      "111\n",
      "-111\n",
      "0\n",
      "False\n",
      "False\n",
      "True\n",
      "0.0\n"
     ]
    }
   ],
   "source": [
    "class book:\n",
    "    def __init__(self,pages):\n",
    "        self.pages = pages\n",
    "    def __add__(self,other):\n",
    "        return self.pages + other.pages\n",
    "    def __sub__(self,other):\n",
    "        return self.pages - other.pages\n",
    "    def __mul__(self,other):\n",
    "        return self.pages * other.pages\n",
    "    def __eq__(self,other):\n",
    "        return self.pages == other.pages\n",
    "    def __gt__(self,other):\n",
    "        return self.pages > other.pages\n",
    "    def __lt__(self,other):\n",
    "        return self.pages < other.pages\n",
    "    def __truediv__(self,other):\n",
    "        return self.pages / other.pages\n",
    "b1=book(000)\n",
    "b2=book(111)\n",
    "print(b1+b2)\n",
    "print(b1-b2)\n",
    "print(b1*b2)\n",
    "print(b1==b2)\n",
    "print(b1>b2)\n",
    "print(b1<b2)\n",
    "print(b1/b2)"
   ]
  },
  {
   "cell_type": "code",
   "execution_count": null,
   "id": "64caa61b-3a7d-46fa-91a9-9ede485997aa",
   "metadata": {},
   "outputs": [],
   "source": [
    "15/7/25"
   ]
  },
  {
   "cell_type": "code",
   "execution_count": 82,
   "id": "f8adf921-114f-4dc5-ac01-9cb6d2db3f8d",
   "metadata": {},
   "outputs": [
    {
     "name": "stdin",
     "output_type": "stream",
     "text": [
      "Enter a number: 10\n"
     ]
    },
    {
     "name": "stdout",
     "output_type": "stream",
     "text": [
      "program executed successfully w/o error\n",
      "program executed successfully\n"
     ]
    }
   ],
   "source": [
    "try:\n",
    "    num=int(input(\"Enter a number:\"))\n",
    "    result=10/num\n",
    "except ZeroDivisionError:\n",
    "    print(\"you cannot divide a number by 0\")\n",
    "except ValueError:\n",
    "    print(\"you enter invalid number\")\n",
    "else:\n",
    "    print(\"program executed successfully w/o error\")\n",
    "finally:\n",
    "    print(\"program executed successfully\")"
   ]
  },
  {
   "cell_type": "code",
   "execution_count": 83,
   "id": "180da7ec-9618-4bc2-91fb-d5a7c1724bd1",
   "metadata": {},
   "outputs": [
    {
     "name": "stdin",
     "output_type": "stream",
     "text": [
      "Enter a number: shree\n"
     ]
    },
    {
     "name": "stdout",
     "output_type": "stream",
     "text": [
      "you enter invalid number\n",
      "program executed successfully\n"
     ]
    }
   ],
   "source": [
    "try:\n",
    "    num=int(input(\"Enter a number:\"))\n",
    "    result=10/num\n",
    "except ZeroDivisionError:\n",
    "    print(\"you cannot divide a number by 0\")\n",
    "except ValueError:\n",
    "    print(\"you enter invalid number\")\n",
    "else:\n",
    "    print(\"program executed successfully w/o error\")\n",
    "finally:\n",
    "    print(\"program executed successfully\")"
   ]
  },
  {
   "cell_type": "code",
   "execution_count": 84,
   "id": "464f5878-0f9b-49be-b81a-9ddb80bccad2",
   "metadata": {},
   "outputs": [
    {
     "name": "stdin",
     "output_type": "stream",
     "text": [
      "Enter a number: 0\n"
     ]
    },
    {
     "name": "stdout",
     "output_type": "stream",
     "text": [
      "you cannot divide a number by 0\n",
      "program executed successfully\n"
     ]
    }
   ],
   "source": [
    "try:\n",
    "    num=int(input(\"Enter a number:\"))\n",
    "    result=10/num\n",
    "except ZeroDivisionError:\n",
    "    print(\"you cannot divide a number by 0\")\n",
    "except ValueError:\n",
    "    print(\"you enter invalid number\")\n",
    "else:\n",
    "    print(\"program executed successfully w/o error\")\n",
    "finally:\n",
    "    print(\"program executed successfully\")"
   ]
  },
  {
   "cell_type": "code",
   "execution_count": 103,
   "id": "7ea2a61c-e432-4716-b14f-5f15d6afea7c",
   "metadata": {},
   "outputs": [
    {
     "name": "stdout",
     "output_type": "stream",
     "text": [
      "hi this is shreevasthava here\t \n"
     ]
    }
   ],
   "source": [
    "file = open(\"notes.txt\",\"w\")\n",
    "file.write(\"hi this is shreevasthava here\\t \")\n",
    "file.close()\n",
    "file=open(\"notes.txt\",\"r\")\n",
    "content=file.read()\n",
    "print(content)"
   ]
  },
  {
   "cell_type": "code",
   "execution_count": 104,
   "id": "f5c00187-7120-4bed-8a12-28e14d275da5",
   "metadata": {},
   "outputs": [
    {
     "name": "stdout",
     "output_type": "stream",
     "text": [
      "hi this is shreevasthava here\t thank you\n"
     ]
    }
   ],
   "source": [
    "file = open(\"notes.txt\",\"a\")\n",
    "file.write(\"thank you\")\n",
    "file=open(\"notes.txt\",\"r\")\n",
    "for line in file:\n",
    "    print(line)\n",
    "file.close()"
   ]
  },
  {
   "cell_type": "code",
   "execution_count": 106,
   "id": "83582568-5510-4a4e-a2eb-c7710971a629",
   "metadata": {},
   "outputs": [
    {
     "name": "stdout",
     "output_type": "stream",
     "text": [
      "hi this is shreevasthava here\t thank you\n"
     ]
    }
   ],
   "source": [
    "with open(\"notes.txt\",\"r\") as file:\n",
    "    content=file.read()\n",
    "    print(content)"
   ]
  },
  {
   "cell_type": "code",
   "execution_count": 108,
   "id": "b0faca4f-2d04-4100-a470-223eafda9dbb",
   "metadata": {},
   "outputs": [
    {
     "name": "stdout",
     "output_type": "stream",
     "text": [
      "[1, 4, 9, 16]\n"
     ]
    }
   ],
   "source": [
    "c=[1,2,3,4]\n",
    "squared=list(map(lambda x:x**2,c))\n",
    "print(squared)"
   ]
  },
  {
   "cell_type": "code",
   "execution_count": 107,
   "id": "1e882a71-4c64-4154-b80d-20c31b1df4ca",
   "metadata": {
    "jp-MarkdownHeadingCollapsed": true
   },
   "outputs": [
    {
     "name": "stdout",
     "output_type": "stream",
     "text": [
      "[1, 8, 27, 64]\n"
     ]
    }
   ],
   "source": [
    "c=[1,2,3,4]\n",
    "cubed=list(map(lambda x:x**3,c))\n",
    "print(cubed)"
   ]
  },
  {
   "cell_type": "code",
   "execution_count": 110,
   "id": "587245bc-71e1-43f7-9d41-3b893cadb99d",
   "metadata": {},
   "outputs": [
    {
     "name": "stdout",
     "output_type": "stream",
     "text": [
      "10==10\n"
     ]
    }
   ],
   "source": [
    "word=[\"10\",\"10\"]\n",
    "sentence=\"==\".join(word)\n",
    "print(sentence)"
   ]
  },
  {
   "cell_type": "code",
   "execution_count": 118,
   "id": "0bd8e355-9a31-4721-9eb2-07b0eb9512f7",
   "metadata": {},
   "outputs": [
    {
     "name": "stdout",
     "output_type": "stream",
     "text": [
      "['1', '2b3c']\n",
      "['1a2', '3c']\n",
      "['1a2b3', '']\n"
     ]
    }
   ],
   "source": [
    "line=\"1a2b3c\"\n",
    "res=line.split(\"a\")\n",
    "print(res)\n",
    "res=line.split(\"b\")\n",
    "print(res)\n",
    "res=line.split(\"c\")\n",
    "print(res)"
   ]
  },
  {
   "cell_type": "code",
   "execution_count": 121,
   "id": "5df8952d-26f0-4ab3-b7f5-1ba08c7b6de4",
   "metadata": {},
   "outputs": [],
   "source": [
    "#task types of 4 function diffrence"
   ]
  },
  {
   "cell_type": "code",
   "execution_count": 2,
   "id": "5cb88e77-6179-4f1d-ba4d-0bcf4a0e7c9b",
   "metadata": {},
   "outputs": [
    {
     "name": "stdout",
     "output_type": "stream",
     "text": [
      "120\n",
      "3628800\n",
      "1307674368000\n"
     ]
    }
   ],
   "source": [
    "class operations:\n",
    "    def multiply(self,*args):\n",
    "        if not args:\n",
    "            return 0\n",
    "        res = 1\n",
    "        for num in args:\n",
    "            res *= num\n",
    "        return res\n",
    "multiply1=operations()\n",
    "print(multiply1.multiply(1,2,3,4,5))\n",
    "print(multiply1.multiply(1,2,3,4,5,6,7,8,9,10))\n",
    "print(multiply1.multiply(1,2,3,4,5,6,7,8,9,10,11,12,13,14,15))"
   ]
  },
  {
   "cell_type": "code",
   "execution_count": 71,
   "id": "58415429-1886-4c32-a6c3-63d4f4d75e4a",
   "metadata": {},
   "outputs": [],
   "source": [
    "import pandas as pd"
   ]
  },
  {
   "cell_type": "code",
   "execution_count": 72,
   "id": "efd3b0a1-a8e8-4b81-86c4-b085c893a544",
   "metadata": {},
   "outputs": [],
   "source": [
    "df = pd.read_csv(\"tested.csv\")"
   ]
  },
  {
   "cell_type": "code",
   "execution_count": 73,
   "id": "83d909b4-ddb0-4215-baa5-6805e7921cf7",
   "metadata": {},
   "outputs": [
    {
     "data": {
      "text/html": [
       "<div>\n",
       "<style scoped>\n",
       "    .dataframe tbody tr th:only-of-type {\n",
       "        vertical-align: middle;\n",
       "    }\n",
       "\n",
       "    .dataframe tbody tr th {\n",
       "        vertical-align: top;\n",
       "    }\n",
       "\n",
       "    .dataframe thead th {\n",
       "        text-align: right;\n",
       "    }\n",
       "</style>\n",
       "<table border=\"1\" class=\"dataframe\">\n",
       "  <thead>\n",
       "    <tr style=\"text-align: right;\">\n",
       "      <th></th>\n",
       "      <th>PassengerId</th>\n",
       "      <th>Survived</th>\n",
       "      <th>Pclass</th>\n",
       "      <th>Name</th>\n",
       "      <th>Sex</th>\n",
       "      <th>Age</th>\n",
       "      <th>SibSp</th>\n",
       "      <th>Parch</th>\n",
       "      <th>Ticket</th>\n",
       "      <th>Fare</th>\n",
       "      <th>Cabin</th>\n",
       "      <th>Embarked</th>\n",
       "    </tr>\n",
       "  </thead>\n",
       "  <tbody>\n",
       "    <tr>\n",
       "      <th>0</th>\n",
       "      <td>892</td>\n",
       "      <td>0</td>\n",
       "      <td>3</td>\n",
       "      <td>Kelly, Mr. James</td>\n",
       "      <td>male</td>\n",
       "      <td>34.5</td>\n",
       "      <td>0</td>\n",
       "      <td>0</td>\n",
       "      <td>330911</td>\n",
       "      <td>7.8292</td>\n",
       "      <td>NaN</td>\n",
       "      <td>Q</td>\n",
       "    </tr>\n",
       "    <tr>\n",
       "      <th>1</th>\n",
       "      <td>893</td>\n",
       "      <td>1</td>\n",
       "      <td>3</td>\n",
       "      <td>Wilkes, Mrs. James (Ellen Needs)</td>\n",
       "      <td>female</td>\n",
       "      <td>47.0</td>\n",
       "      <td>1</td>\n",
       "      <td>0</td>\n",
       "      <td>363272</td>\n",
       "      <td>7.0000</td>\n",
       "      <td>NaN</td>\n",
       "      <td>S</td>\n",
       "    </tr>\n",
       "    <tr>\n",
       "      <th>2</th>\n",
       "      <td>894</td>\n",
       "      <td>0</td>\n",
       "      <td>2</td>\n",
       "      <td>Myles, Mr. Thomas Francis</td>\n",
       "      <td>male</td>\n",
       "      <td>62.0</td>\n",
       "      <td>0</td>\n",
       "      <td>0</td>\n",
       "      <td>240276</td>\n",
       "      <td>9.6875</td>\n",
       "      <td>NaN</td>\n",
       "      <td>Q</td>\n",
       "    </tr>\n",
       "    <tr>\n",
       "      <th>3</th>\n",
       "      <td>895</td>\n",
       "      <td>0</td>\n",
       "      <td>3</td>\n",
       "      <td>Wirz, Mr. Albert</td>\n",
       "      <td>male</td>\n",
       "      <td>27.0</td>\n",
       "      <td>0</td>\n",
       "      <td>0</td>\n",
       "      <td>315154</td>\n",
       "      <td>8.6625</td>\n",
       "      <td>NaN</td>\n",
       "      <td>S</td>\n",
       "    </tr>\n",
       "    <tr>\n",
       "      <th>4</th>\n",
       "      <td>896</td>\n",
       "      <td>1</td>\n",
       "      <td>3</td>\n",
       "      <td>Hirvonen, Mrs. Alexander (Helga E Lindqvist)</td>\n",
       "      <td>female</td>\n",
       "      <td>22.0</td>\n",
       "      <td>1</td>\n",
       "      <td>1</td>\n",
       "      <td>3101298</td>\n",
       "      <td>12.2875</td>\n",
       "      <td>NaN</td>\n",
       "      <td>S</td>\n",
       "    </tr>\n",
       "    <tr>\n",
       "      <th>...</th>\n",
       "      <td>...</td>\n",
       "      <td>...</td>\n",
       "      <td>...</td>\n",
       "      <td>...</td>\n",
       "      <td>...</td>\n",
       "      <td>...</td>\n",
       "      <td>...</td>\n",
       "      <td>...</td>\n",
       "      <td>...</td>\n",
       "      <td>...</td>\n",
       "      <td>...</td>\n",
       "      <td>...</td>\n",
       "    </tr>\n",
       "    <tr>\n",
       "      <th>413</th>\n",
       "      <td>1305</td>\n",
       "      <td>0</td>\n",
       "      <td>3</td>\n",
       "      <td>Spector, Mr. Woolf</td>\n",
       "      <td>male</td>\n",
       "      <td>NaN</td>\n",
       "      <td>0</td>\n",
       "      <td>0</td>\n",
       "      <td>A.5. 3236</td>\n",
       "      <td>8.0500</td>\n",
       "      <td>NaN</td>\n",
       "      <td>S</td>\n",
       "    </tr>\n",
       "    <tr>\n",
       "      <th>414</th>\n",
       "      <td>1306</td>\n",
       "      <td>1</td>\n",
       "      <td>1</td>\n",
       "      <td>Oliva y Ocana, Dona. Fermina</td>\n",
       "      <td>female</td>\n",
       "      <td>39.0</td>\n",
       "      <td>0</td>\n",
       "      <td>0</td>\n",
       "      <td>PC 17758</td>\n",
       "      <td>108.9000</td>\n",
       "      <td>C105</td>\n",
       "      <td>C</td>\n",
       "    </tr>\n",
       "    <tr>\n",
       "      <th>415</th>\n",
       "      <td>1307</td>\n",
       "      <td>0</td>\n",
       "      <td>3</td>\n",
       "      <td>Saether, Mr. Simon Sivertsen</td>\n",
       "      <td>male</td>\n",
       "      <td>38.5</td>\n",
       "      <td>0</td>\n",
       "      <td>0</td>\n",
       "      <td>SOTON/O.Q. 3101262</td>\n",
       "      <td>7.2500</td>\n",
       "      <td>NaN</td>\n",
       "      <td>S</td>\n",
       "    </tr>\n",
       "    <tr>\n",
       "      <th>416</th>\n",
       "      <td>1308</td>\n",
       "      <td>0</td>\n",
       "      <td>3</td>\n",
       "      <td>Ware, Mr. Frederick</td>\n",
       "      <td>male</td>\n",
       "      <td>NaN</td>\n",
       "      <td>0</td>\n",
       "      <td>0</td>\n",
       "      <td>359309</td>\n",
       "      <td>8.0500</td>\n",
       "      <td>NaN</td>\n",
       "      <td>S</td>\n",
       "    </tr>\n",
       "    <tr>\n",
       "      <th>417</th>\n",
       "      <td>1309</td>\n",
       "      <td>0</td>\n",
       "      <td>3</td>\n",
       "      <td>Peter, Master. Michael J</td>\n",
       "      <td>male</td>\n",
       "      <td>NaN</td>\n",
       "      <td>1</td>\n",
       "      <td>1</td>\n",
       "      <td>2668</td>\n",
       "      <td>22.3583</td>\n",
       "      <td>NaN</td>\n",
       "      <td>C</td>\n",
       "    </tr>\n",
       "  </tbody>\n",
       "</table>\n",
       "<p>418 rows × 12 columns</p>\n",
       "</div>"
      ],
      "text/plain": [
       "     PassengerId  Survived  Pclass  \\\n",
       "0            892         0       3   \n",
       "1            893         1       3   \n",
       "2            894         0       2   \n",
       "3            895         0       3   \n",
       "4            896         1       3   \n",
       "..           ...       ...     ...   \n",
       "413         1305         0       3   \n",
       "414         1306         1       1   \n",
       "415         1307         0       3   \n",
       "416         1308         0       3   \n",
       "417         1309         0       3   \n",
       "\n",
       "                                             Name     Sex   Age  SibSp  Parch  \\\n",
       "0                                Kelly, Mr. James    male  34.5      0      0   \n",
       "1                Wilkes, Mrs. James (Ellen Needs)  female  47.0      1      0   \n",
       "2                       Myles, Mr. Thomas Francis    male  62.0      0      0   \n",
       "3                                Wirz, Mr. Albert    male  27.0      0      0   \n",
       "4    Hirvonen, Mrs. Alexander (Helga E Lindqvist)  female  22.0      1      1   \n",
       "..                                            ...     ...   ...    ...    ...   \n",
       "413                            Spector, Mr. Woolf    male   NaN      0      0   \n",
       "414                  Oliva y Ocana, Dona. Fermina  female  39.0      0      0   \n",
       "415                  Saether, Mr. Simon Sivertsen    male  38.5      0      0   \n",
       "416                           Ware, Mr. Frederick    male   NaN      0      0   \n",
       "417                      Peter, Master. Michael J    male   NaN      1      1   \n",
       "\n",
       "                 Ticket      Fare Cabin Embarked  \n",
       "0                330911    7.8292   NaN        Q  \n",
       "1                363272    7.0000   NaN        S  \n",
       "2                240276    9.6875   NaN        Q  \n",
       "3                315154    8.6625   NaN        S  \n",
       "4               3101298   12.2875   NaN        S  \n",
       "..                  ...       ...   ...      ...  \n",
       "413           A.5. 3236    8.0500   NaN        S  \n",
       "414            PC 17758  108.9000  C105        C  \n",
       "415  SOTON/O.Q. 3101262    7.2500   NaN        S  \n",
       "416              359309    8.0500   NaN        S  \n",
       "417                2668   22.3583   NaN        C  \n",
       "\n",
       "[418 rows x 12 columns]"
      ]
     },
     "execution_count": 73,
     "metadata": {},
     "output_type": "execute_result"
    }
   ],
   "source": [
    "df"
   ]
  },
  {
   "cell_type": "code",
   "execution_count": 74,
   "id": "a6d977e6-99df-4d2f-8e69-5a7865b9ce65",
   "metadata": {},
   "outputs": [
    {
     "name": "stdout",
     "output_type": "stream",
     "text": [
      "<class 'pandas.core.frame.DataFrame'>\n",
      "RangeIndex: 418 entries, 0 to 417\n",
      "Data columns (total 12 columns):\n",
      " #   Column       Non-Null Count  Dtype  \n",
      "---  ------       --------------  -----  \n",
      " 0   PassengerId  418 non-null    int64  \n",
      " 1   Survived     418 non-null    int64  \n",
      " 2   Pclass       418 non-null    int64  \n",
      " 3   Name         418 non-null    object \n",
      " 4   Sex          418 non-null    object \n",
      " 5   Age          332 non-null    float64\n",
      " 6   SibSp        418 non-null    int64  \n",
      " 7   Parch        418 non-null    int64  \n",
      " 8   Ticket       418 non-null    object \n",
      " 9   Fare         417 non-null    float64\n",
      " 10  Cabin        91 non-null     object \n",
      " 11  Embarked     418 non-null    object \n",
      "dtypes: float64(2), int64(5), object(5)\n",
      "memory usage: 39.3+ KB\n"
     ]
    }
   ],
   "source": [
    "df_info = df.info()"
   ]
  },
  {
   "cell_type": "code",
   "execution_count": 75,
   "id": "c05ce8a6-8bbd-45c3-a158-450cd465c9d8",
   "metadata": {},
   "outputs": [
    {
     "data": {
      "text/html": [
       "<div>\n",
       "<style scoped>\n",
       "    .dataframe tbody tr th:only-of-type {\n",
       "        vertical-align: middle;\n",
       "    }\n",
       "\n",
       "    .dataframe tbody tr th {\n",
       "        vertical-align: top;\n",
       "    }\n",
       "\n",
       "    .dataframe thead th {\n",
       "        text-align: right;\n",
       "    }\n",
       "</style>\n",
       "<table border=\"1\" class=\"dataframe\">\n",
       "  <thead>\n",
       "    <tr style=\"text-align: right;\">\n",
       "      <th></th>\n",
       "      <th>PassengerId</th>\n",
       "      <th>Survived</th>\n",
       "      <th>Pclass</th>\n",
       "      <th>Name</th>\n",
       "      <th>Sex</th>\n",
       "      <th>Age</th>\n",
       "      <th>SibSp</th>\n",
       "      <th>Parch</th>\n",
       "      <th>Ticket</th>\n",
       "      <th>Fare</th>\n",
       "      <th>Cabin</th>\n",
       "      <th>Embarked</th>\n",
       "    </tr>\n",
       "  </thead>\n",
       "  <tbody>\n",
       "    <tr>\n",
       "      <th>0</th>\n",
       "      <td>892</td>\n",
       "      <td>0</td>\n",
       "      <td>3</td>\n",
       "      <td>Kelly, Mr. James</td>\n",
       "      <td>male</td>\n",
       "      <td>34.5</td>\n",
       "      <td>0</td>\n",
       "      <td>0</td>\n",
       "      <td>330911</td>\n",
       "      <td>7.8292</td>\n",
       "      <td>NaN</td>\n",
       "      <td>Q</td>\n",
       "    </tr>\n",
       "    <tr>\n",
       "      <th>1</th>\n",
       "      <td>893</td>\n",
       "      <td>1</td>\n",
       "      <td>3</td>\n",
       "      <td>Wilkes, Mrs. James (Ellen Needs)</td>\n",
       "      <td>female</td>\n",
       "      <td>47.0</td>\n",
       "      <td>1</td>\n",
       "      <td>0</td>\n",
       "      <td>363272</td>\n",
       "      <td>7.0000</td>\n",
       "      <td>NaN</td>\n",
       "      <td>S</td>\n",
       "    </tr>\n",
       "    <tr>\n",
       "      <th>2</th>\n",
       "      <td>894</td>\n",
       "      <td>0</td>\n",
       "      <td>2</td>\n",
       "      <td>Myles, Mr. Thomas Francis</td>\n",
       "      <td>male</td>\n",
       "      <td>62.0</td>\n",
       "      <td>0</td>\n",
       "      <td>0</td>\n",
       "      <td>240276</td>\n",
       "      <td>9.6875</td>\n",
       "      <td>NaN</td>\n",
       "      <td>Q</td>\n",
       "    </tr>\n",
       "    <tr>\n",
       "      <th>3</th>\n",
       "      <td>895</td>\n",
       "      <td>0</td>\n",
       "      <td>3</td>\n",
       "      <td>Wirz, Mr. Albert</td>\n",
       "      <td>male</td>\n",
       "      <td>27.0</td>\n",
       "      <td>0</td>\n",
       "      <td>0</td>\n",
       "      <td>315154</td>\n",
       "      <td>8.6625</td>\n",
       "      <td>NaN</td>\n",
       "      <td>S</td>\n",
       "    </tr>\n",
       "    <tr>\n",
       "      <th>4</th>\n",
       "      <td>896</td>\n",
       "      <td>1</td>\n",
       "      <td>3</td>\n",
       "      <td>Hirvonen, Mrs. Alexander (Helga E Lindqvist)</td>\n",
       "      <td>female</td>\n",
       "      <td>22.0</td>\n",
       "      <td>1</td>\n",
       "      <td>1</td>\n",
       "      <td>3101298</td>\n",
       "      <td>12.2875</td>\n",
       "      <td>NaN</td>\n",
       "      <td>S</td>\n",
       "    </tr>\n",
       "  </tbody>\n",
       "</table>\n",
       "</div>"
      ],
      "text/plain": [
       "   PassengerId  Survived  Pclass  \\\n",
       "0          892         0       3   \n",
       "1          893         1       3   \n",
       "2          894         0       2   \n",
       "3          895         0       3   \n",
       "4          896         1       3   \n",
       "\n",
       "                                           Name     Sex   Age  SibSp  Parch  \\\n",
       "0                              Kelly, Mr. James    male  34.5      0      0   \n",
       "1              Wilkes, Mrs. James (Ellen Needs)  female  47.0      1      0   \n",
       "2                     Myles, Mr. Thomas Francis    male  62.0      0      0   \n",
       "3                              Wirz, Mr. Albert    male  27.0      0      0   \n",
       "4  Hirvonen, Mrs. Alexander (Helga E Lindqvist)  female  22.0      1      1   \n",
       "\n",
       "    Ticket     Fare Cabin Embarked  \n",
       "0   330911   7.8292   NaN        Q  \n",
       "1   363272   7.0000   NaN        S  \n",
       "2   240276   9.6875   NaN        Q  \n",
       "3   315154   8.6625   NaN        S  \n",
       "4  3101298  12.2875   NaN        S  "
      ]
     },
     "execution_count": 75,
     "metadata": {},
     "output_type": "execute_result"
    }
   ],
   "source": [
    "df.head()"
   ]
  },
  {
   "cell_type": "code",
   "execution_count": 76,
   "id": "4291f92c-7d31-4ecc-9a27-26ade9f241d7",
   "metadata": {},
   "outputs": [
    {
     "data": {
      "text/html": [
       "<div>\n",
       "<style scoped>\n",
       "    .dataframe tbody tr th:only-of-type {\n",
       "        vertical-align: middle;\n",
       "    }\n",
       "\n",
       "    .dataframe tbody tr th {\n",
       "        vertical-align: top;\n",
       "    }\n",
       "\n",
       "    .dataframe thead th {\n",
       "        text-align: right;\n",
       "    }\n",
       "</style>\n",
       "<table border=\"1\" class=\"dataframe\">\n",
       "  <thead>\n",
       "    <tr style=\"text-align: right;\">\n",
       "      <th></th>\n",
       "      <th>PassengerId</th>\n",
       "      <th>Survived</th>\n",
       "      <th>Pclass</th>\n",
       "      <th>Name</th>\n",
       "      <th>Sex</th>\n",
       "      <th>Age</th>\n",
       "      <th>SibSp</th>\n",
       "      <th>Parch</th>\n",
       "      <th>Ticket</th>\n",
       "      <th>Fare</th>\n",
       "      <th>Cabin</th>\n",
       "      <th>Embarked</th>\n",
       "    </tr>\n",
       "  </thead>\n",
       "  <tbody>\n",
       "    <tr>\n",
       "      <th>413</th>\n",
       "      <td>1305</td>\n",
       "      <td>0</td>\n",
       "      <td>3</td>\n",
       "      <td>Spector, Mr. Woolf</td>\n",
       "      <td>male</td>\n",
       "      <td>NaN</td>\n",
       "      <td>0</td>\n",
       "      <td>0</td>\n",
       "      <td>A.5. 3236</td>\n",
       "      <td>8.0500</td>\n",
       "      <td>NaN</td>\n",
       "      <td>S</td>\n",
       "    </tr>\n",
       "    <tr>\n",
       "      <th>414</th>\n",
       "      <td>1306</td>\n",
       "      <td>1</td>\n",
       "      <td>1</td>\n",
       "      <td>Oliva y Ocana, Dona. Fermina</td>\n",
       "      <td>female</td>\n",
       "      <td>39.0</td>\n",
       "      <td>0</td>\n",
       "      <td>0</td>\n",
       "      <td>PC 17758</td>\n",
       "      <td>108.9000</td>\n",
       "      <td>C105</td>\n",
       "      <td>C</td>\n",
       "    </tr>\n",
       "    <tr>\n",
       "      <th>415</th>\n",
       "      <td>1307</td>\n",
       "      <td>0</td>\n",
       "      <td>3</td>\n",
       "      <td>Saether, Mr. Simon Sivertsen</td>\n",
       "      <td>male</td>\n",
       "      <td>38.5</td>\n",
       "      <td>0</td>\n",
       "      <td>0</td>\n",
       "      <td>SOTON/O.Q. 3101262</td>\n",
       "      <td>7.2500</td>\n",
       "      <td>NaN</td>\n",
       "      <td>S</td>\n",
       "    </tr>\n",
       "    <tr>\n",
       "      <th>416</th>\n",
       "      <td>1308</td>\n",
       "      <td>0</td>\n",
       "      <td>3</td>\n",
       "      <td>Ware, Mr. Frederick</td>\n",
       "      <td>male</td>\n",
       "      <td>NaN</td>\n",
       "      <td>0</td>\n",
       "      <td>0</td>\n",
       "      <td>359309</td>\n",
       "      <td>8.0500</td>\n",
       "      <td>NaN</td>\n",
       "      <td>S</td>\n",
       "    </tr>\n",
       "    <tr>\n",
       "      <th>417</th>\n",
       "      <td>1309</td>\n",
       "      <td>0</td>\n",
       "      <td>3</td>\n",
       "      <td>Peter, Master. Michael J</td>\n",
       "      <td>male</td>\n",
       "      <td>NaN</td>\n",
       "      <td>1</td>\n",
       "      <td>1</td>\n",
       "      <td>2668</td>\n",
       "      <td>22.3583</td>\n",
       "      <td>NaN</td>\n",
       "      <td>C</td>\n",
       "    </tr>\n",
       "  </tbody>\n",
       "</table>\n",
       "</div>"
      ],
      "text/plain": [
       "     PassengerId  Survived  Pclass                          Name     Sex  \\\n",
       "413         1305         0       3            Spector, Mr. Woolf    male   \n",
       "414         1306         1       1  Oliva y Ocana, Dona. Fermina  female   \n",
       "415         1307         0       3  Saether, Mr. Simon Sivertsen    male   \n",
       "416         1308         0       3           Ware, Mr. Frederick    male   \n",
       "417         1309         0       3      Peter, Master. Michael J    male   \n",
       "\n",
       "      Age  SibSp  Parch              Ticket      Fare Cabin Embarked  \n",
       "413   NaN      0      0           A.5. 3236    8.0500   NaN        S  \n",
       "414  39.0      0      0            PC 17758  108.9000  C105        C  \n",
       "415  38.5      0      0  SOTON/O.Q. 3101262    7.2500   NaN        S  \n",
       "416   NaN      0      0              359309    8.0500   NaN        S  \n",
       "417   NaN      1      1                2668   22.3583   NaN        C  "
      ]
     },
     "execution_count": 76,
     "metadata": {},
     "output_type": "execute_result"
    }
   ],
   "source": [
    "df.tail()"
   ]
  },
  {
   "cell_type": "code",
   "execution_count": 77,
   "id": "adb46f50-338a-4767-b322-3e020d56ec7e",
   "metadata": {},
   "outputs": [
    {
     "data": {
      "text/html": [
       "<div>\n",
       "<style scoped>\n",
       "    .dataframe tbody tr th:only-of-type {\n",
       "        vertical-align: middle;\n",
       "    }\n",
       "\n",
       "    .dataframe tbody tr th {\n",
       "        vertical-align: top;\n",
       "    }\n",
       "\n",
       "    .dataframe thead th {\n",
       "        text-align: right;\n",
       "    }\n",
       "</style>\n",
       "<table border=\"1\" class=\"dataframe\">\n",
       "  <thead>\n",
       "    <tr style=\"text-align: right;\">\n",
       "      <th></th>\n",
       "      <th>PassengerId</th>\n",
       "      <th>Survived</th>\n",
       "      <th>Pclass</th>\n",
       "      <th>Age</th>\n",
       "      <th>SibSp</th>\n",
       "      <th>Parch</th>\n",
       "      <th>Fare</th>\n",
       "    </tr>\n",
       "  </thead>\n",
       "  <tbody>\n",
       "    <tr>\n",
       "      <th>count</th>\n",
       "      <td>418.000000</td>\n",
       "      <td>418.000000</td>\n",
       "      <td>418.000000</td>\n",
       "      <td>332.000000</td>\n",
       "      <td>418.000000</td>\n",
       "      <td>418.000000</td>\n",
       "      <td>417.000000</td>\n",
       "    </tr>\n",
       "    <tr>\n",
       "      <th>mean</th>\n",
       "      <td>1100.500000</td>\n",
       "      <td>0.363636</td>\n",
       "      <td>2.265550</td>\n",
       "      <td>30.272590</td>\n",
       "      <td>0.447368</td>\n",
       "      <td>0.392344</td>\n",
       "      <td>35.627188</td>\n",
       "    </tr>\n",
       "    <tr>\n",
       "      <th>std</th>\n",
       "      <td>120.810458</td>\n",
       "      <td>0.481622</td>\n",
       "      <td>0.841838</td>\n",
       "      <td>14.181209</td>\n",
       "      <td>0.896760</td>\n",
       "      <td>0.981429</td>\n",
       "      <td>55.907576</td>\n",
       "    </tr>\n",
       "    <tr>\n",
       "      <th>min</th>\n",
       "      <td>892.000000</td>\n",
       "      <td>0.000000</td>\n",
       "      <td>1.000000</td>\n",
       "      <td>0.170000</td>\n",
       "      <td>0.000000</td>\n",
       "      <td>0.000000</td>\n",
       "      <td>0.000000</td>\n",
       "    </tr>\n",
       "    <tr>\n",
       "      <th>25%</th>\n",
       "      <td>996.250000</td>\n",
       "      <td>0.000000</td>\n",
       "      <td>1.000000</td>\n",
       "      <td>21.000000</td>\n",
       "      <td>0.000000</td>\n",
       "      <td>0.000000</td>\n",
       "      <td>7.895800</td>\n",
       "    </tr>\n",
       "    <tr>\n",
       "      <th>50%</th>\n",
       "      <td>1100.500000</td>\n",
       "      <td>0.000000</td>\n",
       "      <td>3.000000</td>\n",
       "      <td>27.000000</td>\n",
       "      <td>0.000000</td>\n",
       "      <td>0.000000</td>\n",
       "      <td>14.454200</td>\n",
       "    </tr>\n",
       "    <tr>\n",
       "      <th>75%</th>\n",
       "      <td>1204.750000</td>\n",
       "      <td>1.000000</td>\n",
       "      <td>3.000000</td>\n",
       "      <td>39.000000</td>\n",
       "      <td>1.000000</td>\n",
       "      <td>0.000000</td>\n",
       "      <td>31.500000</td>\n",
       "    </tr>\n",
       "    <tr>\n",
       "      <th>max</th>\n",
       "      <td>1309.000000</td>\n",
       "      <td>1.000000</td>\n",
       "      <td>3.000000</td>\n",
       "      <td>76.000000</td>\n",
       "      <td>8.000000</td>\n",
       "      <td>9.000000</td>\n",
       "      <td>512.329200</td>\n",
       "    </tr>\n",
       "  </tbody>\n",
       "</table>\n",
       "</div>"
      ],
      "text/plain": [
       "       PassengerId    Survived      Pclass         Age       SibSp  \\\n",
       "count   418.000000  418.000000  418.000000  332.000000  418.000000   \n",
       "mean   1100.500000    0.363636    2.265550   30.272590    0.447368   \n",
       "std     120.810458    0.481622    0.841838   14.181209    0.896760   \n",
       "min     892.000000    0.000000    1.000000    0.170000    0.000000   \n",
       "25%     996.250000    0.000000    1.000000   21.000000    0.000000   \n",
       "50%    1100.500000    0.000000    3.000000   27.000000    0.000000   \n",
       "75%    1204.750000    1.000000    3.000000   39.000000    1.000000   \n",
       "max    1309.000000    1.000000    3.000000   76.000000    8.000000   \n",
       "\n",
       "            Parch        Fare  \n",
       "count  418.000000  417.000000  \n",
       "mean     0.392344   35.627188  \n",
       "std      0.981429   55.907576  \n",
       "min      0.000000    0.000000  \n",
       "25%      0.000000    7.895800  \n",
       "50%      0.000000   14.454200  \n",
       "75%      0.000000   31.500000  \n",
       "max      9.000000  512.329200  "
      ]
     },
     "execution_count": 77,
     "metadata": {},
     "output_type": "execute_result"
    }
   ],
   "source": [
    "df.describe()"
   ]
  },
  {
   "cell_type": "code",
   "execution_count": 81,
   "id": "6e9fee71-4a0d-456c-b69b-931fdb109a23",
   "metadata": {},
   "outputs": [
    {
     "data": {
      "text/plain": [
       "Index(['PassengerId', 'Survived', 'Pclass', 'Name', 'Sex', 'Age', 'SibSp',\n",
       "       'Parch', 'Ticket', 'Fare', 'Cabin', 'Embarked'],\n",
       "      dtype='object')"
      ]
     },
     "execution_count": 81,
     "metadata": {},
     "output_type": "execute_result"
    }
   ],
   "source": [
    "df.columns"
   ]
  },
  {
   "cell_type": "code",
   "execution_count": 80,
   "id": "bc215eaa-2d19-4461-97e2-fdb7ab7e43fc",
   "metadata": {},
   "outputs": [
    {
     "data": {
      "text/plain": [
       "0       892\n",
       "1       893\n",
       "2       894\n",
       "3       895\n",
       "4       896\n",
       "       ... \n",
       "413    1305\n",
       "414    1306\n",
       "415    1307\n",
       "416    1308\n",
       "417    1309\n",
       "Name: PassengerId, Length: 418, dtype: int64"
      ]
     },
     "execution_count": 80,
     "metadata": {},
     "output_type": "execute_result"
    }
   ],
   "source": [
    "df['PassengerId']"
   ]
  },
  {
   "cell_type": "code",
   "execution_count": 82,
   "id": "83dd0368-5c3e-40dc-89f9-99e5c2e49b7d",
   "metadata": {},
   "outputs": [
    {
     "data": {
      "text/plain": [
       "0      Q\n",
       "1      S\n",
       "2      Q\n",
       "3      S\n",
       "4      S\n",
       "      ..\n",
       "413    S\n",
       "414    C\n",
       "415    S\n",
       "416    S\n",
       "417    C\n",
       "Name: Embarked, Length: 418, dtype: object"
      ]
     },
     "execution_count": 82,
     "metadata": {},
     "output_type": "execute_result"
    }
   ],
   "source": [
    "df['Embarked']"
   ]
  },
  {
   "cell_type": "code",
   "execution_count": 83,
   "id": "673990a7-f96c-463b-bc6a-728578c5e7f4",
   "metadata": {},
   "outputs": [
    {
     "data": {
      "text/plain": [
       "(418, 12)"
      ]
     },
     "execution_count": 83,
     "metadata": {},
     "output_type": "execute_result"
    }
   ],
   "source": [
    "df.shape"
   ]
  },
  {
   "cell_type": "code",
   "execution_count": 85,
   "id": "bcf7695c-9edd-4f7b-9365-ec2d1cb85675",
   "metadata": {},
   "outputs": [
    {
     "data": {
      "text/html": [
       "<div>\n",
       "<style scoped>\n",
       "    .dataframe tbody tr th:only-of-type {\n",
       "        vertical-align: middle;\n",
       "    }\n",
       "\n",
       "    .dataframe tbody tr th {\n",
       "        vertical-align: top;\n",
       "    }\n",
       "\n",
       "    .dataframe thead th {\n",
       "        text-align: right;\n",
       "    }\n",
       "</style>\n",
       "<table border=\"1\" class=\"dataframe\">\n",
       "  <thead>\n",
       "    <tr style=\"text-align: right;\">\n",
       "      <th></th>\n",
       "      <th>Embarked</th>\n",
       "      <th>Survived</th>\n",
       "      <th>Name</th>\n",
       "    </tr>\n",
       "  </thead>\n",
       "  <tbody>\n",
       "    <tr>\n",
       "      <th>0</th>\n",
       "      <td>Q</td>\n",
       "      <td>0</td>\n",
       "      <td>Kelly, Mr. James</td>\n",
       "    </tr>\n",
       "    <tr>\n",
       "      <th>1</th>\n",
       "      <td>S</td>\n",
       "      <td>1</td>\n",
       "      <td>Wilkes, Mrs. James (Ellen Needs)</td>\n",
       "    </tr>\n",
       "    <tr>\n",
       "      <th>2</th>\n",
       "      <td>Q</td>\n",
       "      <td>0</td>\n",
       "      <td>Myles, Mr. Thomas Francis</td>\n",
       "    </tr>\n",
       "    <tr>\n",
       "      <th>3</th>\n",
       "      <td>S</td>\n",
       "      <td>0</td>\n",
       "      <td>Wirz, Mr. Albert</td>\n",
       "    </tr>\n",
       "    <tr>\n",
       "      <th>4</th>\n",
       "      <td>S</td>\n",
       "      <td>1</td>\n",
       "      <td>Hirvonen, Mrs. Alexander (Helga E Lindqvist)</td>\n",
       "    </tr>\n",
       "    <tr>\n",
       "      <th>...</th>\n",
       "      <td>...</td>\n",
       "      <td>...</td>\n",
       "      <td>...</td>\n",
       "    </tr>\n",
       "    <tr>\n",
       "      <th>413</th>\n",
       "      <td>S</td>\n",
       "      <td>0</td>\n",
       "      <td>Spector, Mr. Woolf</td>\n",
       "    </tr>\n",
       "    <tr>\n",
       "      <th>414</th>\n",
       "      <td>C</td>\n",
       "      <td>1</td>\n",
       "      <td>Oliva y Ocana, Dona. Fermina</td>\n",
       "    </tr>\n",
       "    <tr>\n",
       "      <th>415</th>\n",
       "      <td>S</td>\n",
       "      <td>0</td>\n",
       "      <td>Saether, Mr. Simon Sivertsen</td>\n",
       "    </tr>\n",
       "    <tr>\n",
       "      <th>416</th>\n",
       "      <td>S</td>\n",
       "      <td>0</td>\n",
       "      <td>Ware, Mr. Frederick</td>\n",
       "    </tr>\n",
       "    <tr>\n",
       "      <th>417</th>\n",
       "      <td>C</td>\n",
       "      <td>0</td>\n",
       "      <td>Peter, Master. Michael J</td>\n",
       "    </tr>\n",
       "  </tbody>\n",
       "</table>\n",
       "<p>418 rows × 3 columns</p>\n",
       "</div>"
      ],
      "text/plain": [
       "    Embarked  Survived                                          Name\n",
       "0          Q         0                              Kelly, Mr. James\n",
       "1          S         1              Wilkes, Mrs. James (Ellen Needs)\n",
       "2          Q         0                     Myles, Mr. Thomas Francis\n",
       "3          S         0                              Wirz, Mr. Albert\n",
       "4          S         1  Hirvonen, Mrs. Alexander (Helga E Lindqvist)\n",
       "..       ...       ...                                           ...\n",
       "413        S         0                            Spector, Mr. Woolf\n",
       "414        C         1                  Oliva y Ocana, Dona. Fermina\n",
       "415        S         0                  Saether, Mr. Simon Sivertsen\n",
       "416        S         0                           Ware, Mr. Frederick\n",
       "417        C         0                      Peter, Master. Michael J\n",
       "\n",
       "[418 rows x 3 columns]"
      ]
     },
     "execution_count": 85,
     "metadata": {},
     "output_type": "execute_result"
    }
   ],
   "source": [
    "df[['Embarked','Survived','Name']]"
   ]
  },
  {
   "cell_type": "code",
   "execution_count": 86,
   "id": "4a0683ca-6f95-4fe6-917e-37119819a65b",
   "metadata": {},
   "outputs": [
    {
     "data": {
      "text/html": [
       "<div>\n",
       "<style scoped>\n",
       "    .dataframe tbody tr th:only-of-type {\n",
       "        vertical-align: middle;\n",
       "    }\n",
       "\n",
       "    .dataframe tbody tr th {\n",
       "        vertical-align: top;\n",
       "    }\n",
       "\n",
       "    .dataframe thead th {\n",
       "        text-align: right;\n",
       "    }\n",
       "</style>\n",
       "<table border=\"1\" class=\"dataframe\">\n",
       "  <thead>\n",
       "    <tr style=\"text-align: right;\">\n",
       "      <th></th>\n",
       "      <th>PassengerId</th>\n",
       "      <th>Survived</th>\n",
       "      <th>Pclass</th>\n",
       "      <th>Name</th>\n",
       "      <th>Sex</th>\n",
       "      <th>Age</th>\n",
       "      <th>SibSp</th>\n",
       "      <th>Parch</th>\n",
       "      <th>Ticket</th>\n",
       "      <th>Fare</th>\n",
       "      <th>Cabin</th>\n",
       "      <th>Embarked</th>\n",
       "    </tr>\n",
       "  </thead>\n",
       "  <tbody>\n",
       "    <tr>\n",
       "      <th>151</th>\n",
       "      <td>1043</td>\n",
       "      <td>0</td>\n",
       "      <td>3</td>\n",
       "      <td>Matinoff, Mr. Nicola</td>\n",
       "      <td>male</td>\n",
       "      <td>NaN</td>\n",
       "      <td>0</td>\n",
       "      <td>0</td>\n",
       "      <td>349255</td>\n",
       "      <td>7.8958</td>\n",
       "      <td>NaN</td>\n",
       "      <td>C</td>\n",
       "    </tr>\n",
       "  </tbody>\n",
       "</table>\n",
       "</div>"
      ],
      "text/plain": [
       "     PassengerId  Survived  Pclass                  Name   Sex  Age  SibSp  \\\n",
       "151         1043         0       3  Matinoff, Mr. Nicola  male  NaN      0   \n",
       "\n",
       "     Parch  Ticket    Fare Cabin Embarked  \n",
       "151      0  349255  7.8958   NaN        C  "
      ]
     },
     "execution_count": 86,
     "metadata": {},
     "output_type": "execute_result"
    }
   ],
   "source": [
    "df.loc[df['Name'] == \"Matinoff, Mr. Nicola\" ]"
   ]
  },
  {
   "cell_type": "code",
   "execution_count": 87,
   "id": "20a0b131-2338-43fe-b074-1f7db5dd2941",
   "metadata": {},
   "outputs": [
    {
     "data": {
      "text/html": [
       "<div>\n",
       "<style scoped>\n",
       "    .dataframe tbody tr th:only-of-type {\n",
       "        vertical-align: middle;\n",
       "    }\n",
       "\n",
       "    .dataframe tbody tr th {\n",
       "        vertical-align: top;\n",
       "    }\n",
       "\n",
       "    .dataframe thead th {\n",
       "        text-align: right;\n",
       "    }\n",
       "</style>\n",
       "<table border=\"1\" class=\"dataframe\">\n",
       "  <thead>\n",
       "    <tr style=\"text-align: right;\">\n",
       "      <th></th>\n",
       "      <th>PassengerId</th>\n",
       "      <th>Survived</th>\n",
       "      <th>Pclass</th>\n",
       "      <th>Name</th>\n",
       "      <th>Sex</th>\n",
       "      <th>Age</th>\n",
       "      <th>SibSp</th>\n",
       "      <th>Parch</th>\n",
       "      <th>Ticket</th>\n",
       "      <th>Fare</th>\n",
       "      <th>Cabin</th>\n",
       "      <th>Embarked</th>\n",
       "    </tr>\n",
       "  </thead>\n",
       "  <tbody>\n",
       "    <tr>\n",
       "      <th>256</th>\n",
       "      <td>1148</td>\n",
       "      <td>0</td>\n",
       "      <td>3</td>\n",
       "      <td>Mahon, Mr. John</td>\n",
       "      <td>male</td>\n",
       "      <td>NaN</td>\n",
       "      <td>0</td>\n",
       "      <td>0</td>\n",
       "      <td>AQ/4 3130</td>\n",
       "      <td>7.75</td>\n",
       "      <td>NaN</td>\n",
       "      <td>Q</td>\n",
       "    </tr>\n",
       "  </tbody>\n",
       "</table>\n",
       "</div>"
      ],
      "text/plain": [
       "     PassengerId  Survived  Pclass             Name   Sex  Age  SibSp  Parch  \\\n",
       "256         1148         0       3  Mahon, Mr. John  male  NaN      0      0   \n",
       "\n",
       "        Ticket  Fare Cabin Embarked  \n",
       "256  AQ/4 3130  7.75   NaN        Q  "
      ]
     },
     "execution_count": 87,
     "metadata": {},
     "output_type": "execute_result"
    }
   ],
   "source": [
    "df.loc[df['Name'] == \"Mahon, Mr. John\" ]"
   ]
  },
  {
   "cell_type": "code",
   "execution_count": 88,
   "id": "08b513dc-6606-4a7d-b4c8-b259b8d9e7d0",
   "metadata": {},
   "outputs": [
    {
     "data": {
      "text/plain": [
       "PassengerId                             1100\n",
       "Survived                                   1\n",
       "Pclass                                     1\n",
       "Name           Rosenbaum, Miss. Edith Louise\n",
       "Sex                                   female\n",
       "Age                                     33.0\n",
       "SibSp                                      0\n",
       "Parch                                      0\n",
       "Ticket                              PC 17613\n",
       "Fare                                 27.7208\n",
       "Cabin                                    A11\n",
       "Embarked                                   C\n",
       "Name: 208, dtype: object"
      ]
     },
     "execution_count": 88,
     "metadata": {},
     "output_type": "execute_result"
    }
   ],
   "source": [
    "df.iloc[208]"
   ]
  },
  {
   "cell_type": "code",
   "execution_count": 89,
   "id": "56d312e4-afd0-4822-a7f8-9dafc4231e96",
   "metadata": {},
   "outputs": [
    {
     "data": {
      "text/html": [
       "<div>\n",
       "<style scoped>\n",
       "    .dataframe tbody tr th:only-of-type {\n",
       "        vertical-align: middle;\n",
       "    }\n",
       "\n",
       "    .dataframe tbody tr th {\n",
       "        vertical-align: top;\n",
       "    }\n",
       "\n",
       "    .dataframe thead th {\n",
       "        text-align: right;\n",
       "    }\n",
       "</style>\n",
       "<table border=\"1\" class=\"dataframe\">\n",
       "  <thead>\n",
       "    <tr style=\"text-align: right;\">\n",
       "      <th></th>\n",
       "      <th>PassengerId</th>\n",
       "      <th>Survived</th>\n",
       "      <th>Pclass</th>\n",
       "      <th>Name</th>\n",
       "      <th>Sex</th>\n",
       "      <th>Age</th>\n",
       "      <th>SibSp</th>\n",
       "      <th>Parch</th>\n",
       "      <th>Ticket</th>\n",
       "      <th>Fare</th>\n",
       "      <th>Cabin</th>\n",
       "      <th>Embarked</th>\n",
       "    </tr>\n",
       "  </thead>\n",
       "  <tbody>\n",
       "    <tr>\n",
       "      <th>0</th>\n",
       "      <td>892</td>\n",
       "      <td>0</td>\n",
       "      <td>3</td>\n",
       "      <td>Kelly, Mr. James</td>\n",
       "      <td>male</td>\n",
       "      <td>34.50</td>\n",
       "      <td>0</td>\n",
       "      <td>0</td>\n",
       "      <td>330911</td>\n",
       "      <td>7.8292</td>\n",
       "      <td>NaN</td>\n",
       "      <td>Q</td>\n",
       "    </tr>\n",
       "    <tr>\n",
       "      <th>25</th>\n",
       "      <td>917</td>\n",
       "      <td>0</td>\n",
       "      <td>3</td>\n",
       "      <td>Robins, Mr. Alexander A</td>\n",
       "      <td>male</td>\n",
       "      <td>50.00</td>\n",
       "      <td>1</td>\n",
       "      <td>0</td>\n",
       "      <td>A/5. 3337</td>\n",
       "      <td>14.5000</td>\n",
       "      <td>NaN</td>\n",
       "      <td>S</td>\n",
       "    </tr>\n",
       "    <tr>\n",
       "      <th>50</th>\n",
       "      <td>942</td>\n",
       "      <td>0</td>\n",
       "      <td>1</td>\n",
       "      <td>Smith, Mr. Lucien Philip</td>\n",
       "      <td>male</td>\n",
       "      <td>24.00</td>\n",
       "      <td>1</td>\n",
       "      <td>0</td>\n",
       "      <td>13695</td>\n",
       "      <td>60.0000</td>\n",
       "      <td>C31</td>\n",
       "      <td>S</td>\n",
       "    </tr>\n",
       "    <tr>\n",
       "      <th>75</th>\n",
       "      <td>967</td>\n",
       "      <td>0</td>\n",
       "      <td>1</td>\n",
       "      <td>Keeping, Mr. Edwin</td>\n",
       "      <td>male</td>\n",
       "      <td>32.50</td>\n",
       "      <td>0</td>\n",
       "      <td>0</td>\n",
       "      <td>113503</td>\n",
       "      <td>211.5000</td>\n",
       "      <td>C132</td>\n",
       "      <td>C</td>\n",
       "    </tr>\n",
       "    <tr>\n",
       "      <th>100</th>\n",
       "      <td>992</td>\n",
       "      <td>1</td>\n",
       "      <td>1</td>\n",
       "      <td>Stengel, Mrs. Charles Emil Henry (Annie May Mo...</td>\n",
       "      <td>female</td>\n",
       "      <td>43.00</td>\n",
       "      <td>1</td>\n",
       "      <td>0</td>\n",
       "      <td>11778</td>\n",
       "      <td>55.4417</td>\n",
       "      <td>C116</td>\n",
       "      <td>C</td>\n",
       "    </tr>\n",
       "    <tr>\n",
       "      <th>125</th>\n",
       "      <td>1017</td>\n",
       "      <td>1</td>\n",
       "      <td>3</td>\n",
       "      <td>Cribb, Miss. Laura Alice</td>\n",
       "      <td>female</td>\n",
       "      <td>17.00</td>\n",
       "      <td>0</td>\n",
       "      <td>1</td>\n",
       "      <td>371362</td>\n",
       "      <td>16.1000</td>\n",
       "      <td>NaN</td>\n",
       "      <td>S</td>\n",
       "    </tr>\n",
       "    <tr>\n",
       "      <th>150</th>\n",
       "      <td>1042</td>\n",
       "      <td>1</td>\n",
       "      <td>1</td>\n",
       "      <td>Earnshaw, Mrs. Boulton (Olive Potter)</td>\n",
       "      <td>female</td>\n",
       "      <td>23.00</td>\n",
       "      <td>0</td>\n",
       "      <td>1</td>\n",
       "      <td>11767</td>\n",
       "      <td>83.1583</td>\n",
       "      <td>C54</td>\n",
       "      <td>C</td>\n",
       "    </tr>\n",
       "    <tr>\n",
       "      <th>175</th>\n",
       "      <td>1067</td>\n",
       "      <td>1</td>\n",
       "      <td>2</td>\n",
       "      <td>Brown, Miss. Edith Eileen</td>\n",
       "      <td>female</td>\n",
       "      <td>15.00</td>\n",
       "      <td>0</td>\n",
       "      <td>2</td>\n",
       "      <td>29750</td>\n",
       "      <td>39.0000</td>\n",
       "      <td>NaN</td>\n",
       "      <td>S</td>\n",
       "    </tr>\n",
       "    <tr>\n",
       "      <th>200</th>\n",
       "      <td>1092</td>\n",
       "      <td>1</td>\n",
       "      <td>3</td>\n",
       "      <td>Murphy, Miss. Nora</td>\n",
       "      <td>female</td>\n",
       "      <td>NaN</td>\n",
       "      <td>0</td>\n",
       "      <td>0</td>\n",
       "      <td>36568</td>\n",
       "      <td>15.5000</td>\n",
       "      <td>NaN</td>\n",
       "      <td>Q</td>\n",
       "    </tr>\n",
       "    <tr>\n",
       "      <th>225</th>\n",
       "      <td>1117</td>\n",
       "      <td>1</td>\n",
       "      <td>3</td>\n",
       "      <td>Moubarek, Mrs. George (Omine Amenia\" Alexander)\"</td>\n",
       "      <td>female</td>\n",
       "      <td>NaN</td>\n",
       "      <td>0</td>\n",
       "      <td>2</td>\n",
       "      <td>2661</td>\n",
       "      <td>15.2458</td>\n",
       "      <td>NaN</td>\n",
       "      <td>C</td>\n",
       "    </tr>\n",
       "    <tr>\n",
       "      <th>250</th>\n",
       "      <td>1142</td>\n",
       "      <td>1</td>\n",
       "      <td>2</td>\n",
       "      <td>West, Miss. Barbara J</td>\n",
       "      <td>female</td>\n",
       "      <td>0.92</td>\n",
       "      <td>1</td>\n",
       "      <td>2</td>\n",
       "      <td>C.A. 34651</td>\n",
       "      <td>27.7500</td>\n",
       "      <td>NaN</td>\n",
       "      <td>S</td>\n",
       "    </tr>\n",
       "    <tr>\n",
       "      <th>275</th>\n",
       "      <td>1167</td>\n",
       "      <td>1</td>\n",
       "      <td>2</td>\n",
       "      <td>Bryhl, Miss. Dagmar Jenny Ingeborg</td>\n",
       "      <td>female</td>\n",
       "      <td>20.00</td>\n",
       "      <td>1</td>\n",
       "      <td>0</td>\n",
       "      <td>236853</td>\n",
       "      <td>26.0000</td>\n",
       "      <td>NaN</td>\n",
       "      <td>S</td>\n",
       "    </tr>\n",
       "    <tr>\n",
       "      <th>300</th>\n",
       "      <td>1192</td>\n",
       "      <td>0</td>\n",
       "      <td>3</td>\n",
       "      <td>Olsson, Mr. Oscar Wilhelm</td>\n",
       "      <td>male</td>\n",
       "      <td>32.00</td>\n",
       "      <td>0</td>\n",
       "      <td>0</td>\n",
       "      <td>347079</td>\n",
       "      <td>7.7750</td>\n",
       "      <td>NaN</td>\n",
       "      <td>S</td>\n",
       "    </tr>\n",
       "    <tr>\n",
       "      <th>325</th>\n",
       "      <td>1217</td>\n",
       "      <td>0</td>\n",
       "      <td>3</td>\n",
       "      <td>Assam, Mr. Ali</td>\n",
       "      <td>male</td>\n",
       "      <td>23.00</td>\n",
       "      <td>0</td>\n",
       "      <td>0</td>\n",
       "      <td>SOTON/O.Q. 3101309</td>\n",
       "      <td>7.0500</td>\n",
       "      <td>NaN</td>\n",
       "      <td>S</td>\n",
       "    </tr>\n",
       "    <tr>\n",
       "      <th>350</th>\n",
       "      <td>1242</td>\n",
       "      <td>1</td>\n",
       "      <td>1</td>\n",
       "      <td>Greenfield, Mrs. Leo David (Blanche Strouse)</td>\n",
       "      <td>female</td>\n",
       "      <td>45.00</td>\n",
       "      <td>0</td>\n",
       "      <td>1</td>\n",
       "      <td>PC 17759</td>\n",
       "      <td>63.3583</td>\n",
       "      <td>D10 D12</td>\n",
       "      <td>C</td>\n",
       "    </tr>\n",
       "    <tr>\n",
       "      <th>375</th>\n",
       "      <td>1267</td>\n",
       "      <td>1</td>\n",
       "      <td>1</td>\n",
       "      <td>Bowen, Miss. Grace Scott</td>\n",
       "      <td>female</td>\n",
       "      <td>45.00</td>\n",
       "      <td>0</td>\n",
       "      <td>0</td>\n",
       "      <td>PC 17608</td>\n",
       "      <td>262.3750</td>\n",
       "      <td>NaN</td>\n",
       "      <td>C</td>\n",
       "    </tr>\n",
       "    <tr>\n",
       "      <th>400</th>\n",
       "      <td>1292</td>\n",
       "      <td>1</td>\n",
       "      <td>1</td>\n",
       "      <td>Bonnell, Miss. Caroline</td>\n",
       "      <td>female</td>\n",
       "      <td>30.00</td>\n",
       "      <td>0</td>\n",
       "      <td>0</td>\n",
       "      <td>36928</td>\n",
       "      <td>164.8667</td>\n",
       "      <td>C7</td>\n",
       "      <td>S</td>\n",
       "    </tr>\n",
       "  </tbody>\n",
       "</table>\n",
       "</div>"
      ],
      "text/plain": [
       "     PassengerId  Survived  Pclass  \\\n",
       "0            892         0       3   \n",
       "25           917         0       3   \n",
       "50           942         0       1   \n",
       "75           967         0       1   \n",
       "100          992         1       1   \n",
       "125         1017         1       3   \n",
       "150         1042         1       1   \n",
       "175         1067         1       2   \n",
       "200         1092         1       3   \n",
       "225         1117         1       3   \n",
       "250         1142         1       2   \n",
       "275         1167         1       2   \n",
       "300         1192         0       3   \n",
       "325         1217         0       3   \n",
       "350         1242         1       1   \n",
       "375         1267         1       1   \n",
       "400         1292         1       1   \n",
       "\n",
       "                                                  Name     Sex    Age  SibSp  \\\n",
       "0                                     Kelly, Mr. James    male  34.50      0   \n",
       "25                             Robins, Mr. Alexander A    male  50.00      1   \n",
       "50                            Smith, Mr. Lucien Philip    male  24.00      1   \n",
       "75                                  Keeping, Mr. Edwin    male  32.50      0   \n",
       "100  Stengel, Mrs. Charles Emil Henry (Annie May Mo...  female  43.00      1   \n",
       "125                           Cribb, Miss. Laura Alice  female  17.00      0   \n",
       "150              Earnshaw, Mrs. Boulton (Olive Potter)  female  23.00      0   \n",
       "175                          Brown, Miss. Edith Eileen  female  15.00      0   \n",
       "200                                 Murphy, Miss. Nora  female    NaN      0   \n",
       "225   Moubarek, Mrs. George (Omine Amenia\" Alexander)\"  female    NaN      0   \n",
       "250                              West, Miss. Barbara J  female   0.92      1   \n",
       "275                Bryhl, Miss. Dagmar Jenny Ingeborg   female  20.00      1   \n",
       "300                          Olsson, Mr. Oscar Wilhelm    male  32.00      0   \n",
       "325                                     Assam, Mr. Ali    male  23.00      0   \n",
       "350       Greenfield, Mrs. Leo David (Blanche Strouse)  female  45.00      0   \n",
       "375                           Bowen, Miss. Grace Scott  female  45.00      0   \n",
       "400                            Bonnell, Miss. Caroline  female  30.00      0   \n",
       "\n",
       "     Parch              Ticket      Fare    Cabin Embarked  \n",
       "0        0              330911    7.8292      NaN        Q  \n",
       "25       0           A/5. 3337   14.5000      NaN        S  \n",
       "50       0               13695   60.0000      C31        S  \n",
       "75       0              113503  211.5000     C132        C  \n",
       "100      0               11778   55.4417     C116        C  \n",
       "125      1              371362   16.1000      NaN        S  \n",
       "150      1               11767   83.1583      C54        C  \n",
       "175      2               29750   39.0000      NaN        S  \n",
       "200      0               36568   15.5000      NaN        Q  \n",
       "225      2                2661   15.2458      NaN        C  \n",
       "250      2          C.A. 34651   27.7500      NaN        S  \n",
       "275      0              236853   26.0000      NaN        S  \n",
       "300      0              347079    7.7750      NaN        S  \n",
       "325      0  SOTON/O.Q. 3101309    7.0500      NaN        S  \n",
       "350      1            PC 17759   63.3583  D10 D12        C  \n",
       "375      0            PC 17608  262.3750      NaN        C  \n",
       "400      0               36928  164.8667       C7        S  "
      ]
     },
     "execution_count": 89,
     "metadata": {},
     "output_type": "execute_result"
    }
   ],
   "source": [
    "df.iloc[[0,25,50,75,100,125,150,175,200,225,250,275,300,325,350,375,400]]"
   ]
  },
  {
   "cell_type": "code",
   "execution_count": 91,
   "id": "040c89e3-060b-49f2-b658-c5edc416848e",
   "metadata": {},
   "outputs": [
    {
     "data": {
      "text/html": [
       "<div>\n",
       "<style scoped>\n",
       "    .dataframe tbody tr th:only-of-type {\n",
       "        vertical-align: middle;\n",
       "    }\n",
       "\n",
       "    .dataframe tbody tr th {\n",
       "        vertical-align: top;\n",
       "    }\n",
       "\n",
       "    .dataframe thead th {\n",
       "        text-align: right;\n",
       "    }\n",
       "</style>\n",
       "<table border=\"1\" class=\"dataframe\">\n",
       "  <thead>\n",
       "    <tr style=\"text-align: right;\">\n",
       "      <th></th>\n",
       "      <th>PassengerId</th>\n",
       "      <th>Survived</th>\n",
       "      <th>Pclass</th>\n",
       "      <th>Name</th>\n",
       "      <th>Sex</th>\n",
       "      <th>Age</th>\n",
       "      <th>SibSp</th>\n",
       "      <th>Parch</th>\n",
       "      <th>Ticket</th>\n",
       "      <th>Fare</th>\n",
       "      <th>Cabin</th>\n",
       "      <th>Embarked</th>\n",
       "    </tr>\n",
       "  </thead>\n",
       "  <tbody>\n",
       "    <tr>\n",
       "      <th>0</th>\n",
       "      <td>892</td>\n",
       "      <td>0</td>\n",
       "      <td>3</td>\n",
       "      <td>Kelly, Mr. James</td>\n",
       "      <td>male</td>\n",
       "      <td>34.5</td>\n",
       "      <td>0</td>\n",
       "      <td>0</td>\n",
       "      <td>330911</td>\n",
       "      <td>7.8292</td>\n",
       "      <td>NaN</td>\n",
       "      <td>Q</td>\n",
       "    </tr>\n",
       "    <tr>\n",
       "      <th>2</th>\n",
       "      <td>894</td>\n",
       "      <td>0</td>\n",
       "      <td>2</td>\n",
       "      <td>Myles, Mr. Thomas Francis</td>\n",
       "      <td>male</td>\n",
       "      <td>62.0</td>\n",
       "      <td>0</td>\n",
       "      <td>0</td>\n",
       "      <td>240276</td>\n",
       "      <td>9.6875</td>\n",
       "      <td>NaN</td>\n",
       "      <td>Q</td>\n",
       "    </tr>\n",
       "    <tr>\n",
       "      <th>3</th>\n",
       "      <td>895</td>\n",
       "      <td>0</td>\n",
       "      <td>3</td>\n",
       "      <td>Wirz, Mr. Albert</td>\n",
       "      <td>male</td>\n",
       "      <td>27.0</td>\n",
       "      <td>0</td>\n",
       "      <td>0</td>\n",
       "      <td>315154</td>\n",
       "      <td>8.6625</td>\n",
       "      <td>NaN</td>\n",
       "      <td>S</td>\n",
       "    </tr>\n",
       "    <tr>\n",
       "      <th>5</th>\n",
       "      <td>897</td>\n",
       "      <td>0</td>\n",
       "      <td>3</td>\n",
       "      <td>Svensson, Mr. Johan Cervin</td>\n",
       "      <td>male</td>\n",
       "      <td>14.0</td>\n",
       "      <td>0</td>\n",
       "      <td>0</td>\n",
       "      <td>7538</td>\n",
       "      <td>9.2250</td>\n",
       "      <td>NaN</td>\n",
       "      <td>S</td>\n",
       "    </tr>\n",
       "    <tr>\n",
       "      <th>7</th>\n",
       "      <td>899</td>\n",
       "      <td>0</td>\n",
       "      <td>2</td>\n",
       "      <td>Caldwell, Mr. Albert Francis</td>\n",
       "      <td>male</td>\n",
       "      <td>26.0</td>\n",
       "      <td>1</td>\n",
       "      <td>1</td>\n",
       "      <td>248738</td>\n",
       "      <td>29.0000</td>\n",
       "      <td>NaN</td>\n",
       "      <td>S</td>\n",
       "    </tr>\n",
       "    <tr>\n",
       "      <th>...</th>\n",
       "      <td>...</td>\n",
       "      <td>...</td>\n",
       "      <td>...</td>\n",
       "      <td>...</td>\n",
       "      <td>...</td>\n",
       "      <td>...</td>\n",
       "      <td>...</td>\n",
       "      <td>...</td>\n",
       "      <td>...</td>\n",
       "      <td>...</td>\n",
       "      <td>...</td>\n",
       "      <td>...</td>\n",
       "    </tr>\n",
       "    <tr>\n",
       "      <th>407</th>\n",
       "      <td>1299</td>\n",
       "      <td>0</td>\n",
       "      <td>1</td>\n",
       "      <td>Widener, Mr. George Dunton</td>\n",
       "      <td>male</td>\n",
       "      <td>50.0</td>\n",
       "      <td>1</td>\n",
       "      <td>1</td>\n",
       "      <td>113503</td>\n",
       "      <td>211.5000</td>\n",
       "      <td>C80</td>\n",
       "      <td>C</td>\n",
       "    </tr>\n",
       "    <tr>\n",
       "      <th>413</th>\n",
       "      <td>1305</td>\n",
       "      <td>0</td>\n",
       "      <td>3</td>\n",
       "      <td>Spector, Mr. Woolf</td>\n",
       "      <td>male</td>\n",
       "      <td>NaN</td>\n",
       "      <td>0</td>\n",
       "      <td>0</td>\n",
       "      <td>A.5. 3236</td>\n",
       "      <td>8.0500</td>\n",
       "      <td>NaN</td>\n",
       "      <td>S</td>\n",
       "    </tr>\n",
       "    <tr>\n",
       "      <th>415</th>\n",
       "      <td>1307</td>\n",
       "      <td>0</td>\n",
       "      <td>3</td>\n",
       "      <td>Saether, Mr. Simon Sivertsen</td>\n",
       "      <td>male</td>\n",
       "      <td>38.5</td>\n",
       "      <td>0</td>\n",
       "      <td>0</td>\n",
       "      <td>SOTON/O.Q. 3101262</td>\n",
       "      <td>7.2500</td>\n",
       "      <td>NaN</td>\n",
       "      <td>S</td>\n",
       "    </tr>\n",
       "    <tr>\n",
       "      <th>416</th>\n",
       "      <td>1308</td>\n",
       "      <td>0</td>\n",
       "      <td>3</td>\n",
       "      <td>Ware, Mr. Frederick</td>\n",
       "      <td>male</td>\n",
       "      <td>NaN</td>\n",
       "      <td>0</td>\n",
       "      <td>0</td>\n",
       "      <td>359309</td>\n",
       "      <td>8.0500</td>\n",
       "      <td>NaN</td>\n",
       "      <td>S</td>\n",
       "    </tr>\n",
       "    <tr>\n",
       "      <th>417</th>\n",
       "      <td>1309</td>\n",
       "      <td>0</td>\n",
       "      <td>3</td>\n",
       "      <td>Peter, Master. Michael J</td>\n",
       "      <td>male</td>\n",
       "      <td>NaN</td>\n",
       "      <td>1</td>\n",
       "      <td>1</td>\n",
       "      <td>2668</td>\n",
       "      <td>22.3583</td>\n",
       "      <td>NaN</td>\n",
       "      <td>C</td>\n",
       "    </tr>\n",
       "  </tbody>\n",
       "</table>\n",
       "<p>266 rows × 12 columns</p>\n",
       "</div>"
      ],
      "text/plain": [
       "     PassengerId  Survived  Pclass                          Name   Sex   Age  \\\n",
       "0            892         0       3              Kelly, Mr. James  male  34.5   \n",
       "2            894         0       2     Myles, Mr. Thomas Francis  male  62.0   \n",
       "3            895         0       3              Wirz, Mr. Albert  male  27.0   \n",
       "5            897         0       3    Svensson, Mr. Johan Cervin  male  14.0   \n",
       "7            899         0       2  Caldwell, Mr. Albert Francis  male  26.0   \n",
       "..           ...       ...     ...                           ...   ...   ...   \n",
       "407         1299         0       1    Widener, Mr. George Dunton  male  50.0   \n",
       "413         1305         0       3            Spector, Mr. Woolf  male   NaN   \n",
       "415         1307         0       3  Saether, Mr. Simon Sivertsen  male  38.5   \n",
       "416         1308         0       3           Ware, Mr. Frederick  male   NaN   \n",
       "417         1309         0       3      Peter, Master. Michael J  male   NaN   \n",
       "\n",
       "     SibSp  Parch              Ticket      Fare Cabin Embarked  \n",
       "0        0      0              330911    7.8292   NaN        Q  \n",
       "2        0      0              240276    9.6875   NaN        Q  \n",
       "3        0      0              315154    8.6625   NaN        S  \n",
       "5        0      0                7538    9.2250   NaN        S  \n",
       "7        1      1              248738   29.0000   NaN        S  \n",
       "..     ...    ...                 ...       ...   ...      ...  \n",
       "407      1      1              113503  211.5000   C80        C  \n",
       "413      0      0           A.5. 3236    8.0500   NaN        S  \n",
       "415      0      0  SOTON/O.Q. 3101262    7.2500   NaN        S  \n",
       "416      0      0              359309    8.0500   NaN        S  \n",
       "417      1      1                2668   22.3583   NaN        C  \n",
       "\n",
       "[266 rows x 12 columns]"
      ]
     },
     "execution_count": 91,
     "metadata": {},
     "output_type": "execute_result"
    }
   ],
   "source": [
    "df.loc[df['Sex'] == \"male\"]"
   ]
  },
  {
   "cell_type": "code",
   "execution_count": 92,
   "id": "b84e90e1-d25d-4835-86c2-2c6c504c8123",
   "metadata": {},
   "outputs": [],
   "source": [
    "df[\"Fare\"] = df[\"Fare\"].fillna(df[\"Fare\"].median())"
   ]
  },
  {
   "cell_type": "code",
   "execution_count": 93,
   "id": "57273c45-bafe-4441-b59c-a60e7766b48c",
   "metadata": {},
   "outputs": [
    {
     "data": {
      "text/plain": [
       "PassengerId      0\n",
       "Survived         0\n",
       "Pclass           0\n",
       "Name             0\n",
       "Sex              0\n",
       "Age             86\n",
       "SibSp            0\n",
       "Parch            0\n",
       "Ticket           0\n",
       "Fare             0\n",
       "Cabin          327\n",
       "Embarked         0\n",
       "dtype: int64"
      ]
     },
     "execution_count": 93,
     "metadata": {},
     "output_type": "execute_result"
    }
   ],
   "source": [
    "df.isnull().sum()"
   ]
  },
  {
   "cell_type": "code",
   "execution_count": 94,
   "id": "b1ef2aca-6d08-4e8a-8719-e03dd501876b",
   "metadata": {},
   "outputs": [
    {
     "data": {
      "text/plain": [
       "PassengerId      0\n",
       "Survived         0\n",
       "Pclass           0\n",
       "Name             0\n",
       "Sex              0\n",
       "Age             86\n",
       "SibSp            0\n",
       "Parch            0\n",
       "Ticket           0\n",
       "Fare             0\n",
       "Cabin          327\n",
       "Embarked         0\n",
       "dtype: int64"
      ]
     },
     "execution_count": 94,
     "metadata": {},
     "output_type": "execute_result"
    }
   ],
   "source": [
    "df.isnull().sum()"
   ]
  },
  {
   "cell_type": "code",
   "execution_count": 95,
   "id": "50408d39-4d0a-4976-8ffa-0637614bcee0",
   "metadata": {},
   "outputs": [],
   "source": [
    "df[\"Age\"] = df[\"Age\"].fillna(df[\"Age\"].median())"
   ]
  },
  {
   "cell_type": "code",
   "execution_count": 96,
   "id": "8e068202-6909-478d-ad52-55702a309824",
   "metadata": {},
   "outputs": [
    {
     "data": {
      "text/plain": [
       "PassengerId      0\n",
       "Survived         0\n",
       "Pclass           0\n",
       "Name             0\n",
       "Sex              0\n",
       "Age              0\n",
       "SibSp            0\n",
       "Parch            0\n",
       "Ticket           0\n",
       "Fare             0\n",
       "Cabin          327\n",
       "Embarked         0\n",
       "dtype: int64"
      ]
     },
     "execution_count": 96,
     "metadata": {},
     "output_type": "execute_result"
    }
   ],
   "source": [
    "df.isnull().sum()"
   ]
  },
  {
   "cell_type": "code",
   "execution_count": 97,
   "id": "a7013da2-bdd5-4744-b6c4-dfbf4cb15308",
   "metadata": {},
   "outputs": [],
   "source": [
    "df.drop(\"Cabin\",axis=1,inplace=True)"
   ]
  },
  {
   "cell_type": "code",
   "execution_count": 98,
   "id": "9667804a-581d-420d-8a3c-ea646c34b4a1",
   "metadata": {},
   "outputs": [
    {
     "data": {
      "text/plain": [
       "PassengerId    0\n",
       "Survived       0\n",
       "Pclass         0\n",
       "Name           0\n",
       "Sex            0\n",
       "Age            0\n",
       "SibSp          0\n",
       "Parch          0\n",
       "Ticket         0\n",
       "Fare           0\n",
       "Embarked       0\n",
       "dtype: int64"
      ]
     },
     "execution_count": 98,
     "metadata": {},
     "output_type": "execute_result"
    }
   ],
   "source": [
    "df.isnull().sum()"
   ]
  },
  {
   "cell_type": "code",
   "execution_count": 99,
   "id": "acb4a202-d0fe-49e8-9ca6-237c7ce308a2",
   "metadata": {},
   "outputs": [],
   "source": [
    "import matplotlib.pyplot as plt\n",
    "import seaborn as sns"
   ]
  },
  {
   "cell_type": "code",
   "execution_count": 100,
   "id": "8c532460-1605-4ba3-bfb0-a54517d1da86",
   "metadata": {},
   "outputs": [],
   "source": [
    "numeric_cols=df.select_dtypes(include=\"number\").columns"
   ]
  },
  {
   "cell_type": "code",
   "execution_count": 142,
   "id": "9747dc38-15bb-4f3d-9e26-26fd0e2af27e",
   "metadata": {},
   "outputs": [
    {
     "data": {
      "text/plain": [
       "<Axes: xlabel='Age', ylabel='Count'>"
      ]
     },
     "execution_count": 142,
     "metadata": {},
     "output_type": "execute_result"
    },
    {
     "data": {
      "image/png": "[encoded data removed]",
      "text/plain": [
       "<Figure size 640x480 with 1 Axes>"
      ]
     },
     "metadata": {},
     "output_type": "display_data"
    }
   ],
   "source": [
    "sns.histplot(df['Age'],bins=20,kde=True)"
   ]
  },
  {
   "cell_type": "code",
   "execution_count": 109,
   "id": "35b181be-0b4f-44b9-8f9e-339ed3f97fda",
   "metadata": {},
   "outputs": [
    {
     "name": "stdout",
     "output_type": "stream",
     "text": [
      "0\n",
      "0\n"
     ]
    }
   ],
   "source": [
    "columns = ['Age','Fare']\n",
    "for col in columns:\n",
    "    Q1=df[col].quantile(0.25)\n",
    "    Q3=df[col].quantile(0.75)\n",
    "    IQR=Q3-Q1\n",
    "    LOWER_BOUND = Q1-1.5*IQR\n",
    "    UPPER_BOUND = Q3+1.5*IQR\n",
    "    outliers = df[(df[col] < LOWER_BOUND) | (df[col] > UPPER_BOUND)]\n",
    "    print(outliers.shape[0])"
   ]
  },
  {
   "cell_type": "code",
   "execution_count": 110,
   "id": "ec09d4de-af0d-4ce5-a325-a0fb58b25c5f",
   "metadata": {},
   "outputs": [
    {
     "data": {
      "text/plain": [
       "(418, 11)"
      ]
     },
     "execution_count": 110,
     "metadata": {},
     "output_type": "execute_result"
    }
   ],
   "source": [
    "df.shape"
   ]
  },
  {
   "cell_type": "code",
   "execution_count": 141,
   "id": "206b5669-ec76-439d-901c-85011bcf6ec6",
   "metadata": {},
   "outputs": [
    {
     "data": {
      "text/html": [
       "<div>\n",
       "<style scoped>\n",
       "    .dataframe tbody tr th:only-of-type {\n",
       "        vertical-align: middle;\n",
       "    }\n",
       "\n",
       "    .dataframe tbody tr th {\n",
       "        vertical-align: top;\n",
       "    }\n",
       "\n",
       "    .dataframe thead th {\n",
       "        text-align: right;\n",
       "    }\n",
       "</style>\n",
       "<table border=\"1\" class=\"dataframe\">\n",
       "  <thead>\n",
       "    <tr style=\"text-align: right;\">\n",
       "      <th></th>\n",
       "      <th>variable</th>\n",
       "      <th>value</th>\n",
       "    </tr>\n",
       "  </thead>\n",
       "  <tbody>\n",
       "    <tr>\n",
       "      <th>0</th>\n",
       "      <td>PassengerId</td>\n",
       "      <td>892</td>\n",
       "    </tr>\n",
       "    <tr>\n",
       "      <th>1</th>\n",
       "      <td>PassengerId</td>\n",
       "      <td>893</td>\n",
       "    </tr>\n",
       "    <tr>\n",
       "      <th>2</th>\n",
       "      <td>PassengerId</td>\n",
       "      <td>894</td>\n",
       "    </tr>\n",
       "    <tr>\n",
       "      <th>3</th>\n",
       "      <td>PassengerId</td>\n",
       "      <td>895</td>\n",
       "    </tr>\n",
       "    <tr>\n",
       "      <th>4</th>\n",
       "      <td>PassengerId</td>\n",
       "      <td>896</td>\n",
       "    </tr>\n",
       "    <tr>\n",
       "      <th>...</th>\n",
       "      <td>...</td>\n",
       "      <td>...</td>\n",
       "    </tr>\n",
       "    <tr>\n",
       "      <th>4593</th>\n",
       "      <td>Embarked</td>\n",
       "      <td>S</td>\n",
       "    </tr>\n",
       "    <tr>\n",
       "      <th>4594</th>\n",
       "      <td>Embarked</td>\n",
       "      <td>C</td>\n",
       "    </tr>\n",
       "    <tr>\n",
       "      <th>4595</th>\n",
       "      <td>Embarked</td>\n",
       "      <td>S</td>\n",
       "    </tr>\n",
       "    <tr>\n",
       "      <th>4596</th>\n",
       "      <td>Embarked</td>\n",
       "      <td>S</td>\n",
       "    </tr>\n",
       "    <tr>\n",
       "      <th>4597</th>\n",
       "      <td>Embarked</td>\n",
       "      <td>C</td>\n",
       "    </tr>\n",
       "  </tbody>\n",
       "</table>\n",
       "<p>4598 rows × 2 columns</p>\n",
       "</div>"
      ],
      "text/plain": [
       "         variable value\n",
       "0     PassengerId   892\n",
       "1     PassengerId   893\n",
       "2     PassengerId   894\n",
       "3     PassengerId   895\n",
       "4     PassengerId   896\n",
       "...           ...   ...\n",
       "4593     Embarked     S\n",
       "4594     Embarked     C\n",
       "4595     Embarked     S\n",
       "4596     Embarked     S\n",
       "4597     Embarked     C\n",
       "\n",
       "[4598 rows x 2 columns]"
      ]
     },
     "execution_count": 141,
     "metadata": {},
     "output_type": "execute_result"
    }
   ],
   "source": [
    "df.melt()"
   ]
  },
  {
   "cell_type": "code",
   "execution_count": 128,
   "id": "33481414-aea9-4735-9825-ae65aeeaaa31",
   "metadata": {},
   "outputs": [
    {
     "data": {
      "text/html": [
       "<div>\n",
       "<style scoped>\n",
       "    .dataframe tbody tr th:only-of-type {\n",
       "        vertical-align: middle;\n",
       "    }\n",
       "\n",
       "    .dataframe tbody tr th {\n",
       "        vertical-align: top;\n",
       "    }\n",
       "\n",
       "    .dataframe thead th {\n",
       "        text-align: right;\n",
       "    }\n",
       "</style>\n",
       "<table border=\"1\" class=\"dataframe\">\n",
       "  <thead>\n",
       "    <tr style=\"text-align: right;\">\n",
       "      <th></th>\n",
       "      <th>mean</th>\n",
       "      <th>median</th>\n",
       "      <th>count</th>\n",
       "    </tr>\n",
       "    <tr>\n",
       "      <th>Embarked</th>\n",
       "      <th></th>\n",
       "      <th></th>\n",
       "      <th></th>\n",
       "    </tr>\n",
       "  </thead>\n",
       "  <tbody>\n",
       "    <tr>\n",
       "      <th>C</th>\n",
       "      <td>36.563145</td>\n",
       "      <td>27.7208</td>\n",
       "      <td>102</td>\n",
       "    </tr>\n",
       "    <tr>\n",
       "      <th>Q</th>\n",
       "      <td>10.454135</td>\n",
       "      <td>7.7500</td>\n",
       "      <td>46</td>\n",
       "    </tr>\n",
       "    <tr>\n",
       "      <th>S</th>\n",
       "      <td>22.558744</td>\n",
       "      <td>13.8375</td>\n",
       "      <td>270</td>\n",
       "    </tr>\n",
       "  </tbody>\n",
       "</table>\n",
       "</div>"
      ],
      "text/plain": [
       "               mean   median  count\n",
       "Embarked                           \n",
       "C         36.563145  27.7208    102\n",
       "Q         10.454135   7.7500     46\n",
       "S         22.558744  13.8375    270"
      ]
     },
     "execution_count": 128,
     "metadata": {},
     "output_type": "execute_result"
    }
   ],
   "source": [
    "df.groupby(\"Embarked\")[\"Fare\"].agg([\"mean\",\"median\",\"count\"])"
   ]
  },
  {
   "cell_type": "code",
   "execution_count": 146,
   "id": "73da965e-f872-4b97-85c7-966476fcc228",
   "metadata": {},
   "outputs": [
    {
     "data": {
      "text/html": [
       "<div>\n",
       "<style scoped>\n",
       "    .dataframe tbody tr th:only-of-type {\n",
       "        vertical-align: middle;\n",
       "    }\n",
       "\n",
       "    .dataframe tbody tr th {\n",
       "        vertical-align: top;\n",
       "    }\n",
       "\n",
       "    .dataframe thead th {\n",
       "        text-align: right;\n",
       "    }\n",
       "</style>\n",
       "<table border=\"1\" class=\"dataframe\">\n",
       "  <thead>\n",
       "    <tr style=\"text-align: right;\">\n",
       "      <th></th>\n",
       "      <th>PassengerId</th>\n",
       "      <th>Survived</th>\n",
       "      <th>Pclass</th>\n",
       "      <th>Name</th>\n",
       "      <th>Sex</th>\n",
       "      <th>Age</th>\n",
       "      <th>SibSp</th>\n",
       "      <th>Parch</th>\n",
       "      <th>Ticket</th>\n",
       "      <th>Fare</th>\n",
       "      <th>Embarked</th>\n",
       "    </tr>\n",
       "  </thead>\n",
       "  <tbody>\n",
       "    <tr>\n",
       "      <th>307</th>\n",
       "      <td>1199</td>\n",
       "      <td>0</td>\n",
       "      <td>3</td>\n",
       "      <td>Aks, Master. Philip Frank</td>\n",
       "      <td>male</td>\n",
       "      <td>3.875</td>\n",
       "      <td>0</td>\n",
       "      <td>1</td>\n",
       "      <td>392091</td>\n",
       "      <td>9.350000</td>\n",
       "      <td>S</td>\n",
       "    </tr>\n",
       "    <tr>\n",
       "      <th>117</th>\n",
       "      <td>1009</td>\n",
       "      <td>1</td>\n",
       "      <td>3</td>\n",
       "      <td>Sandstrom, Miss. Beatrice Irene</td>\n",
       "      <td>female</td>\n",
       "      <td>3.875</td>\n",
       "      <td>1</td>\n",
       "      <td>1</td>\n",
       "      <td>PP 9549</td>\n",
       "      <td>16.700000</td>\n",
       "      <td>S</td>\n",
       "    </tr>\n",
       "    <tr>\n",
       "      <th>281</th>\n",
       "      <td>1173</td>\n",
       "      <td>0</td>\n",
       "      <td>3</td>\n",
       "      <td>Peacock, Master. Alfred Edward</td>\n",
       "      <td>male</td>\n",
       "      <td>3.875</td>\n",
       "      <td>1</td>\n",
       "      <td>1</td>\n",
       "      <td>SOTON/O.Q. 3101315</td>\n",
       "      <td>13.775000</td>\n",
       "      <td>S</td>\n",
       "    </tr>\n",
       "    <tr>\n",
       "      <th>284</th>\n",
       "      <td>1176</td>\n",
       "      <td>1</td>\n",
       "      <td>3</td>\n",
       "      <td>Rosblom, Miss. Salli Helena</td>\n",
       "      <td>female</td>\n",
       "      <td>3.875</td>\n",
       "      <td>1</td>\n",
       "      <td>1</td>\n",
       "      <td>370129</td>\n",
       "      <td>20.212500</td>\n",
       "      <td>S</td>\n",
       "    </tr>\n",
       "    <tr>\n",
       "      <th>409</th>\n",
       "      <td>1301</td>\n",
       "      <td>1</td>\n",
       "      <td>3</td>\n",
       "      <td>Peacock, Miss. Treasteall</td>\n",
       "      <td>female</td>\n",
       "      <td>3.875</td>\n",
       "      <td>1</td>\n",
       "      <td>1</td>\n",
       "      <td>SOTON/O.Q. 3101315</td>\n",
       "      <td>13.775000</td>\n",
       "      <td>S</td>\n",
       "    </tr>\n",
       "    <tr>\n",
       "      <th>...</th>\n",
       "      <td>...</td>\n",
       "      <td>...</td>\n",
       "      <td>...</td>\n",
       "      <td>...</td>\n",
       "      <td>...</td>\n",
       "      <td>...</td>\n",
       "      <td>...</td>\n",
       "      <td>...</td>\n",
       "      <td>...</td>\n",
       "      <td>...</td>\n",
       "      <td>...</td>\n",
       "    </tr>\n",
       "    <tr>\n",
       "      <th>407</th>\n",
       "      <td>1299</td>\n",
       "      <td>0</td>\n",
       "      <td>1</td>\n",
       "      <td>Widener, Mr. George Dunton</td>\n",
       "      <td>male</td>\n",
       "      <td>50.000</td>\n",
       "      <td>1</td>\n",
       "      <td>1</td>\n",
       "      <td>113503</td>\n",
       "      <td>66.835988</td>\n",
       "      <td>C</td>\n",
       "    </tr>\n",
       "    <tr>\n",
       "      <th>218</th>\n",
       "      <td>1110</td>\n",
       "      <td>1</td>\n",
       "      <td>1</td>\n",
       "      <td>Widener, Mrs. George Dunton (Eleanor Elkins)</td>\n",
       "      <td>female</td>\n",
       "      <td>50.000</td>\n",
       "      <td>1</td>\n",
       "      <td>1</td>\n",
       "      <td>113503</td>\n",
       "      <td>66.835988</td>\n",
       "      <td>C</td>\n",
       "    </tr>\n",
       "    <tr>\n",
       "      <th>355</th>\n",
       "      <td>1247</td>\n",
       "      <td>0</td>\n",
       "      <td>1</td>\n",
       "      <td>Julian, Mr. Henry Forbes</td>\n",
       "      <td>male</td>\n",
       "      <td>50.000</td>\n",
       "      <td>0</td>\n",
       "      <td>0</td>\n",
       "      <td>113044</td>\n",
       "      <td>26.000000</td>\n",
       "      <td>S</td>\n",
       "    </tr>\n",
       "    <tr>\n",
       "      <th>25</th>\n",
       "      <td>917</td>\n",
       "      <td>0</td>\n",
       "      <td>3</td>\n",
       "      <td>Robins, Mr. Alexander A</td>\n",
       "      <td>male</td>\n",
       "      <td>50.000</td>\n",
       "      <td>1</td>\n",
       "      <td>0</td>\n",
       "      <td>A/5. 3337</td>\n",
       "      <td>14.500000</td>\n",
       "      <td>S</td>\n",
       "    </tr>\n",
       "    <tr>\n",
       "      <th>30</th>\n",
       "      <td>922</td>\n",
       "      <td>0</td>\n",
       "      <td>2</td>\n",
       "      <td>Louch, Mr. Charles Alexander</td>\n",
       "      <td>male</td>\n",
       "      <td>50.000</td>\n",
       "      <td>1</td>\n",
       "      <td>0</td>\n",
       "      <td>SC/AH 3085</td>\n",
       "      <td>26.000000</td>\n",
       "      <td>S</td>\n",
       "    </tr>\n",
       "  </tbody>\n",
       "</table>\n",
       "<p>387 rows × 11 columns</p>\n",
       "</div>"
      ],
      "text/plain": [
       "     PassengerId  Survived  Pclass  \\\n",
       "307         1199         0       3   \n",
       "117         1009         1       3   \n",
       "281         1173         0       3   \n",
       "284         1176         1       3   \n",
       "409         1301         1       3   \n",
       "..           ...       ...     ...   \n",
       "407         1299         0       1   \n",
       "218         1110         1       1   \n",
       "355         1247         0       1   \n",
       "25           917         0       3   \n",
       "30           922         0       2   \n",
       "\n",
       "                                             Name     Sex     Age  SibSp  \\\n",
       "307                     Aks, Master. Philip Frank    male   3.875      0   \n",
       "117               Sandstrom, Miss. Beatrice Irene  female   3.875      1   \n",
       "281                Peacock, Master. Alfred Edward    male   3.875      1   \n",
       "284                   Rosblom, Miss. Salli Helena  female   3.875      1   \n",
       "409                     Peacock, Miss. Treasteall  female   3.875      1   \n",
       "..                                            ...     ...     ...    ...   \n",
       "407                    Widener, Mr. George Dunton    male  50.000      1   \n",
       "218  Widener, Mrs. George Dunton (Eleanor Elkins)  female  50.000      1   \n",
       "355                      Julian, Mr. Henry Forbes    male  50.000      0   \n",
       "25                        Robins, Mr. Alexander A    male  50.000      1   \n",
       "30                   Louch, Mr. Charles Alexander    male  50.000      1   \n",
       "\n",
       "     Parch              Ticket       Fare Embarked  \n",
       "307      1              392091   9.350000        S  \n",
       "117      1             PP 9549  16.700000        S  \n",
       "281      1  SOTON/O.Q. 3101315  13.775000        S  \n",
       "284      1              370129  20.212500        S  \n",
       "409      1  SOTON/O.Q. 3101315  13.775000        S  \n",
       "..     ...                 ...        ...      ...  \n",
       "407      1              113503  66.835988        C  \n",
       "218      1              113503  66.835988        C  \n",
       "355      0              113044  26.000000        S  \n",
       "25       0           A/5. 3337  14.500000        S  \n",
       "30       0          SC/AH 3085  26.000000        S  \n",
       "\n",
       "[387 rows x 11 columns]"
      ]
     },
     "execution_count": 146,
     "metadata": {},
     "output_type": "execute_result"
    }
   ],
   "source": [
    "df1 = df.query('Age <= 50').sort_values(by='Age', ascending=True)\n",
    "df1"
   ]
  },
  {
   "cell_type": "code",
   "execution_count": 147,
   "id": "d4f4353f-766e-4c20-a4d8-36087d01f39f",
   "metadata": {},
   "outputs": [],
   "source": [
    "import pandas as pd "
   ]
  },
  {
   "cell_type": "code",
   "execution_count": 149,
   "id": "c47d525e-74a0-4503-9b1e-48e0926e8660",
   "metadata": {},
   "outputs": [],
   "source": [
    "df = pd.read_csv(\"employee_survey_data.csv\")"
   ]
  },
  {
   "cell_type": "code",
   "execution_count": 150,
   "id": "bb1ee7b2-6c3b-4a68-97ec-9fed2cd6929e",
   "metadata": {},
   "outputs": [
    {
     "data": {
      "text/html": [
       "<div>\n",
       "<style scoped>\n",
       "    .dataframe tbody tr th:only-of-type {\n",
       "        vertical-align: middle;\n",
       "    }\n",
       "\n",
       "    .dataframe tbody tr th {\n",
       "        vertical-align: top;\n",
       "    }\n",
       "\n",
       "    .dataframe thead th {\n",
       "        text-align: right;\n",
       "    }\n",
       "</style>\n",
       "<table border=\"1\" class=\"dataframe\">\n",
       "  <thead>\n",
       "    <tr style=\"text-align: right;\">\n",
       "      <th></th>\n",
       "      <th>EmployeeID</th>\n",
       "      <th>EnvironmentSatisfaction</th>\n",
       "      <th>JobSatisfaction</th>\n",
       "      <th>WorkLifeBalance</th>\n",
       "    </tr>\n",
       "  </thead>\n",
       "  <tbody>\n",
       "    <tr>\n",
       "      <th>0</th>\n",
       "      <td>1</td>\n",
       "      <td>3.0</td>\n",
       "      <td>4.0</td>\n",
       "      <td>2.0</td>\n",
       "    </tr>\n",
       "    <tr>\n",
       "      <th>1</th>\n",
       "      <td>2</td>\n",
       "      <td>3.0</td>\n",
       "      <td>2.0</td>\n",
       "      <td>4.0</td>\n",
       "    </tr>\n",
       "    <tr>\n",
       "      <th>2</th>\n",
       "      <td>3</td>\n",
       "      <td>2.0</td>\n",
       "      <td>2.0</td>\n",
       "      <td>1.0</td>\n",
       "    </tr>\n",
       "    <tr>\n",
       "      <th>3</th>\n",
       "      <td>4</td>\n",
       "      <td>4.0</td>\n",
       "      <td>4.0</td>\n",
       "      <td>3.0</td>\n",
       "    </tr>\n",
       "    <tr>\n",
       "      <th>4</th>\n",
       "      <td>5</td>\n",
       "      <td>4.0</td>\n",
       "      <td>1.0</td>\n",
       "      <td>3.0</td>\n",
       "    </tr>\n",
       "    <tr>\n",
       "      <th>...</th>\n",
       "      <td>...</td>\n",
       "      <td>...</td>\n",
       "      <td>...</td>\n",
       "      <td>...</td>\n",
       "    </tr>\n",
       "    <tr>\n",
       "      <th>4405</th>\n",
       "      <td>4406</td>\n",
       "      <td>4.0</td>\n",
       "      <td>1.0</td>\n",
       "      <td>3.0</td>\n",
       "    </tr>\n",
       "    <tr>\n",
       "      <th>4406</th>\n",
       "      <td>4407</td>\n",
       "      <td>4.0</td>\n",
       "      <td>4.0</td>\n",
       "      <td>3.0</td>\n",
       "    </tr>\n",
       "    <tr>\n",
       "      <th>4407</th>\n",
       "      <td>4408</td>\n",
       "      <td>1.0</td>\n",
       "      <td>3.0</td>\n",
       "      <td>3.0</td>\n",
       "    </tr>\n",
       "    <tr>\n",
       "      <th>4408</th>\n",
       "      <td>4409</td>\n",
       "      <td>4.0</td>\n",
       "      <td>1.0</td>\n",
       "      <td>3.0</td>\n",
       "    </tr>\n",
       "    <tr>\n",
       "      <th>4409</th>\n",
       "      <td>4410</td>\n",
       "      <td>1.0</td>\n",
       "      <td>3.0</td>\n",
       "      <td>NaN</td>\n",
       "    </tr>\n",
       "  </tbody>\n",
       "</table>\n",
       "<p>4410 rows × 4 columns</p>\n",
       "</div>"
      ],
      "text/plain": [
       "      EmployeeID  EnvironmentSatisfaction  JobSatisfaction  WorkLifeBalance\n",
       "0              1                      3.0              4.0              2.0\n",
       "1              2                      3.0              2.0              4.0\n",
       "2              3                      2.0              2.0              1.0\n",
       "3              4                      4.0              4.0              3.0\n",
       "4              5                      4.0              1.0              3.0\n",
       "...          ...                      ...              ...              ...\n",
       "4405        4406                      4.0              1.0              3.0\n",
       "4406        4407                      4.0              4.0              3.0\n",
       "4407        4408                      1.0              3.0              3.0\n",
       "4408        4409                      4.0              1.0              3.0\n",
       "4409        4410                      1.0              3.0              NaN\n",
       "\n",
       "[4410 rows x 4 columns]"
      ]
     },
     "execution_count": 150,
     "metadata": {},
     "output_type": "execute_result"
    }
   ],
   "source": [
    "df"
   ]
  },
  {
   "cell_type": "code",
   "execution_count": 151,
   "id": "ae4e4781-eb32-4171-923b-faafa3c23986",
   "metadata": {},
   "outputs": [
    {
     "name": "stdout",
     "output_type": "stream",
     "text": [
      "<class 'pandas.core.frame.DataFrame'>\n",
      "RangeIndex: 4410 entries, 0 to 4409\n",
      "Data columns (total 4 columns):\n",
      " #   Column                   Non-Null Count  Dtype  \n",
      "---  ------                   --------------  -----  \n",
      " 0   EmployeeID               4410 non-null   int64  \n",
      " 1   EnvironmentSatisfaction  4385 non-null   float64\n",
      " 2   JobSatisfaction          4390 non-null   float64\n",
      " 3   WorkLifeBalance          4372 non-null   float64\n",
      "dtypes: float64(3), int64(1)\n",
      "memory usage: 137.9 KB\n"
     ]
    }
   ],
   "source": [
    "df.info()"
   ]
  },
  {
   "cell_type": "code",
   "execution_count": 152,
   "id": "c0fe2247-f04e-4f0a-acfd-17d8f5bc456d",
   "metadata": {},
   "outputs": [
    {
     "data": {
      "text/html": [
       "<div>\n",
       "<style scoped>\n",
       "    .dataframe tbody tr th:only-of-type {\n",
       "        vertical-align: middle;\n",
       "    }\n",
       "\n",
       "    .dataframe tbody tr th {\n",
       "        vertical-align: top;\n",
       "    }\n",
       "\n",
       "    .dataframe thead th {\n",
       "        text-align: right;\n",
       "    }\n",
       "</style>\n",
       "<table border=\"1\" class=\"dataframe\">\n",
       "  <thead>\n",
       "    <tr style=\"text-align: right;\">\n",
       "      <th></th>\n",
       "      <th>EmployeeID</th>\n",
       "      <th>EnvironmentSatisfaction</th>\n",
       "      <th>JobSatisfaction</th>\n",
       "      <th>WorkLifeBalance</th>\n",
       "    </tr>\n",
       "  </thead>\n",
       "  <tbody>\n",
       "    <tr>\n",
       "      <th>0</th>\n",
       "      <td>1</td>\n",
       "      <td>3.0</td>\n",
       "      <td>4.0</td>\n",
       "      <td>2.0</td>\n",
       "    </tr>\n",
       "    <tr>\n",
       "      <th>1</th>\n",
       "      <td>2</td>\n",
       "      <td>3.0</td>\n",
       "      <td>2.0</td>\n",
       "      <td>4.0</td>\n",
       "    </tr>\n",
       "    <tr>\n",
       "      <th>2</th>\n",
       "      <td>3</td>\n",
       "      <td>2.0</td>\n",
       "      <td>2.0</td>\n",
       "      <td>1.0</td>\n",
       "    </tr>\n",
       "    <tr>\n",
       "      <th>3</th>\n",
       "      <td>4</td>\n",
       "      <td>4.0</td>\n",
       "      <td>4.0</td>\n",
       "      <td>3.0</td>\n",
       "    </tr>\n",
       "    <tr>\n",
       "      <th>4</th>\n",
       "      <td>5</td>\n",
       "      <td>4.0</td>\n",
       "      <td>1.0</td>\n",
       "      <td>3.0</td>\n",
       "    </tr>\n",
       "  </tbody>\n",
       "</table>\n",
       "</div>"
      ],
      "text/plain": [
       "   EmployeeID  EnvironmentSatisfaction  JobSatisfaction  WorkLifeBalance\n",
       "0           1                      3.0              4.0              2.0\n",
       "1           2                      3.0              2.0              4.0\n",
       "2           3                      2.0              2.0              1.0\n",
       "3           4                      4.0              4.0              3.0\n",
       "4           5                      4.0              1.0              3.0"
      ]
     },
     "execution_count": 152,
     "metadata": {},
     "output_type": "execute_result"
    }
   ],
   "source": [
    "df.head()"
   ]
  },
  {
   "cell_type": "code",
   "execution_count": 153,
   "id": "dfc0ff9c-a0fc-47d9-804f-fb1103b9a119",
   "metadata": {},
   "outputs": [
    {
     "data": {
      "text/html": [
       "<div>\n",
       "<style scoped>\n",
       "    .dataframe tbody tr th:only-of-type {\n",
       "        vertical-align: middle;\n",
       "    }\n",
       "\n",
       "    .dataframe tbody tr th {\n",
       "        vertical-align: top;\n",
       "    }\n",
       "\n",
       "    .dataframe thead th {\n",
       "        text-align: right;\n",
       "    }\n",
       "</style>\n",
       "<table border=\"1\" class=\"dataframe\">\n",
       "  <thead>\n",
       "    <tr style=\"text-align: right;\">\n",
       "      <th></th>\n",
       "      <th>EmployeeID</th>\n",
       "      <th>EnvironmentSatisfaction</th>\n",
       "      <th>JobSatisfaction</th>\n",
       "      <th>WorkLifeBalance</th>\n",
       "    </tr>\n",
       "  </thead>\n",
       "  <tbody>\n",
       "    <tr>\n",
       "      <th>4405</th>\n",
       "      <td>4406</td>\n",
       "      <td>4.0</td>\n",
       "      <td>1.0</td>\n",
       "      <td>3.0</td>\n",
       "    </tr>\n",
       "    <tr>\n",
       "      <th>4406</th>\n",
       "      <td>4407</td>\n",
       "      <td>4.0</td>\n",
       "      <td>4.0</td>\n",
       "      <td>3.0</td>\n",
       "    </tr>\n",
       "    <tr>\n",
       "      <th>4407</th>\n",
       "      <td>4408</td>\n",
       "      <td>1.0</td>\n",
       "      <td>3.0</td>\n",
       "      <td>3.0</td>\n",
       "    </tr>\n",
       "    <tr>\n",
       "      <th>4408</th>\n",
       "      <td>4409</td>\n",
       "      <td>4.0</td>\n",
       "      <td>1.0</td>\n",
       "      <td>3.0</td>\n",
       "    </tr>\n",
       "    <tr>\n",
       "      <th>4409</th>\n",
       "      <td>4410</td>\n",
       "      <td>1.0</td>\n",
       "      <td>3.0</td>\n",
       "      <td>NaN</td>\n",
       "    </tr>\n",
       "  </tbody>\n",
       "</table>\n",
       "</div>"
      ],
      "text/plain": [
       "      EmployeeID  EnvironmentSatisfaction  JobSatisfaction  WorkLifeBalance\n",
       "4405        4406                      4.0              1.0              3.0\n",
       "4406        4407                      4.0              4.0              3.0\n",
       "4407        4408                      1.0              3.0              3.0\n",
       "4408        4409                      4.0              1.0              3.0\n",
       "4409        4410                      1.0              3.0              NaN"
      ]
     },
     "execution_count": 153,
     "metadata": {},
     "output_type": "execute_result"
    }
   ],
   "source": [
    "df.tail()"
   ]
  },
  {
   "cell_type": "code",
   "execution_count": 154,
   "id": "6b626565-2c8e-4fca-8507-b4b6f2c9c2af",
   "metadata": {},
   "outputs": [
    {
     "data": {
      "text/html": [
       "<div>\n",
       "<style scoped>\n",
       "    .dataframe tbody tr th:only-of-type {\n",
       "        vertical-align: middle;\n",
       "    }\n",
       "\n",
       "    .dataframe tbody tr th {\n",
       "        vertical-align: top;\n",
       "    }\n",
       "\n",
       "    .dataframe thead th {\n",
       "        text-align: right;\n",
       "    }\n",
       "</style>\n",
       "<table border=\"1\" class=\"dataframe\">\n",
       "  <thead>\n",
       "    <tr style=\"text-align: right;\">\n",
       "      <th></th>\n",
       "      <th>EmployeeID</th>\n",
       "      <th>EnvironmentSatisfaction</th>\n",
       "      <th>JobSatisfaction</th>\n",
       "      <th>WorkLifeBalance</th>\n",
       "    </tr>\n",
       "  </thead>\n",
       "  <tbody>\n",
       "    <tr>\n",
       "      <th>count</th>\n",
       "      <td>4410.000000</td>\n",
       "      <td>4385.000000</td>\n",
       "      <td>4390.000000</td>\n",
       "      <td>4372.000000</td>\n",
       "    </tr>\n",
       "    <tr>\n",
       "      <th>mean</th>\n",
       "      <td>2205.500000</td>\n",
       "      <td>2.723603</td>\n",
       "      <td>2.728246</td>\n",
       "      <td>2.761436</td>\n",
       "    </tr>\n",
       "    <tr>\n",
       "      <th>std</th>\n",
       "      <td>1273.201673</td>\n",
       "      <td>1.092756</td>\n",
       "      <td>1.101253</td>\n",
       "      <td>0.706245</td>\n",
       "    </tr>\n",
       "    <tr>\n",
       "      <th>min</th>\n",
       "      <td>1.000000</td>\n",
       "      <td>1.000000</td>\n",
       "      <td>1.000000</td>\n",
       "      <td>1.000000</td>\n",
       "    </tr>\n",
       "    <tr>\n",
       "      <th>25%</th>\n",
       "      <td>1103.250000</td>\n",
       "      <td>2.000000</td>\n",
       "      <td>2.000000</td>\n",
       "      <td>2.000000</td>\n",
       "    </tr>\n",
       "    <tr>\n",
       "      <th>50%</th>\n",
       "      <td>2205.500000</td>\n",
       "      <td>3.000000</td>\n",
       "      <td>3.000000</td>\n",
       "      <td>3.000000</td>\n",
       "    </tr>\n",
       "    <tr>\n",
       "      <th>75%</th>\n",
       "      <td>3307.750000</td>\n",
       "      <td>4.000000</td>\n",
       "      <td>4.000000</td>\n",
       "      <td>3.000000</td>\n",
       "    </tr>\n",
       "    <tr>\n",
       "      <th>max</th>\n",
       "      <td>4410.000000</td>\n",
       "      <td>4.000000</td>\n",
       "      <td>4.000000</td>\n",
       "      <td>4.000000</td>\n",
       "    </tr>\n",
       "  </tbody>\n",
       "</table>\n",
       "</div>"
      ],
      "text/plain": [
       "        EmployeeID  EnvironmentSatisfaction  JobSatisfaction  WorkLifeBalance\n",
       "count  4410.000000              4385.000000      4390.000000      4372.000000\n",
       "mean   2205.500000                 2.723603         2.728246         2.761436\n",
       "std    1273.201673                 1.092756         1.101253         0.706245\n",
       "min       1.000000                 1.000000         1.000000         1.000000\n",
       "25%    1103.250000                 2.000000         2.000000         2.000000\n",
       "50%    2205.500000                 3.000000         3.000000         3.000000\n",
       "75%    3307.750000                 4.000000         4.000000         3.000000\n",
       "max    4410.000000                 4.000000         4.000000         4.000000"
      ]
     },
     "execution_count": 154,
     "metadata": {},
     "output_type": "execute_result"
    }
   ],
   "source": [
    "df.describe()"
   ]
  },
  {
   "cell_type": "code",
   "execution_count": 155,
   "id": "4b0c1ec8-b6c3-4942-9ec9-f7dae67bd0dd",
   "metadata": {},
   "outputs": [
    {
     "data": {
      "text/plain": [
       "Index(['EmployeeID', 'EnvironmentSatisfaction', 'JobSatisfaction',\n",
       "       'WorkLifeBalance'],\n",
       "      dtype='object')"
      ]
     },
     "execution_count": 155,
     "metadata": {},
     "output_type": "execute_result"
    }
   ],
   "source": [
    "df.columns"
   ]
  },
  {
   "cell_type": "code",
   "execution_count": 156,
   "id": "0c7a34f4-5265-466f-8b67-02dc627bf3b9",
   "metadata": {},
   "outputs": [
    {
     "data": {
      "text/html": [
       "<div>\n",
       "<style scoped>\n",
       "    .dataframe tbody tr th:only-of-type {\n",
       "        vertical-align: middle;\n",
       "    }\n",
       "\n",
       "    .dataframe tbody tr th {\n",
       "        vertical-align: top;\n",
       "    }\n",
       "\n",
       "    .dataframe thead th {\n",
       "        text-align: right;\n",
       "    }\n",
       "</style>\n",
       "<table border=\"1\" class=\"dataframe\">\n",
       "  <thead>\n",
       "    <tr style=\"text-align: right;\">\n",
       "      <th></th>\n",
       "      <th>EmployeeID</th>\n",
       "      <th>EnvironmentSatisfaction</th>\n",
       "      <th>JobSatisfaction</th>\n",
       "      <th>WorkLifeBalance</th>\n",
       "    </tr>\n",
       "  </thead>\n",
       "  <tbody>\n",
       "    <tr>\n",
       "      <th>4409</th>\n",
       "      <td>4410</td>\n",
       "      <td>1.0</td>\n",
       "      <td>3.0</td>\n",
       "      <td>NaN</td>\n",
       "    </tr>\n",
       "  </tbody>\n",
       "</table>\n",
       "</div>"
      ],
      "text/plain": [
       "      EmployeeID  EnvironmentSatisfaction  JobSatisfaction  WorkLifeBalance\n",
       "4409        4410                      1.0              3.0              NaN"
      ]
     },
     "execution_count": 156,
     "metadata": {},
     "output_type": "execute_result"
    }
   ],
   "source": [
    "df.loc[df['EmployeeID'] == 4410 ]"
   ]
  },
  {
   "cell_type": "code",
   "execution_count": 158,
   "id": "4f24290d-2c23-47a7-9888-86e2c2c5b405",
   "metadata": {},
   "outputs": [
    {
     "data": {
      "text/html": [
       "<div>\n",
       "<style scoped>\n",
       "    .dataframe tbody tr th:only-of-type {\n",
       "        vertical-align: middle;\n",
       "    }\n",
       "\n",
       "    .dataframe tbody tr th {\n",
       "        vertical-align: top;\n",
       "    }\n",
       "\n",
       "    .dataframe thead th {\n",
       "        text-align: right;\n",
       "    }\n",
       "</style>\n",
       "<table border=\"1\" class=\"dataframe\">\n",
       "  <thead>\n",
       "    <tr style=\"text-align: right;\">\n",
       "      <th></th>\n",
       "      <th>EmployeeID</th>\n",
       "      <th>EnvironmentSatisfaction</th>\n",
       "      <th>JobSatisfaction</th>\n",
       "      <th>WorkLifeBalance</th>\n",
       "    </tr>\n",
       "  </thead>\n",
       "  <tbody>\n",
       "    <tr>\n",
       "      <th>3</th>\n",
       "      <td>4</td>\n",
       "      <td>4.0</td>\n",
       "      <td>4.0</td>\n",
       "      <td>3.0</td>\n",
       "    </tr>\n",
       "  </tbody>\n",
       "</table>\n",
       "</div>"
      ],
      "text/plain": [
       "   EmployeeID  EnvironmentSatisfaction  JobSatisfaction  WorkLifeBalance\n",
       "3           4                      4.0              4.0              3.0"
      ]
     },
     "execution_count": 158,
     "metadata": {},
     "output_type": "execute_result"
    }
   ],
   "source": [
    "df.loc[df['EmployeeID'] == 4 ]"
   ]
  },
  {
   "cell_type": "code",
   "execution_count": 163,
   "id": "77fe029a-e1a8-4d40-8469-cd1865290d90",
   "metadata": {},
   "outputs": [
    {
     "data": {
      "text/plain": [
       "(4410, 4)"
      ]
     },
     "execution_count": 163,
     "metadata": {},
     "output_type": "execute_result"
    }
   ],
   "source": [
    "df.shape"
   ]
  },
  {
   "cell_type": "code",
   "execution_count": 165,
   "id": "0e264cd2-1da1-4551-ac25-81836c4f0d6b",
   "metadata": {},
   "outputs": [
    {
     "data": {
      "text/plain": [
       "EmployeeID                 501.0\n",
       "EnvironmentSatisfaction      2.0\n",
       "JobSatisfaction              4.0\n",
       "WorkLifeBalance              1.0\n",
       "Name: 500, dtype: float64"
      ]
     },
     "execution_count": 165,
     "metadata": {},
     "output_type": "execute_result"
    }
   ],
   "source": [
    "df.iloc[500]"
   ]
  },
  {
   "cell_type": "code",
   "execution_count": 166,
   "id": "58918997-1018-46df-b0a8-004abc4007c3",
   "metadata": {},
   "outputs": [
    {
     "data": {
      "text/plain": [
       "EmployeeID                  0\n",
       "EnvironmentSatisfaction    25\n",
       "JobSatisfaction            20\n",
       "WorkLifeBalance            38\n",
       "dtype: int64"
      ]
     },
     "execution_count": 166,
     "metadata": {},
     "output_type": "execute_result"
    }
   ],
   "source": [
    "df.isnull().sum()"
   ]
  },
  {
   "cell_type": "code",
   "execution_count": 169,
   "id": "f9de8b89-33af-49e2-b4d7-b48e0b1a5021",
   "metadata": {},
   "outputs": [],
   "source": [
    "df['EnvironmentSatisfaction'] = df['EnvironmentSatisfaction'].fillna(df['EnvironmentSatisfaction'].median())"
   ]
  },
  {
   "cell_type": "code",
   "execution_count": 170,
   "id": "04c38361-dba6-4fb0-8b80-b27128be718f",
   "metadata": {},
   "outputs": [
    {
     "data": {
      "text/plain": [
       "EmployeeID                  0\n",
       "EnvironmentSatisfaction     0\n",
       "JobSatisfaction            20\n",
       "WorkLifeBalance            38\n",
       "dtype: int64"
      ]
     },
     "execution_count": 170,
     "metadata": {},
     "output_type": "execute_result"
    }
   ],
   "source": [
    "df.isnull().sum()"
   ]
  },
  {
   "cell_type": "code",
   "execution_count": 173,
   "id": "64090969-9e6a-4439-9e61-f4f0c0abfdf5",
   "metadata": {},
   "outputs": [],
   "source": [
    "df['JobSatisfaction'] = df['JobSatisfaction'].fillna(df['JobSatisfaction'].median())"
   ]
  },
  {
   "cell_type": "code",
   "execution_count": 174,
   "id": "0b1bbf53-c0d2-4bbb-852f-60d4d882e4d7",
   "metadata": {},
   "outputs": [],
   "source": [
    "df['WorkLifeBalance'] = df['WorkLifeBalance'].fillna(df['WorkLifeBalance'].median())"
   ]
  },
  {
   "cell_type": "code",
   "execution_count": 175,
   "id": "2b5c0b95-6492-4710-b943-e6e1ea5165ea",
   "metadata": {},
   "outputs": [
    {
     "data": {
      "text/plain": [
       "EmployeeID                 0\n",
       "EnvironmentSatisfaction    0\n",
       "JobSatisfaction            0\n",
       "WorkLifeBalance            0\n",
       "dtype: int64"
      ]
     },
     "execution_count": 175,
     "metadata": {},
     "output_type": "execute_result"
    }
   ],
   "source": [
    "df.isnull().sum()"
   ]
  },
  {
   "cell_type": "code",
   "execution_count": 180,
   "id": "7b6330fc-d328-4f08-84a2-c82fe18bef6c",
   "metadata": {},
   "outputs": [],
   "source": [
    "import matplotlib.pyplot as plt\n",
    "import seaborn as sns"
   ]
  },
  {
   "cell_type": "code",
   "execution_count": 181,
   "id": "01bd60ec-7cdb-4be7-b4d9-0ba903330ab4",
   "metadata": {},
   "outputs": [],
   "source": [
    "numeric_cols=df.select_dtypes(include=\"number\").columns"
   ]
  },
  {
   "cell_type": "code",
   "execution_count": 182,
   "id": "92f407b7-21f1-4b6a-a4b0-6c7e507a7671",
   "metadata": {},
   "outputs": [
    {
     "data": {
      "text/plain": [
       "<Axes: xlabel='EnvironmentSatisfaction', ylabel='Count'>"
      ]
     },
     "execution_count": 182,
     "metadata": {},
     "output_type": "execute_result"
    },
    {
     "data": {
      "image/png": "[encoded data removed]",
      "text/plain": [
       "<Figure size 640x480 with 1 Axes>"
      ]
     },
     "metadata": {},
     "output_type": "display_data"
    }
   ],
   "source": [
    "sns.histplot(df['EnvironmentSatisfaction'],bins=20,kde=True)"
   ]
  },
  {
   "cell_type": "code",
   "execution_count": 183,
   "id": "762e013e-54af-4c7c-ae2b-f5f6a5e7b45b",
   "metadata": {},
   "outputs": [
    {
     "data": {
      "text/plain": [
       "<Axes: xlabel='JobSatisfaction', ylabel='Count'>"
      ]
     },
     "execution_count": 183,
     "metadata": {},
     "output_type": "execute_result"
    },
    {
     "data": {
      "image/png": "[encoded data removed]",
      "text/plain": [
       "<Figure size 640x480 with 1 Axes>"
      ]
     },
     "metadata": {},
     "output_type": "display_data"
    }
   ],
   "source": [
    "sns.histplot(df['JobSatisfaction'],bins=20,kde=True)"
   ]
  },
  {
   "cell_type": "code",
   "execution_count": 184,
   "id": "cb006e61-f291-48de-8cfa-8923895290cb",
   "metadata": {},
   "outputs": [
    {
     "data": {
      "text/plain": [
       "<Axes: xlabel='WorkLifeBalance', ylabel='Count'>"
      ]
     },
     "execution_count": 184,
     "metadata": {},
     "output_type": "execute_result"
    },
    {
     "data": {
      "image/png": "[encoded data removed]",
      "text/plain": [
       "<Figure size 640x480 with 1 Axes>"
      ]
     },
     "metadata": {},
     "output_type": "display_data"
    }
   ],
   "source": [
    "sns.histplot(df['WorkLifeBalance'],bins=20,kde=True)"
   ]
  },
  {
   "cell_type": "code",
   "execution_count": 185,
   "id": "413b80bf-80f5-4ebd-94b5-013f7091409f",
   "metadata": {},
   "outputs": [
    {
     "name": "stdout",
     "output_type": "stream",
     "text": [
      "0\n",
      "0\n",
      "0\n"
     ]
    }
   ],
   "source": [
    "columns = ['EnvironmentSatisfaction','JobSatisfaction','WorkLifeBalance']\n",
    "for col in columns:\n",
    "    Q1=df[col].quantile(0.25)\n",
    "    Q3=df[col].quantile(0.75)\n",
    "    IQR=Q3-Q1\n",
    "    LOWER_BOUND = Q1-1.5*IQR\n",
    "    UPPER_BOUND = Q3+1.5*IQR\n",
    "    outliers = df[(df[col] < LOWER_BOUND) | (df[col] > UPPER_BOUND)]\n",
    "    print(outliers.shape[0])"
   ]
  },
  {
   "cell_type": "code",
   "execution_count": 186,
   "id": "d751d4da-da2a-41a9-ac16-1ddbb3b74fb1",
   "metadata": {},
   "outputs": [
    {
     "data": {
      "text/html": [
       "<div>\n",
       "<style scoped>\n",
       "    .dataframe tbody tr th:only-of-type {\n",
       "        vertical-align: middle;\n",
       "    }\n",
       "\n",
       "    .dataframe tbody tr th {\n",
       "        vertical-align: top;\n",
       "    }\n",
       "\n",
       "    .dataframe thead th {\n",
       "        text-align: right;\n",
       "    }\n",
       "</style>\n",
       "<table border=\"1\" class=\"dataframe\">\n",
       "  <thead>\n",
       "    <tr style=\"text-align: right;\">\n",
       "      <th></th>\n",
       "      <th>EmployeeID</th>\n",
       "      <th>EnvironmentSatisfaction</th>\n",
       "      <th>JobSatisfaction</th>\n",
       "      <th>WorkLifeBalance</th>\n",
       "    </tr>\n",
       "  </thead>\n",
       "  <tbody>\n",
       "  </tbody>\n",
       "</table>\n",
       "</div>"
      ],
      "text/plain": [
       "Empty DataFrame\n",
       "Columns: [EmployeeID, EnvironmentSatisfaction, JobSatisfaction, WorkLifeBalance]\n",
       "Index: []"
      ]
     },
     "execution_count": 186,
     "metadata": {},
     "output_type": "execute_result"
    }
   ],
   "source": [
    "outliers"
   ]
  },
  {
   "cell_type": "code",
   "execution_count": 191,
   "id": "1a319002-a874-42a2-a112-edaa23135b02",
   "metadata": {},
   "outputs": [],
   "source": [
    "df.to_csv(\"employee_survey_data1.csv\")"
   ]
  },
  {
   "cell_type": "code",
   "execution_count": 189,
   "id": "7638de9f-6f91-42f8-be88-694e4c7941ff",
   "metadata": {},
   "outputs": [
    {
     "data": {
      "text/plain": [
       "EmployeeID                 0\n",
       "EnvironmentSatisfaction    0\n",
       "JobSatisfaction            0\n",
       "WorkLifeBalance            0\n",
       "dtype: int64"
      ]
     },
     "execution_count": 189,
     "metadata": {},
     "output_type": "execute_result"
    }
   ],
   "source": [
    "df.isnull().sum()"
   ]
  },
  {
   "cell_type": "code",
   "execution_count": null,
   "id": "1ebf823a-52a8-437d-9621-ab0146bc679d",
   "metadata": {},
   "outputs": [],
   "source": []
  }
 ],
 "metadata": {
  "kernelspec": {
   "display_name": "Python [conda env:base] *",
   "language": "python",
   "name": "conda-base-py"
  },
  "language_info": {
   "codemirror_mode": {
    "name": "ipython",
    "version": 3
   },
   "file_extension": ".py",
   "mimetype": "text/x-python",
   "name": "python",
   "nbconvert_exporter": "python",
   "pygments_lexer": "ipython3",
   "version": "3.12.7"
  }
 },
 "nbformat": 4,
 "nbformat_minor": 5
}
